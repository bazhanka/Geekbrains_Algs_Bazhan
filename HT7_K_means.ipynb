{
  "nbformat": 4,
  "nbformat_minor": 0,
  "metadata": {
    "colab": {
      "name": "HT7 K-means.ipynb",
      "provenance": []
    },
    "kernelspec": {
      "name": "python3",
      "display_name": "Python 3"
    },
    "language_info": {
      "name": "python"
    }
  },
  "cells": [
    {
      "cell_type": "markdown",
      "source": [
        "Задание 1"
      ],
      "metadata": {
        "id": "ZmLpGbxw7A-J"
      }
    },
    {
      "cell_type": "code",
      "execution_count": 1,
      "metadata": {
        "id": "a4PALlLJyzhT"
      },
      "outputs": [],
      "source": [
        "import numpy as np\n",
        "from sklearn import model_selection\n",
        "from sklearn.datasets import load_iris\n",
        "import matplotlib.pyplot as plt\n",
        "from matplotlib.colors import ListedColormap"
      ]
    },
    {
      "cell_type": "code",
      "source": [
        "X, y = load_iris(return_X_y=True)\n",
        "X = X[:, :2]"
      ],
      "metadata": {
        "id": "GcLRaaccy2R5"
      },
      "execution_count": 2,
      "outputs": []
    },
    {
      "cell_type": "code",
      "source": [
        "X_train, X_test, y_train, y_test = model_selection.train_test_split(X, y, test_size=0.2, random_state=1)"
      ],
      "metadata": {
        "id": "oydJ9dH_y6Wy"
      },
      "execution_count": 3,
      "outputs": []
    },
    {
      "cell_type": "code",
      "source": [
        "cmap = ListedColormap(['red', 'green', 'blue'])\n",
        "plt.figure(figsize=(7, 7))\n",
        "plt.scatter(X[:, 0], X[:, 1], c=y, cmap=cmap)"
      ],
      "metadata": {
        "colab": {
          "base_uri": "https://localhost:8080/",
          "height": 447
        },
        "id": "sM6y_ML4y8bK",
        "outputId": "d92cb8b5-0060-4e99-9138-e774db991897"
      },
      "execution_count": 4,
      "outputs": [
        {
          "output_type": "execute_result",
          "data": {
            "text/plain": [
              "<matplotlib.collections.PathCollection at 0x7ffb69cd9290>"
            ]
          },
          "metadata": {},
          "execution_count": 4
        },
        {
          "output_type": "display_data",
          "data": {
            "image/png": "[encoded data removed]",
            "text/plain": [
              "<Figure size 504x504 with 1 Axes>"
            ]
          },
          "metadata": {
            "needs_background": "light"
          }
        }
      ]
    },
    {
      "cell_type": "code",
      "source": [
        "def e_metrics(x1, x2):\n",
        "    \n",
        "    distance = 0\n",
        "    for i in range(len(x1)):\n",
        "        distance += np.square(x1[i] - x2[i])\n",
        "      \n",
        "    return np.sqrt(distance)"
      ],
      "metadata": {
        "id": "2dj1E6yzzHK1"
      },
      "execution_count": 5,
      "outputs": []
    },
    {
      "cell_type": "code",
      "source": [
        "def knn(x_train, y_train, x_test, k):\n",
        "    \n",
        "    answers = []\n",
        "    for x in x_test:\n",
        "        test_distances = []\n",
        "            \n",
        "        for i in range(len(x_train)):\n",
        "            \n",
        "            # расчет расстояния от классифицируемого объекта до\n",
        "            # объекта обучающей выборки\n",
        "            distance = e_metrics(x, x_train[i])\n",
        "            \n",
        "            # Записываем в список значение расстояния и ответа на объекте обучающей выборки\n",
        "            test_distances.append((distance, y_train[i]))\n",
        "        \n",
        "        # создаем словарь со всеми возможными классами\n",
        "        classes = {class_item: 0 for class_item in set(y_train)}\n",
        "        \n",
        "        # Сортируем список и среди первых k элементов подсчитаем частоту появления разных классов\n",
        "        for d in sorted(test_distances)[0:k]:\n",
        "            classes[d[1]] += 1\n",
        "        print (classes)\n",
        "            \n",
        "        # Записываем в список ответов наиболее часто встречающийся класс\n",
        "        answers.append(sorted(classes, key=classes.get)[-1])\n",
        "    return answers"
      ],
      "metadata": {
        "id": "zzFZ8LAEzMDk"
      },
      "execution_count": 6,
      "outputs": []
    },
    {
      "cell_type": "code",
      "source": [
        "def accuracy(pred, y):\n",
        "    return (sum(pred == y) / len(y))"
      ],
      "metadata": {
        "id": "r6S-3CYhzQ4Z"
      },
      "execution_count": 7,
      "outputs": []
    },
    {
      "cell_type": "code",
      "source": [
        "k = 1\n",
        "y_pred = knn(X_train, y_train, X_test, k)\n",
        "print(f'Точность алгоритма при k = {k}: {accuracy(y_pred, y_test):.3f}')"
      ],
      "metadata": {
        "colab": {
          "base_uri": "https://localhost:8080/"
        },
        "id": "9-9wK2cyzRSl",
        "outputId": "a764435f-ad47-4c1b-a2e0-b2b596fd343f"
      },
      "execution_count": 8,
      "outputs": [
        {
          "output_type": "stream",
          "name": "stdout",
          "text": [
            "{0: 1, 1: 0, 2: 0}\n",
            "{0: 0, 1: 0, 2: 1}\n",
            "{0: 0, 1: 0, 2: 1}\n",
            "{0: 1, 1: 0, 2: 0}\n",
            "{0: 0, 1: 0, 2: 1}\n",
            "{0: 0, 1: 0, 2: 1}\n",
            "{0: 0, 1: 1, 2: 0}\n",
            "{0: 1, 1: 0, 2: 0}\n",
            "{0: 1, 1: 0, 2: 0}\n",
            "{0: 0, 1: 1, 2: 0}\n",
            "{0: 0, 1: 0, 2: 1}\n",
            "{0: 1, 1: 0, 2: 0}\n",
            "{0: 0, 1: 0, 2: 1}\n",
            "{0: 0, 1: 0, 2: 1}\n",
            "{0: 0, 1: 1, 2: 0}\n",
            "{0: 1, 1: 0, 2: 0}\n",
            "{0: 0, 1: 1, 2: 0}\n",
            "{0: 0, 1: 1, 2: 0}\n",
            "{0: 1, 1: 0, 2: 0}\n",
            "{0: 1, 1: 0, 2: 0}\n",
            "{0: 0, 1: 1, 2: 0}\n",
            "{0: 0, 1: 1, 2: 0}\n",
            "{0: 0, 1: 0, 2: 1}\n",
            "{0: 1, 1: 0, 2: 0}\n",
            "{0: 0, 1: 1, 2: 0}\n",
            "{0: 0, 1: 1, 2: 0}\n",
            "{0: 1, 1: 0, 2: 0}\n",
            "{0: 1, 1: 0, 2: 0}\n",
            "{0: 0, 1: 1, 2: 0}\n",
            "{0: 0, 1: 1, 2: 0}\n",
            "Точность алгоритма при k = 1: 0.667\n"
          ]
        }
      ]
    },
    {
      "cell_type": "code",
      "source": [
        "k = 3\n",
        "y_pred = knn(X_train, y_train, X_test, k)\n",
        "\n",
        "print(f'Точность алгоритма при k = {k}: {accuracy(y_pred, y_test):.3f}')"
      ],
      "metadata": {
        "colab": {
          "base_uri": "https://localhost:8080/"
        },
        "id": "UhxajxxYzXs7",
        "outputId": "5ece5f20-72ae-4e6d-82d0-28ad8b5eb6fc"
      },
      "execution_count": 9,
      "outputs": [
        {
          "output_type": "stream",
          "name": "stdout",
          "text": [
            "{0: 3, 1: 0, 2: 0}\n",
            "{0: 0, 1: 2, 2: 1}\n",
            "{0: 0, 1: 0, 2: 3}\n",
            "{0: 3, 1: 0, 2: 0}\n",
            "{0: 0, 1: 0, 2: 3}\n",
            "{0: 0, 1: 0, 2: 3}\n",
            "{0: 0, 1: 2, 2: 1}\n",
            "{0: 3, 1: 0, 2: 0}\n",
            "{0: 3, 1: 0, 2: 0}\n",
            "{0: 0, 1: 2, 2: 1}\n",
            "{0: 0, 1: 2, 2: 1}\n",
            "{0: 3, 1: 0, 2: 0}\n",
            "{0: 0, 1: 1, 2: 2}\n",
            "{0: 0, 1: 0, 2: 3}\n",
            "{0: 0, 1: 2, 2: 1}\n",
            "{0: 3, 1: 0, 2: 0}\n",
            "{0: 0, 1: 3, 2: 0}\n",
            "{0: 0, 1: 3, 2: 0}\n",
            "{0: 3, 1: 0, 2: 0}\n",
            "{0: 3, 1: 0, 2: 0}\n",
            "{0: 0, 1: 3, 2: 0}\n",
            "{0: 0, 1: 2, 2: 1}\n",
            "{0: 0, 1: 1, 2: 2}\n",
            "{0: 3, 1: 0, 2: 0}\n",
            "{0: 0, 1: 2, 2: 1}\n",
            "{0: 0, 1: 2, 2: 1}\n",
            "{0: 3, 1: 0, 2: 0}\n",
            "{0: 3, 1: 0, 2: 0}\n",
            "{0: 0, 1: 2, 2: 1}\n",
            "{0: 0, 1: 2, 2: 1}\n",
            "Точность алгоритма при k = 3: 0.733\n"
          ]
        }
      ]
    },
    {
      "cell_type": "code",
      "source": [
        "k = 5\n",
        "y_pred = knn(X_train, y_train, X_test, k)\n",
        "\n",
        "print(f'Точность алгоритма при k = {k}: {accuracy(y_pred, y_test):.3f}')"
      ],
      "metadata": {
        "colab": {
          "base_uri": "https://localhost:8080/"
        },
        "id": "esKCG6bszZFD",
        "outputId": "a57062a1-4a42-4183-ea72-73a871c80f91"
      },
      "execution_count": 10,
      "outputs": [
        {
          "output_type": "stream",
          "name": "stdout",
          "text": [
            "{0: 5, 1: 0, 2: 0}\n",
            "{0: 0, 1: 4, 2: 1}\n",
            "{0: 0, 1: 1, 2: 4}\n",
            "{0: 5, 1: 0, 2: 0}\n",
            "{0: 0, 1: 0, 2: 5}\n",
            "{0: 0, 1: 0, 2: 5}\n",
            "{0: 0, 1: 2, 2: 3}\n",
            "{0: 5, 1: 0, 2: 0}\n",
            "{0: 5, 1: 0, 2: 0}\n",
            "{0: 0, 1: 2, 2: 3}\n",
            "{0: 0, 1: 4, 2: 1}\n",
            "{0: 5, 1: 0, 2: 0}\n",
            "{0: 0, 1: 2, 2: 3}\n",
            "{0: 0, 1: 0, 2: 5}\n",
            "{0: 0, 1: 4, 2: 1}\n",
            "{0: 5, 1: 0, 2: 0}\n",
            "{0: 0, 1: 3, 2: 2}\n",
            "{0: 0, 1: 4, 2: 1}\n",
            "{0: 5, 1: 0, 2: 0}\n",
            "{0: 5, 1: 0, 2: 0}\n",
            "{0: 0, 1: 5, 2: 0}\n",
            "{0: 0, 1: 4, 2: 1}\n",
            "{0: 0, 1: 2, 2: 3}\n",
            "{0: 5, 1: 0, 2: 0}\n",
            "{0: 0, 1: 2, 2: 3}\n",
            "{0: 0, 1: 3, 2: 2}\n",
            "{0: 5, 1: 0, 2: 0}\n",
            "{0: 5, 1: 0, 2: 0}\n",
            "{0: 0, 1: 4, 2: 1}\n",
            "{0: 0, 1: 2, 2: 3}\n",
            "Точность алгоритма при k = 5: 0.867\n"
          ]
        }
      ]
    },
    {
      "cell_type": "code",
      "source": [
        "k = 10\n",
        "y_pred = knn(X_train, y_train, X_test, k)\n",
        "\n",
        "print(f'Точность алгоритма при k = {k}: {accuracy(y_pred, y_test):.3f}')"
      ],
      "metadata": {
        "colab": {
          "base_uri": "https://localhost:8080/"
        },
        "id": "Z298aebFza5R",
        "outputId": "e0c746dd-9db8-41d7-879d-c217dd6dee91"
      },
      "execution_count": 11,
      "outputs": [
        {
          "output_type": "stream",
          "name": "stdout",
          "text": [
            "{0: 8, 1: 1, 2: 1}\n",
            "{0: 1, 1: 8, 2: 1}\n",
            "{0: 0, 1: 4, 2: 6}\n",
            "{0: 10, 1: 0, 2: 0}\n",
            "{0: 0, 1: 1, 2: 9}\n",
            "{0: 0, 1: 2, 2: 8}\n",
            "{0: 0, 1: 4, 2: 6}\n",
            "{0: 10, 1: 0, 2: 0}\n",
            "{0: 10, 1: 0, 2: 0}\n",
            "{0: 0, 1: 4, 2: 6}\n",
            "{0: 0, 1: 7, 2: 3}\n",
            "{0: 10, 1: 0, 2: 0}\n",
            "{0: 0, 1: 3, 2: 7}\n",
            "{0: 0, 1: 1, 2: 9}\n",
            "{0: 0, 1: 6, 2: 4}\n",
            "{0: 10, 1: 0, 2: 0}\n",
            "{0: 0, 1: 6, 2: 4}\n",
            "{0: 0, 1: 7, 2: 3}\n",
            "{0: 10, 1: 0, 2: 0}\n",
            "{0: 10, 1: 0, 2: 0}\n",
            "{0: 0, 1: 8, 2: 2}\n",
            "{0: 3, 1: 6, 2: 1}\n",
            "{0: 0, 1: 4, 2: 6}\n",
            "{0: 10, 1: 0, 2: 0}\n",
            "{0: 0, 1: 2, 2: 8}\n",
            "{0: 0, 1: 6, 2: 4}\n",
            "{0: 10, 1: 0, 2: 0}\n",
            "{0: 10, 1: 0, 2: 0}\n",
            "{0: 0, 1: 5, 2: 5}\n",
            "{0: 0, 1: 3, 2: 7}\n",
            "Точность алгоритма при k = 10: 0.833\n"
          ]
        }
      ]
    },
    {
      "cell_type": "code",
      "source": [
        "def knn_w(x_train, y_train, x_test, k):\n",
        "    \n",
        "    answers = []\n",
        "    for x in x_test:\n",
        "        test_distances = []\n",
        "            \n",
        "        for i in range(len(x_train)):\n",
        "            \n",
        "            # расчет расстояния от классифицируемого объекта до\n",
        "            # объекта обучающей выборки\n",
        "            distance = e_metrics(x, x_train[i])\n",
        "            \n",
        "            # Записываем в список значение расстояния и ответа на объекте обучающей выборки\n",
        "            test_distances.append((distance, y_train[i]))\n",
        "        \n",
        "        # создаем словарь со всеми возможными классами\n",
        "        classes = {class_item: 0 for class_item in set(y_train)}\n",
        "        \n",
        "        # Сортируем список и среди первых k элементов подсчитаем частоту появления разных классов\n",
        "        for d in sorted(test_distances)[0:k]:\n",
        "            classes[d[1]] += 1/((d[0]+10e-6)**10e-6)\n",
        "        print (classes)\n",
        "            \n",
        "        # Записываем в список ответов наиболее часто встречающийся класс\n",
        "        answers.append(sorted(classes, key=classes.get)[-1])\n",
        "    return answers"
      ],
      "metadata": {
        "id": "CC4umokwziW0"
      },
      "execution_count": 12,
      "outputs": []
    },
    {
      "cell_type": "code",
      "source": [
        "k = 1\n",
        "y_pred = knn_w(X_train, y_train, X_test, k)\n",
        "\n",
        "print(f'Точность алгоритма c весами при k = {k}: {accuracy(y_pred, y_test):.3f}')"
      ],
      "metadata": {
        "colab": {
          "base_uri": "https://localhost:8080/"
        },
        "id": "5ee0hK45z4YP",
        "outputId": "26c58b80-a8da-45cc-d0c7-10c67a62c582"
      },
      "execution_count": 13,
      "outputs": [
        {
          "output_type": "stream",
          "name": "stdout",
          "text": [
            "{0: 1.0000149783263381, 1: 0, 2: 0}\n",
            "{0: 0, 1: 0, 2: 1.000016094008644}\n",
            "{0: 0, 1: 0, 2: 1.0000230251160538}\n",
            "{0: 1.000016094008644, 1: 0, 2: 0}\n",
            "{0: 0, 1: 0, 2: 1.000016094008644}\n",
            "{0: 0, 1: 0, 2: 1.0001151358822766}\n",
            "{0: 0, 1: 1.0001151358822766, 2: 0}\n",
            "{0: 1.0001151358822766, 1: 0, 2: 0}\n",
            "{0: 1.0001151358822766, 1: 0, 2: 0}\n",
            "{0: 0, 1: 1.0000230251160538, 2: 0}\n",
            "{0: 0, 1: 0, 2: 1.0000230251160538}\n",
            "{0: 1.000016094008644, 1: 0, 2: 0}\n",
            "{0: 0, 1: 0, 2: 1.0000230251160538}\n",
            "{0: 0, 1: 0, 2: 1.0001151358822766}\n",
            "{0: 0, 1: 1.0000230251160538, 2: 0}\n",
            "{0: 1.000016094008644, 1: 0, 2: 0}\n",
            "{0: 0, 1: 1.0000230251160538, 2: 0}\n",
            "{0: 0, 1: 1.0001151358822766, 2: 0}\n",
            "{0: 1.0001151358822766, 1: 0, 2: 0}\n",
            "{0: 1.0000230251160538, 1: 0, 2: 0}\n",
            "{0: 0, 1: 1.0000230251160538, 2: 0}\n",
            "{0: 0, 1: 1.000016094008644, 2: 0}\n",
            "{0: 0, 1: 0, 2: 1.0001151358822766}\n",
            "{0: 1.0001151358822766, 1: 0, 2: 0}\n",
            "{0: 0, 1: 1.000016094008644, 2: 0}\n",
            "{0: 0, 1: 1.0001151358822766, 2: 0}\n",
            "{0: 1.0000126283694115, 1: 0, 2: 0}\n",
            "{0: 1.0001151358822766, 1: 0, 2: 0}\n",
            "{0: 0, 1: 1.0001151358822766, 2: 0}\n",
            "{0: 0, 1: 1.0001151358822766, 2: 0}\n",
            "Точность алгоритма c весами при k = 1: 0.667\n"
          ]
        }
      ]
    },
    {
      "cell_type": "code",
      "source": [
        "k = 3\n",
        "y_pred = knn_w(X_train, y_train, X_test, k)\n",
        "\n",
        "print(f'Точность алгоритма c весами при k = {k}: {accuracy(y_pred, y_test):.3f}')"
      ],
      "metadata": {
        "colab": {
          "base_uri": "https://localhost:8080/"
        },
        "id": "BTJUBRMv02jw",
        "outputId": "711020f9-5076-4285-f901-b9771b8280f0"
      },
      "execution_count": 14,
      "outputs": [
        {
          "output_type": "stream",
          "name": "stdout",
          "text": [
            "{0: 3.00003076920309, 1: 0, 2: 0}\n",
            "{0: 0, 1: 2.0000299566526762, 2: 1.000016094008644}\n",
            "{0: 0, 1: 0, 2: 3.0000690753481614}\n",
            "{0: 3.000043700704394, 1: 0, 2: 0}\n",
            "{0: 0, 1: 0, 2: 3.0000211964606804}\n",
            "{0: 0, 1: 0, 2: 3.0001577205975622}\n",
            "{0: 0, 1: 2.0001346954815085, 2: 1.0001151358822766}\n",
            "{0: 3.0001531393246683, 1: 0, 2: 0}\n",
            "{0: 3.0001577205975622, 1: 0, 2: 0}\n",
            "{0: 0, 1: 2.0000460502321076, 2: 1.0000230251160538}\n",
            "{0: 0, 1: 2.0000391191984637, 2: 1.0000230251160538}\n",
            "{0: 3.000043700704394, 1: 0, 2: 0}\n",
            "{0: 0, 1: 1.0000149783263381, 2: 2.000038003442392}\n",
            "{0: 0, 1: 0, 2: 3.000161186114384}\n",
            "{0: 0, 1: 2.0000425847152856, 2: 1.0000230251160538}\n",
            "{0: 3.0000471663436263, 1: 0, 2: 0}\n",
            "{0: 0, 1: 3.0000690753481614, 2: 0}\n",
            "{0: 0, 1: 3.000161186114384, 2: 0}\n",
            "{0: 3.0001507894901525, 1: 0, 2: 0}\n",
            "{0: 3.0000621443145175, 1: 0, 2: 0}\n",
            "{0: 0, 1: 3.0000586787239296, 2: 0}\n",
            "{0: 0, 1: 2.0000310723349823, 2: 1.0000126283694115}\n",
            "{0: 0, 1: 1.0000230251160538, 2: 2.0001381609983304}\n",
            "{0: 3.000161186114384, 1: 0, 2: 0}\n",
            "{0: 0, 1: 2.0000276066841565, 2: 1.000016094008644}\n",
            "{0: 0, 1: 2.0001381609983304, 2: 1.0000230251160538}\n",
            "{0: 3.0000321880432588, 1: 0, 2: 0}\n",
            "{0: 3.0001531393246683, 1: 0, 2: 0}\n",
            "{0: 0, 1: 2.0001381609983304, 2: 1.0000230251160538}\n",
            "{0: 0, 1: 2.0001312298909206, 2: 1.000016094008644}\n",
            "Точность алгоритма c весами при k = 3: 0.733\n"
          ]
        }
      ]
    },
    {
      "cell_type": "code",
      "source": [
        "k = 5\n",
        "y_pred = knn_w(X_train, y_train, X_test, k)\n",
        "\n",
        "print(f'Точность алгоритма c весами при k = {k}: {accuracy(y_pred, y_test):.3f}')"
      ],
      "metadata": {
        "colab": {
          "base_uri": "https://localhost:8080/"
        },
        "id": "1MgKCCQR04B4",
        "outputId": "8dc3c0f3-8145-469d-b075-d4960ac2ca51"
      },
      "execution_count": 15,
      "outputs": [
        {
          "output_type": "stream",
          "name": "stdout",
          "text": [
            "{0: 5.000041556985803, 1: 0, 2: 0}\n",
            "{0: 0, 1: 4.000054097678314, 2: 1.000016094008644}\n",
            "{0: 0, 1: 1.0000230251160538, 2: 4.000092100464215}\n",
            "{0: 5.000066726055419, 1: 0, 2: 0}\n",
            "{0: 0, 1: 0, 2: 5.000022573696998}\n",
            "{0: 0, 1: 0, 2: 5.000192258523133}\n",
            "{0: 0, 1: 2.0001346954815085, 2: 3.0001542550807403}\n",
            "{0: 5.000180746020418, 1: 0, 2: 0}\n",
            "{0: 5.000192258523133, 1: 0, 2: 0}\n",
            "{0: 0, 1: 2.0000460502321076, 2: 3.000061028558446}\n",
            "{0: 0, 1: 4.000071307215752, 2: 1.0000230251160538}\n",
            "{0: 5.000066726055419, 1: 0, 2: 0}\n",
            "{0: 0, 1: 2.0000299566526762, 2: 3.0000529817687305}\n",
            "{0: 0, 1: 0, 2: 5.000195724039954}\n",
            "{0: 0, 1: 4.000081703913749, 2: 1.0000230251160538}\n",
            "{0: 5.000074773039376, 1: 0, 2: 0}\n",
            "{0: 0, 1: 3.0000690753481614, 2: 2.0000460502321076}\n",
            "{0: 0, 1: 4.000180745713616, 2: 1.000016094008644}\n",
            "{0: 5.00017780728368, 1: 0, 2: 0}\n",
            "{0: 5.000097797922393, 1: 0, 2: 0}\n",
            "{0: 0, 1: 5.000090866741218, 2: 0}\n",
            "{0: 0, 1: 4.000054624477684, 2: 1.0000126283694115}\n",
            "{0: 0, 1: 2.0000460502321076, 2: 3.000161186114384}\n",
            "{0: 5.000207236346492, 1: 0, 2: 0}\n",
            "{0: 0, 1: 2.0000276066841565, 2: 3.000039119359669}\n",
            "{0: 0, 1: 3.0001577205975622, 2: 2.0000460502321076}\n",
            "{0: 5.0000451124433045, 1: 0, 2: 0}\n",
            "{0: 5.000180746020418, 1: 0, 2: 0}\n",
            "{0: 0, 1: 4.0001772801967945, 2: 1.0000230251160538}\n",
            "{0: 0, 1: 2.0001312298909206, 2: 3.0000460506613207}\n",
            "Точность алгоритма c весами при k = 5: 0.867\n"
          ]
        }
      ]
    },
    {
      "cell_type": "code",
      "source": [
        "k = 10\n",
        "y_pred = knn_w(X_train, y_train, X_test, k)\n",
        "\n",
        "print(f'Точность алгоритма c весами при k = {k}: {accuracy(y_pred, y_test):.3f}')"
      ],
      "metadata": {
        "colab": {
          "base_uri": "https://localhost:8080/"
        },
        "id": "KSIX-x-X049h",
        "outputId": "2b4414b5-c3be-4ef1-96bb-93c537e0a1c7"
      },
      "execution_count": 16,
      "outputs": [
        {
          "output_type": "stream",
          "name": "stdout",
          "text": [
            "{0: 8.000052971853176, 1: 1.000004581306041, 2: 1.0000032694990078}\n",
            "{0: 1.000006735194807, 1: 8.000086795134324, 2: 1.000016094008644}\n",
            "{0: 0, 1: 4.000077122640856, 2: 6.000127754072091}\n",
            "{0: 10.00010769610516, 1: 0, 2: 0}\n",
            "{0: 0, 1: 0.9999992148891146, 2: 9.00001810130677}\n",
            "{0: 0, 1: 2.0000217135543377, 2: 8.000227638607122}\n",
            "{0: 0, 1: 4.000166883498796, 2: 6.000197955785134}\n",
            "{0: 10.000239362981336, 1: 0, 2: 0}\n",
            "{0: 10.000267150154823, 1: 0, 2: 0}\n",
            "{0: 0, 1: 4.000076006884784, 2: 6.000105963537461}\n",
            "{0: 0, 1: 7.000118473559378, 2: 3.000055213133342}\n",
            "{0: 10.00010769610516, 1: 0, 2: 0}\n",
            "{0: 0, 1: 3.000040157531501, 2: 7.000094585692869}\n",
            "{0: 0, 1: 1.0000120394671892, 2: 9.00025328738838}\n",
            "{0: 0, 1: 6.000113891931037, 2: 4.000077122640856}\n",
            "{0: 10.000123805551349, 1: 0, 2: 0}\n",
            "{0: 0, 1: 6.000114010327176, 2: 4.000081703839983}\n",
            "{0: 0, 1: 7.0002179643859685, 2: 3.000040761845245}\n",
            "{0: 10.00023589745292, 1: 0, 2: 0}\n",
            "{0: 10.000174920918694, 1: 0, 2: 0}\n",
            "{0: 0, 1: 8.000127047253331, 2: 2.0000299566526762}\n",
            "{0: 3.000026899191794, 1: 6.000075026235335, 2: 1.0000126283694115}\n",
            "{0: 0, 1: 4.000080588157678, 2: 6.000209468140316}\n",
            "{0: 10.000301568678296, 1: 0, 2: 0}\n",
            "{0: 0, 1: 2.0000276066841565, 2: 8.000081585753273}\n",
            "{0: 0, 1: 6.00021293380467, 2: 4.000085169430571}\n",
            "{0: 10.000064028776386, 1: 0, 2: 0}\n",
            "{0: 10.000239362981336, 1: 0, 2: 0}\n",
            "{0: 0, 1: 5.0001933742054385, 2: 5.000086285468324}\n",
            "{0: 0, 1: 3.000142742566433, 2: 7.0000926281550475}\n",
            "Точность алгоритма c весами при k = 10: 0.867\n"
          ]
        }
      ]
    },
    {
      "cell_type": "code",
      "source": [
        "def knn_wi(x_train, y_train, x_test, k):\n",
        "    \n",
        "    answers = []\n",
        "    for x in x_test:\n",
        "        test_distances = []\n",
        "            \n",
        "        for i in range(len(x_train)):\n",
        "            \n",
        "            # расчет расстояния от классифицируемого объекта до\n",
        "            # объекта обучающей выборки\n",
        "            distance = e_metrics(x, x_train[i])\n",
        "            \n",
        "            # Записываем в список значение расстояния и ответа на объекте обучающей выборки\n",
        "            test_distances.append((distance, y_train[i]))\n",
        "        \n",
        "        # создаем словарь со всеми возможными классами\n",
        "        classes = {class_item: 0 for class_item in set(y_train)}\n",
        "        \n",
        "        # Сортируем список и среди первых k элементов подсчитаем частоту появления разных классов\n",
        "        q = 0.5\n",
        "        for d in sorted(test_distances)[0:k]:\n",
        "            classes[d[1]] += q**(d[0])\n",
        "            print (classes)\n",
        "                        \n",
        "        # Записываем в список ответов наиболее часто встречающийся класс\n",
        "        answers.append(sorted(classes, key=classes.get)[-1])\n",
        "    return answers"
      ],
      "metadata": {
        "id": "XML3DuQm43Nk"
      },
      "execution_count": 17,
      "outputs": []
    },
    {
      "cell_type": "code",
      "source": [
        "k = 1\n",
        "y_pred = knn_wi(X_train, y_train, X_test, k)\n",
        "\n",
        "print(f'Точность алгоритма c весами при k = {k}: {accuracy(y_pred, y_test):.3f}')"
      ],
      "metadata": {
        "colab": {
          "base_uri": "https://localhost:8080/"
        },
        "id": "vPzq2vb25Q9K",
        "outputId": "39d7426b-386f-454f-eb49-ad4eea265dae"
      },
      "execution_count": 18,
      "outputs": [
        {
          "output_type": "stream",
          "name": "stdout",
          "text": [
            "{0: 0.8564216679239087, 1: 0, 2: 0}\n",
            "{0: 0, 1: 0, 2: 0.8705505632961246}\n",
            "{0: 0, 1: 0, 2: 0.9330329915368076}\n",
            "{0: 0.8705505632961243, 1: 0, 2: 0}\n",
            "{0: 0, 1: 0, 2: 0.870550563296124}\n",
            "{0: 0, 1: 0, 2: 1.0}\n",
            "{0: 0, 1: 1.0, 2: 0}\n",
            "{0: 1.0, 1: 0, 2: 0}\n",
            "{0: 1.0, 1: 0, 2: 0}\n",
            "{0: 0, 1: 0.9330329915368076, 2: 0}\n",
            "{0: 0, 1: 0, 2: 0.9330329915368076}\n",
            "{0: 0.8705505632961243, 1: 0, 2: 0}\n",
            "{0: 0, 1: 0, 2: 0.9330329915368071}\n",
            "{0: 0, 1: 0, 2: 1.0}\n",
            "{0: 0, 1: 0.9330329915368076, 2: 0}\n",
            "{0: 0.8705505632961246, 1: 0, 2: 0}\n",
            "{0: 0, 1: 0.9330329915368076, 2: 0}\n",
            "{0: 0, 1: 1.0, 2: 0}\n",
            "{0: 1.0, 1: 0, 2: 0}\n",
            "{0: 0.9330329915368076, 1: 0, 2: 0}\n",
            "{0: 0, 1: 0.9330329915368074, 2: 0}\n",
            "{0: 0, 1: 0.8705505632961246, 2: 0}\n",
            "{0: 0, 1: 0, 2: 1.0}\n",
            "{0: 1.0, 1: 0, 2: 0}\n",
            "{0: 0, 1: 0.870550563296124, 2: 0}\n",
            "{0: 0, 1: 1.0, 2: 0}\n",
            "{0: 0.8219697963558238, 1: 0, 2: 0}\n",
            "{0: 1.0, 1: 0, 2: 0}\n",
            "{0: 0, 1: 1.0, 2: 0}\n",
            "{0: 0, 1: 1.0, 2: 0}\n",
            "Точность алгоритма c весами при k = 1: 0.667\n"
          ]
        }
      ]
    },
    {
      "cell_type": "code",
      "source": [
        "k = 3\n",
        "y_pred = knn_wi(X_train, y_train, X_test, k)\n",
        "\n",
        "print(f'Точность алгоритма c весами при k = {k}: {accuracy(y_pred, y_test):.3f}')"
      ],
      "metadata": {
        "colab": {
          "base_uri": "https://localhost:8080/"
        },
        "id": "cNr5Ax-j6QYp",
        "outputId": "7d96e331-c8f0-4f19-b15d-ac0278b50557"
      },
      "execution_count": 19,
      "outputs": [
        {
          "output_type": "stream",
          "name": "stdout",
          "text": [
            "{0: 0.8564216679239087, 1: 0, 2: 0}\n",
            "{0: 1.6078406349175531, 1: 0, 2: 0}\n",
            "{0: 2.314947416104101, 1: 0, 2: 0}\n",
            "{0: 0, 1: 0, 2: 0.8705505632961246}\n",
            "{0: 0, 1: 0.8564216679239091, 2: 0.8705505632961246}\n",
            "{0: 0, 1: 1.712843335847818, 2: 0.8705505632961246}\n",
            "{0: 0, 1: 0, 2: 0.9330329915368076}\n",
            "{0: 0, 1: 0, 2: 1.8660659830736153}\n",
            "{0: 0, 1: 0, 2: 2.799098974610423}\n",
            "{0: 0.8705505632961243, 1: 0, 2: 0}\n",
            "{0: 1.726972231220033, 1: 0, 2: 0}\n",
            "{0: 2.548942027575857, 1: 0, 2: 0}\n",
            "{0: 0, 1: 0, 2: 0.870550563296124}\n",
            "{0: 0, 1: 0, 2: 1.474286260400563}\n",
            "{0: 0, 1: 0, 2: 2.038916724358359}\n",
            "{0: 0, 1: 0, 2: 1.0}\n",
            "{0: 0, 1: 0, 2: 1.9330329915368074}\n",
            "{0: 0, 1: 0, 2: 2.8396584910435356}\n",
            "{0: 0, 1: 1.0, 2: 0}\n",
            "{0: 0, 1: 1.0, 2: 1.0}\n",
            "{0: 0, 1: 1.906625499506728, 2: 1.0}\n",
            "{0: 1.0, 1: 0, 2: 0}\n",
            "{0: 1.9330329915368076, 1: 0, 2: 0}\n",
            "{0: 2.7894546594607164, 1: 0, 2: 0}\n",
            "{0: 1.0, 1: 0, 2: 0}\n",
            "{0: 1.9330329915368072, 1: 0, 2: 0}\n",
            "{0: 2.839658491043535, 1: 0, 2: 0}\n",
            "{0: 0, 1: 0.9330329915368076, 2: 0}\n",
            "{0: 0, 1: 1.866065983073615, 2: 0}\n",
            "{0: 0, 1: 1.866065983073615, 2: 0.9330329915368074}\n",
            "{0: 0, 1: 0, 2: 0.9330329915368076}\n",
            "{0: 0, 1: 0.9066254995067279, 2: 0.9330329915368076}\n",
            "{0: 0, 1: 1.8132509990134555, 2: 0.9330329915368076}\n",
            "{0: 0.8705505632961243, 1: 0, 2: 0}\n",
            "{0: 1.726972231220033, 1: 0, 2: 0}\n",
            "{0: 2.548942027575857, 1: 0, 2: 0}\n",
            "{0: 0, 1: 0, 2: 0.9330329915368071}\n",
            "{0: 0, 1: 0.8564216679239091, 2: 0.9330329915368071}\n",
            "{0: 0, 1: 0.8564216679239091, 2: 1.7894546594607161}\n",
            "{0: 0, 1: 0, 2: 1.0}\n",
            "{0: 0, 1: 0, 2: 1.9330329915368076}\n",
            "{0: 0, 1: 0, 2: 2.8660659830736153}\n",
            "{0: 0, 1: 0.9330329915368076, 2: 0}\n",
            "{0: 0, 1: 0.9330329915368076, 2: 0.9330329915368074}\n",
            "{0: 0, 1: 1.8396584910435356, 2: 0.9330329915368074}\n",
            "{0: 0.8705505632961246, 1: 0, 2: 0}\n",
            "{0: 1.7411011265922487, 1: 0, 2: 0}\n",
            "{0: 2.597522794516158, 1: 0, 2: 0}\n",
            "{0: 0, 1: 0.9330329915368076, 2: 0}\n",
            "{0: 0, 1: 1.866065983073615, 2: 0}\n",
            "{0: 0, 1: 2.7990989746104225, 2: 0}\n",
            "{0: 0, 1: 1.0, 2: 0}\n",
            "{0: 0, 1: 1.9330329915368074, 2: 0}\n",
            "{0: 0, 1: 2.8660659830736144, 2: 0}\n",
            "{0: 1.0, 1: 0, 2: 0}\n",
            "{0: 1.906625499506728, 1: 0, 2: 0}\n",
            "{0: 2.777176062802852, 1: 0, 2: 0}\n",
            "{0: 0.9330329915368076, 1: 0, 2: 0}\n",
            "{0: 1.8396584910435358, 1: 0, 2: 0}\n",
            "{0: 2.746283990550264, 1: 0, 2: 0}\n",
            "{0: 0, 1: 0.9330329915368074, 2: 0}\n",
            "{0: 0, 1: 1.8396584910435356, 2: 0}\n",
            "{0: 0, 1: 2.7102090543396598, 2: 0}\n",
            "{0: 0, 1: 0.8705505632961246, 2: 0}\n",
            "{0: 0, 1: 1.7269722312200337, 2: 0}\n",
            "{0: 0, 1: 1.7269722312200337, 2: 0.8219697963558241}\n",
            "{0: 0, 1: 0, 2: 1.0}\n",
            "{0: 0, 1: 0, 2: 1.9330329915368076}\n",
            "{0: 0, 1: 0.9330329915368074, 2: 1.9330329915368076}\n",
            "{0: 1.0, 1: 0, 2: 0}\n",
            "{0: 1.9330329915368076, 1: 0, 2: 0}\n",
            "{0: 2.8660659830736153, 1: 0, 2: 0}\n",
            "{0: 0, 1: 0.870550563296124, 2: 0}\n",
            "{0: 0, 1: 0.870550563296124, 2: 0.870550563296124}\n",
            "{0: 0, 1: 1.6737177497246516, 2: 0.870550563296124}\n",
            "{0: 0, 1: 1.0, 2: 0}\n",
            "{0: 0, 1: 1.0, 2: 0.9330329915368076}\n",
            "{0: 0, 1: 1.9330329915368074, 2: 0.9330329915368076}\n",
            "{0: 0.8219697963558238, 1: 0, 2: 0}\n",
            "{0: 1.6251369827843514, 1: 0, 2: 0}\n",
            "{0: 2.358595056073921, 1: 0, 2: 0}\n",
            "{0: 1.0, 1: 0, 2: 0}\n",
            "{0: 1.9330329915368076, 1: 0, 2: 0}\n",
            "{0: 2.7894546594607164, 1: 0, 2: 0}\n",
            "{0: 0, 1: 1.0, 2: 0}\n",
            "{0: 0, 1: 1.9330329915368074, 2: 0}\n",
            "{0: 0, 1: 1.9330329915368074, 2: 0.9330329915368071}\n",
            "{0: 0, 1: 1.0, 2: 0}\n",
            "{0: 0, 1: 1.8705505632961241, 2: 0}\n",
            "{0: 0, 1: 1.8705505632961241, 2: 0.870550563296124}\n",
            "Точность алгоритма c весами при k = 3: 0.733\n"
          ]
        }
      ]
    },
    {
      "cell_type": "code",
      "source": [
        "k = 5\n",
        "y_pred = knn_wi(X_train, y_train, X_test, k)\n",
        "\n",
        "print(f'Точность алгоритма c весами при k = {k}: {accuracy(y_pred, y_test):.3f}')"
      ],
      "metadata": {
        "colab": {
          "base_uri": "https://localhost:8080/"
        },
        "id": "1qmEuF4e6RhF",
        "outputId": "d45ca660-94ce-4c5a-c76f-bbf612e2fb4d"
      },
      "execution_count": 20,
      "outputs": [
        {
          "output_type": "stream",
          "name": "stdout",
          "text": [
            "{0: 0.8564216679239087, 1: 0, 2: 0}\n",
            "{0: 1.6078406349175531, 1: 0, 2: 0}\n",
            "{0: 2.314947416104101, 1: 0, 2: 0}\n",
            "{0: 2.9824775224471, 1: 0, 2: 0}\n",
            "{0: 3.650007628790099, 1: 0, 2: 0}\n",
            "{0: 0, 1: 0, 2: 0.8705505632961246}\n",
            "{0: 0, 1: 0.8564216679239091, 2: 0.8705505632961246}\n",
            "{0: 0, 1: 1.712843335847818, 2: 0.8705505632961246}\n",
            "{0: 0, 1: 2.5692650037717266, 2: 0.8705505632961246}\n",
            "{0: 0, 1: 3.3271232870269256, 2: 0.8705505632961246}\n",
            "{0: 0, 1: 0, 2: 0.9330329915368076}\n",
            "{0: 0, 1: 0, 2: 1.8660659830736153}\n",
            "{0: 0, 1: 0, 2: 2.799098974610423}\n",
            "{0: 0, 1: 0.9330329915368074, 2: 2.799098974610423}\n",
            "{0: 0, 1: 0.9330329915368074, 2: 3.73213196614723}\n",
            "{0: 0.8705505632961243, 1: 0, 2: 0}\n",
            "{0: 1.726972231220033, 1: 0, 2: 0}\n",
            "{0: 2.548942027575857, 1: 0, 2: 0}\n",
            "{0: 3.3521092140043844, 1: 0, 2: 0}\n",
            "{0: 4.1552764004329115, 1: 0, 2: 0}\n",
            "{0: 0, 1: 0, 2: 0.870550563296124}\n",
            "{0: 0, 1: 0, 2: 1.474286260400563}\n",
            "{0: 0, 1: 0, 2: 2.038916724358359}\n",
            "{0: 0, 1: 0, 2: 2.592011885476575}\n",
            "{0: 0, 1: 0, 2: 3.085195268762749}\n",
            "{0: 0, 1: 0, 2: 1.0}\n",
            "{0: 0, 1: 0, 2: 1.9330329915368074}\n",
            "{0: 0, 1: 0, 2: 2.8396584910435356}\n",
            "{0: 0, 1: 0, 2: 3.7462839905502636}\n",
            "{0: 0, 1: 0, 2: 4.602705658474172}\n",
            "{0: 0, 1: 1.0, 2: 0}\n",
            "{0: 0, 1: 1.0, 2: 1.0}\n",
            "{0: 0, 1: 1.906625499506728, 2: 1.0}\n",
            "{0: 0, 1: 1.906625499506728, 2: 1.9066254995067276}\n",
            "{0: 0, 1: 1.906625499506728, 2: 2.813250999013455}\n",
            "{0: 1.0, 1: 0, 2: 0}\n",
            "{0: 1.9330329915368076, 1: 0, 2: 0}\n",
            "{0: 2.7894546594607164, 1: 0, 2: 0}\n",
            "{0: 3.645876327384625, 1: 0, 2: 0}\n",
            "{0: 4.46784612374045, 1: 0, 2: 0}\n",
            "{0: 1.0, 1: 0, 2: 0}\n",
            "{0: 1.9330329915368072, 1: 0, 2: 0}\n",
            "{0: 2.839658491043535, 1: 0, 2: 0}\n",
            "{0: 3.7462839905502627, 1: 0, 2: 0}\n",
            "{0: 4.6027056584741715, 1: 0, 2: 0}\n",
            "{0: 0, 1: 0.9330329915368076, 2: 0}\n",
            "{0: 0, 1: 1.866065983073615, 2: 0}\n",
            "{0: 0, 1: 1.866065983073615, 2: 0.9330329915368074}\n",
            "{0: 0, 1: 1.866065983073615, 2: 1.8660659830736144}\n",
            "{0: 0, 1: 1.866065983073615, 2: 2.722487650997523}\n",
            "{0: 0, 1: 0, 2: 0.9330329915368076}\n",
            "{0: 0, 1: 0.9066254995067279, 2: 0.9330329915368076}\n",
            "{0: 0, 1: 1.8132509990134555, 2: 0.9330329915368076}\n",
            "{0: 0, 1: 2.68380156230958, 2: 0.9330329915368076}\n",
            "{0: 0, 1: 3.5543521256057042, 2: 0.9330329915368076}\n",
            "{0: 0.8705505632961243, 1: 0, 2: 0}\n",
            "{0: 1.726972231220033, 1: 0, 2: 0}\n",
            "{0: 2.548942027575857, 1: 0, 2: 0}\n",
            "{0: 3.3521092140043844, 1: 0, 2: 0}\n",
            "{0: 4.1552764004329115, 1: 0, 2: 0}\n",
            "{0: 0, 1: 0, 2: 0.9330329915368071}\n",
            "{0: 0, 1: 0.8564216679239091, 2: 0.9330329915368071}\n",
            "{0: 0, 1: 0.8564216679239091, 2: 1.7894546594607161}\n",
            "{0: 0, 1: 1.712843335847818, 2: 1.7894546594607161}\n",
            "{0: 0, 1: 1.712843335847818, 2: 2.6458763273846246}\n",
            "{0: 0, 1: 0, 2: 1.0}\n",
            "{0: 0, 1: 0, 2: 1.9330329915368076}\n",
            "{0: 0, 1: 0, 2: 2.8660659830736153}\n",
            "{0: 0, 1: 0, 2: 3.7726914825803433}\n",
            "{0: 0, 1: 0, 2: 4.629113150504252}\n",
            "{0: 0, 1: 0.9330329915368076, 2: 0}\n",
            "{0: 0, 1: 0.9330329915368076, 2: 0.9330329915368074}\n",
            "{0: 0, 1: 1.8396584910435356, 2: 0.9330329915368074}\n",
            "{0: 0, 1: 2.7462839905502636, 2: 0.9330329915368074}\n",
            "{0: 0, 1: 3.6529094900569916, 2: 0.9330329915368074}\n",
            "{0: 0.8705505632961246, 1: 0, 2: 0}\n",
            "{0: 1.7411011265922487, 1: 0, 2: 0}\n",
            "{0: 2.597522794516158, 1: 0, 2: 0}\n",
            "{0: 3.4539444624400666, 1: 0, 2: 0}\n",
            "{0: 4.275914258795891, 1: 0, 2: 0}\n",
            "{0: 0, 1: 0.9330329915368076, 2: 0}\n",
            "{0: 0, 1: 1.866065983073615, 2: 0}\n",
            "{0: 0, 1: 2.7990989746104225, 2: 0}\n",
            "{0: 0, 1: 2.7990989746104225, 2: 0.9330329915368074}\n",
            "{0: 0, 1: 2.7990989746104225, 2: 1.8660659830736148}\n",
            "{0: 0, 1: 1.0, 2: 0}\n",
            "{0: 0, 1: 1.9330329915368074, 2: 0}\n",
            "{0: 0, 1: 2.8660659830736144, 2: 0}\n",
            "{0: 0, 1: 3.772691482580342, 2: 0}\n",
            "{0: 0, 1: 3.772691482580342, 2: 0.870550563296124}\n",
            "{0: 1.0, 1: 0, 2: 0}\n",
            "{0: 1.906625499506728, 1: 0, 2: 0}\n",
            "{0: 2.777176062802852, 1: 0, 2: 0}\n",
            "{0: 3.633597730726761, 1: 0, 2: 0}\n",
            "{0: 4.445850127082997, 1: 0, 2: 0}\n",
            "{0: 0.9330329915368076, 1: 0, 2: 0}\n",
            "{0: 1.8396584910435358, 1: 0, 2: 0}\n",
            "{0: 2.746283990550264, 1: 0, 2: 0}\n",
            "{0: 3.652909490056992, 1: 0, 2: 0}\n",
            "{0: 4.523460053353117, 1: 0, 2: 0}\n",
            "{0: 0, 1: 0.9330329915368074, 2: 0}\n",
            "{0: 0, 1: 1.8396584910435356, 2: 0}\n",
            "{0: 0, 1: 2.7102090543396598, 2: 0}\n",
            "{0: 0, 1: 3.580759617635784, 2: 0}\n",
            "{0: 0, 1: 4.451310180931908, 2: 0}\n",
            "{0: 0, 1: 0.8705505632961246, 2: 0}\n",
            "{0: 0, 1: 1.7269722312200337, 2: 0}\n",
            "{0: 0, 1: 1.7269722312200337, 2: 0.8219697963558241}\n",
            "{0: 0, 1: 2.539224627576269, 2: 0.8219697963558241}\n",
            "{0: 0, 1: 3.3423918140047966, 2: 0.8219697963558241}\n",
            "{0: 0, 1: 0, 2: 1.0}\n",
            "{0: 0, 1: 0, 2: 1.9330329915368076}\n",
            "{0: 0, 1: 0.9330329915368074, 2: 1.9330329915368076}\n",
            "{0: 0, 1: 1.8660659830736148, 2: 1.9330329915368076}\n",
            "{0: 0, 1: 1.8660659830736148, 2: 2.8660659830736153}\n",
            "{0: 1.0, 1: 0, 2: 0}\n",
            "{0: 1.9330329915368076, 1: 0, 2: 0}\n",
            "{0: 2.8660659830736153, 1: 0, 2: 0}\n",
            "{0: 3.7990989746104225, 1: 0, 2: 0}\n",
            "{0: 4.73213196614723, 1: 0, 2: 0}\n",
            "{0: 0, 1: 0.870550563296124, 2: 0}\n",
            "{0: 0, 1: 0.870550563296124, 2: 0.870550563296124}\n",
            "{0: 0, 1: 1.6737177497246516, 2: 0.870550563296124}\n",
            "{0: 0, 1: 1.6737177497246516, 2: 1.6737177497246516}\n",
            "{0: 0, 1: 1.6737177497246516, 2: 2.476884936153179}\n",
            "{0: 0, 1: 1.0, 2: 0}\n",
            "{0: 0, 1: 1.0, 2: 0.9330329915368076}\n",
            "{0: 0, 1: 1.9330329915368074, 2: 0.9330329915368076}\n",
            "{0: 0, 1: 1.9330329915368074, 2: 1.8660659830736148}\n",
            "{0: 0, 1: 2.8396584910435356, 2: 1.8660659830736148}\n",
            "{0: 0.8219697963558238, 1: 0, 2: 0}\n",
            "{0: 1.6251369827843514, 1: 0, 2: 0}\n",
            "{0: 2.358595056073921, 1: 0, 2: 0}\n",
            "{0: 3.06086522010353, 1: 0, 2: 0}\n",
            "{0: 3.749343725828335, 1: 0, 2: 0}\n",
            "{0: 1.0, 1: 0, 2: 0}\n",
            "{0: 1.9330329915368076, 1: 0, 2: 0}\n",
            "{0: 2.7894546594607164, 1: 0, 2: 0}\n",
            "{0: 3.645876327384625, 1: 0, 2: 0}\n",
            "{0: 4.46784612374045, 1: 0, 2: 0}\n",
            "{0: 0, 1: 1.0, 2: 0}\n",
            "{0: 0, 1: 1.9330329915368074, 2: 0}\n",
            "{0: 0, 1: 1.9330329915368074, 2: 0.9330329915368071}\n",
            "{0: 0, 1: 2.8396584910435356, 2: 0.9330329915368071}\n",
            "{0: 0, 1: 3.746283990550263, 2: 0.9330329915368071}\n",
            "{0: 0, 1: 1.0, 2: 0}\n",
            "{0: 0, 1: 1.8705505632961241, 2: 0}\n",
            "{0: 0, 1: 1.8705505632961241, 2: 0.870550563296124}\n",
            "{0: 0, 1: 1.8705505632961241, 2: 1.7269722312200326}\n",
            "{0: 0, 1: 1.8705505632961241, 2: 2.583393899143941}\n",
            "Точность алгоритма c весами при k = 5: 0.867\n"
          ]
        }
      ]
    },
    {
      "cell_type": "code",
      "source": [
        "k = 10\n",
        "y_pred = knn_wi(X_train, y_train, X_test, k)\n",
        "\n",
        "print(f'Точность алгоритма c весами при k = {k}: {accuracy(y_pred, y_test):.3f}')"
      ],
      "metadata": {
        "colab": {
          "base_uri": "https://localhost:8080/"
        },
        "id": "O7Y6wvWx6TR7",
        "outputId": "b3211310-bea2-40c8-aa7e-0d1af6a41400"
      },
      "execution_count": 21,
      "outputs": [
        {
          "output_type": "stream",
          "name": "stdout",
          "text": [
            "{0: 0.8564216679239087, 1: 0, 2: 0}\n",
            "{0: 1.6078406349175531, 1: 0, 2: 0}\n",
            "{0: 2.314947416104101, 1: 0, 2: 0}\n",
            "{0: 2.9824775224471, 1: 0, 2: 0}\n",
            "{0: 3.650007628790099, 1: 0, 2: 0}\n",
            "{0: 4.305987634378065, 1: 0, 2: 0}\n",
            "{0: 4.305987634378065, 1: 0.6450775293555171, 2: 0}\n",
            "{0: 4.912618052210365, 1: 0.6450775293555171, 2: 0}\n",
            "{0: 4.912618052210365, 1: 0.6450775293555171, 2: 0.6066304178323003}\n",
            "{0: 5.516353749314804, 1: 0.6450775293555171, 2: 0.6066304178323003}\n",
            "{0: 0, 1: 0, 2: 0.8705505632961246}\n",
            "{0: 0, 1: 0.8564216679239091, 2: 0.8705505632961246}\n",
            "{0: 0, 1: 1.712843335847818, 2: 0.8705505632961246}\n",
            "{0: 0, 1: 2.5692650037717266, 2: 0.8705505632961246}\n",
            "{0: 0, 1: 3.3271232870269256, 2: 0.8705505632961246}\n",
            "{0: 0, 1: 4.07854225402057, 2: 0.8705505632961246}\n",
            "{0: 0, 1: 4.829961221014214, 2: 0.8705505632961246}\n",
            "{0: 0, 1: 5.563419294303784, 2: 0.8705505632961246}\n",
            "{0: 0, 1: 6.270526075490332, 2: 0.8705505632961246}\n",
            "{0: 0.7022701640296091, 1: 6.270526075490332, 2: 0.8705505632961246}\n",
            "{0: 0, 1: 0, 2: 0.9330329915368076}\n",
            "{0: 0, 1: 0, 2: 1.8660659830736153}\n",
            "{0: 0, 1: 0, 2: 2.799098974610423}\n",
            "{0: 0, 1: 0.9330329915368074, 2: 2.799098974610423}\n",
            "{0: 0, 1: 0.9330329915368074, 2: 3.73213196614723}\n",
            "{0: 0, 1: 1.8396584910435352, 2: 3.73213196614723}\n",
            "{0: 0, 1: 2.7462839905502627, 2: 3.73213196614723}\n",
            "{0: 0, 1: 2.7462839905502627, 2: 4.638757465653958}\n",
            "{0: 0, 1: 2.7462839905502627, 2: 5.509308028950082}\n",
            "{0: 0, 1: 3.602705658474172, 2: 5.509308028950082}\n",
            "{0: 0.8705505632961243, 1: 0, 2: 0}\n",
            "{0: 1.726972231220033, 1: 0, 2: 0}\n",
            "{0: 2.548942027575857, 1: 0, 2: 0}\n",
            "{0: 3.3521092140043844, 1: 0, 2: 0}\n",
            "{0: 4.1552764004329115, 1: 0, 2: 0}\n",
            "{0: 4.934141226851655, 1: 0, 2: 0}\n",
            "{0: 5.6855601938452995, 1: 0, 2: 0}\n",
            "{0: 6.419018267134869, 1: 0, 2: 0}\n",
            "{0: 7.126125048321417, 1: 0, 2: 0}\n",
            "{0: 7.833231829507964, 1: 0, 2: 0}\n",
            "{0: 0, 1: 0, 2: 0.870550563296124}\n",
            "{0: 0, 1: 0, 2: 1.474286260400563}\n",
            "{0: 0, 1: 0, 2: 2.038916724358359}\n",
            "{0: 0, 1: 0, 2: 2.592011885476575}\n",
            "{0: 0, 1: 0, 2: 3.085195268762749}\n",
            "{0: 0, 1: 0, 2: 3.5638261603285635}\n",
            "{0: 0, 1: 0.4724830950852849, 2: 3.5638261603285635}\n",
            "{0: 0, 1: 0.4724830950852849, 2: 4.036309255413848}\n",
            "{0: 0, 1: 0.4724830950852849, 2: 4.497030494158695}\n",
            "{0: 0, 1: 0.4724830950852849, 2: 4.927340261889882}\n",
            "{0: 0, 1: 0, 2: 1.0}\n",
            "{0: 0, 1: 0, 2: 1.9330329915368074}\n",
            "{0: 0, 1: 0, 2: 2.8396584910435356}\n",
            "{0: 0, 1: 0, 2: 3.7462839905502636}\n",
            "{0: 0, 1: 0, 2: 4.602705658474172}\n",
            "{0: 0, 1: 0, 2: 5.459127326398081}\n",
            "{0: 0, 1: 0.8031671864285276, 2: 5.459127326398081}\n",
            "{0: 0, 1: 1.5820320128472718, 2: 5.459127326398081}\n",
            "{0: 0, 1: 1.5820320128472718, 2: 6.237992152816825}\n",
            "{0: 0, 1: 1.5820320128472718, 2: 7.01685697923557}\n",
            "{0: 0, 1: 1.0, 2: 0}\n",
            "{0: 0, 1: 1.0, 2: 1.0}\n",
            "{0: 0, 1: 1.906625499506728, 2: 1.0}\n",
            "{0: 0, 1: 1.906625499506728, 2: 1.9066254995067276}\n",
            "{0: 0, 1: 1.906625499506728, 2: 2.813250999013455}\n",
            "{0: 0, 1: 2.777176062802852, 2: 2.813250999013455}\n",
            "{0: 0, 1: 3.6477266260989762, 2: 2.813250999013455}\n",
            "{0: 0, 1: 3.6477266260989762, 2: 3.6838015623095792}\n",
            "{0: 0, 1: 3.6477266260989762, 2: 4.5402232302334875}\n",
            "{0: 0, 1: 3.6477266260989762, 2: 5.362193026589312}\n",
            "{0: 1.0, 1: 0, 2: 0}\n",
            "{0: 1.9330329915368076, 1: 0, 2: 0}\n",
            "{0: 2.7894546594607164, 1: 0, 2: 0}\n",
            "{0: 3.645876327384625, 1: 0, 2: 0}\n",
            "{0: 4.46784612374045, 1: 0, 2: 0}\n",
            "{0: 5.2800985200966855, 1: 0, 2: 0}\n",
            "{0: 6.092350916452921, 1: 0, 2: 0}\n",
            "{0: 6.895518102881449, 1: 0, 2: 0}\n",
            "{0: 7.698685289309977, 1: 0, 2: 0}\n",
            "{0: 8.501852475738504, 1: 0, 2: 0}\n",
            "{0: 1.0, 1: 0, 2: 0}\n",
            "{0: 1.9330329915368072, 1: 0, 2: 0}\n",
            "{0: 2.839658491043535, 1: 0, 2: 0}\n",
            "{0: 3.7462839905502627, 1: 0, 2: 0}\n",
            "{0: 4.6027056584741715, 1: 0, 2: 0}\n",
            "{0: 5.459127326398081, 1: 0, 2: 0}\n",
            "{0: 6.31554899432199, 1: 0, 2: 0}\n",
            "{0: 7.171970662245899, 1: 0, 2: 0}\n",
            "{0: 8.028392330169808, 1: 0, 2: 0}\n",
            "{0: 8.884813998093717, 1: 0, 2: 0}\n",
            "{0: 0, 1: 0.9330329915368076, 2: 0}\n",
            "{0: 0, 1: 1.866065983073615, 2: 0}\n",
            "{0: 0, 1: 1.866065983073615, 2: 0.9330329915368074}\n",
            "{0: 0, 1: 1.866065983073615, 2: 1.8660659830736144}\n",
            "{0: 0, 1: 1.866065983073615, 2: 2.722487650997523}\n",
            "{0: 0, 1: 1.866065983073615, 2: 3.578909318921432}\n",
            "{0: 0, 1: 2.7224876509975235, 2: 3.578909318921432}\n",
            "{0: 0, 1: 3.5789093189214323, 2: 3.578909318921432}\n",
            "{0: 0, 1: 3.5789093189214323, 2: 4.43533098684534}\n",
            "{0: 0, 1: 3.5789093189214323, 2: 5.291752654769248}\n",
            "{0: 0, 1: 0, 2: 0.9330329915368076}\n",
            "{0: 0, 1: 0.9066254995067279, 2: 0.9330329915368076}\n",
            "{0: 0, 1: 1.8132509990134555, 2: 0.9330329915368076}\n",
            "{0: 0, 1: 2.68380156230958, 2: 0.9330329915368076}\n",
            "{0: 0, 1: 3.5543521256057042, 2: 0.9330329915368076}\n",
            "{0: 0, 1: 4.424902688901828, 2: 0.9330329915368076}\n",
            "{0: 0, 1: 5.2954532521979525, 2: 0.9330329915368076}\n",
            "{0: 0, 1: 5.2954532521979525, 2: 1.8035835548329318}\n",
            "{0: 0, 1: 5.2954532521979525, 2: 2.674134118129056}\n",
            "{0: 0, 1: 6.151874920121861, 2: 2.674134118129056}\n",
            "{0: 0.8705505632961243, 1: 0, 2: 0}\n",
            "{0: 1.726972231220033, 1: 0, 2: 0}\n",
            "{0: 2.548942027575857, 1: 0, 2: 0}\n",
            "{0: 3.3521092140043844, 1: 0, 2: 0}\n",
            "{0: 4.1552764004329115, 1: 0, 2: 0}\n",
            "{0: 4.934141226851655, 1: 0, 2: 0}\n",
            "{0: 5.6855601938452995, 1: 0, 2: 0}\n",
            "{0: 6.419018267134869, 1: 0, 2: 0}\n",
            "{0: 7.126125048321417, 1: 0, 2: 0}\n",
            "{0: 7.833231829507964, 1: 0, 2: 0}\n",
            "{0: 0, 1: 0, 2: 0.9330329915368071}\n",
            "{0: 0, 1: 0.8564216679239091, 2: 0.9330329915368071}\n",
            "{0: 0, 1: 0.8564216679239091, 2: 1.7894546594607161}\n",
            "{0: 0, 1: 1.712843335847818, 2: 1.7894546594607161}\n",
            "{0: 0, 1: 1.712843335847818, 2: 2.6458763273846246}\n",
            "{0: 0, 1: 1.712843335847818, 2: 3.4581287237408604}\n",
            "{0: 0, 1: 2.491708162266562, 2: 3.4581287237408604}\n",
            "{0: 0, 1: 2.491708162266562, 2: 4.236993550159605}\n",
            "{0: 0, 1: 2.491708162266562, 2: 5.015858376578349}\n",
            "{0: 0, 1: 2.491708162266562, 2: 5.773716659833548}\n",
            "{0: 0, 1: 0, 2: 1.0}\n",
            "{0: 0, 1: 0, 2: 1.9330329915368076}\n",
            "{0: 0, 1: 0, 2: 2.8660659830736153}\n",
            "{0: 0, 1: 0, 2: 3.7726914825803433}\n",
            "{0: 0, 1: 0, 2: 4.629113150504252}\n",
            "{0: 0, 1: 0, 2: 5.48553481842816}\n",
            "{0: 0, 1: 0, 2: 6.341956486352069}\n",
            "{0: 0, 1: 0, 2: 7.198378154275979}\n",
            "{0: 0, 1: 0, 2: 8.020347950631802}\n",
            "{0: 0, 1: 0.8122523963562354, 2: 8.020347950631802}\n",
            "{0: 0, 1: 0.9330329915368076, 2: 0}\n",
            "{0: 0, 1: 0.9330329915368076, 2: 0.9330329915368074}\n",
            "{0: 0, 1: 1.8396584910435356, 2: 0.9330329915368074}\n",
            "{0: 0, 1: 2.7462839905502636, 2: 0.9330329915368074}\n",
            "{0: 0, 1: 3.6529094900569916, 2: 0.9330329915368074}\n",
            "{0: 0, 1: 3.6529094900569916, 2: 1.8396584910435356}\n",
            "{0: 0, 1: 3.6529094900569916, 2: 2.7462839905502636}\n",
            "{0: 0, 1: 4.523460053353116, 2: 2.7462839905502636}\n",
            "{0: 0, 1: 5.39401061664924, 2: 2.7462839905502636}\n",
            "{0: 0, 1: 5.39401061664924, 2: 3.6027056584741723}\n",
            "{0: 0.8705505632961246, 1: 0, 2: 0}\n",
            "{0: 1.7411011265922487, 1: 0, 2: 0}\n",
            "{0: 2.597522794516158, 1: 0, 2: 0}\n",
            "{0: 3.4539444624400666, 1: 0, 2: 0}\n",
            "{0: 4.275914258795891, 1: 0, 2: 0}\n",
            "{0: 5.0881666551521265, 1: 0, 2: 0}\n",
            "{0: 5.900419051508361, 1: 0, 2: 0}\n",
            "{0: 6.651838018502006, 1: 0, 2: 0}\n",
            "{0: 7.3852960917915755, 1: 0, 2: 0}\n",
            "{0: 8.118754165081146, 1: 0, 2: 0}\n",
            "{0: 0, 1: 0.9330329915368076, 2: 0}\n",
            "{0: 0, 1: 1.866065983073615, 2: 0}\n",
            "{0: 0, 1: 2.7990989746104225, 2: 0}\n",
            "{0: 0, 1: 2.7990989746104225, 2: 0.9330329915368074}\n",
            "{0: 0, 1: 2.7990989746104225, 2: 1.8660659830736148}\n",
            "{0: 0, 1: 2.7990989746104225, 2: 2.772691482580343}\n",
            "{0: 0, 1: 2.7990989746104225, 2: 3.643242045876467}\n",
            "{0: 0, 1: 3.6555206425343316, 2: 3.643242045876467}\n",
            "{0: 0, 1: 4.51194231045824, 2: 3.643242045876467}\n",
            "{0: 0, 1: 5.368363978382148, 2: 3.643242045876467}\n",
            "{0: 0, 1: 1.0, 2: 0}\n",
            "{0: 0, 1: 1.9330329915368074, 2: 0}\n",
            "{0: 0, 1: 2.8660659830736144, 2: 0}\n",
            "{0: 0, 1: 3.772691482580342, 2: 0}\n",
            "{0: 0, 1: 3.772691482580342, 2: 0.870550563296124}\n",
            "{0: 0, 1: 4.62911315050425, 2: 0.870550563296124}\n",
            "{0: 0, 1: 4.62911315050425, 2: 1.6925203596519478}\n",
            "{0: 0, 1: 5.441365546860485, 2: 1.6925203596519478}\n",
            "{0: 0, 1: 5.441365546860485, 2: 2.504772756008183}\n",
            "{0: 0, 1: 6.22023037327923, 2: 2.504772756008183}\n",
            "{0: 1.0, 1: 0, 2: 0}\n",
            "{0: 1.906625499506728, 1: 0, 2: 0}\n",
            "{0: 2.777176062802852, 1: 0, 2: 0}\n",
            "{0: 3.633597730726761, 1: 0, 2: 0}\n",
            "{0: 4.445850127082997, 1: 0, 2: 0}\n",
            "{0: 5.258102523439232, 1: 0, 2: 0}\n",
            "{0: 6.061269709867759, 1: 0, 2: 0}\n",
            "{0: 6.864436896296286, 1: 0, 2: 0}\n",
            "{0: 7.667604082724813, 1: 0, 2: 0}\n",
            "{0: 8.47077126915334, 1: 0, 2: 0}\n",
            "{0: 0.9330329915368076, 1: 0, 2: 0}\n",
            "{0: 1.8396584910435358, 1: 0, 2: 0}\n",
            "{0: 2.746283990550264, 1: 0, 2: 0}\n",
            "{0: 3.652909490056992, 1: 0, 2: 0}\n",
            "{0: 4.523460053353117, 1: 0, 2: 0}\n",
            "{0: 5.394010616649241, 1: 0, 2: 0}\n",
            "{0: 6.264561179945365, 1: 0, 2: 0}\n",
            "{0: 7.120982847869274, 1: 0, 2: 0}\n",
            "{0: 7.977404515793182, 1: 0, 2: 0}\n",
            "{0: 8.833826183717091, 1: 0, 2: 0}\n",
            "{0: 0, 1: 0.9330329915368074, 2: 0}\n",
            "{0: 0, 1: 1.8396584910435356, 2: 0}\n",
            "{0: 0, 1: 2.7102090543396598, 2: 0}\n",
            "{0: 0, 1: 3.580759617635784, 2: 0}\n",
            "{0: 0, 1: 4.451310180931908, 2: 0}\n",
            "{0: 0, 1: 4.451310180931908, 2: 0.856421667923909}\n",
            "{0: 0, 1: 4.451310180931908, 2: 1.7128433358478174}\n",
            "{0: 0, 1: 5.273279977287732, 2: 1.7128433358478174}\n",
            "{0: 0, 1: 6.085532373643968, 2: 1.7128433358478174}\n",
            "{0: 0, 1: 6.888699560072496, 2: 1.7128433358478174}\n",
            "{0: 0, 1: 0.8705505632961246, 2: 0}\n",
            "{0: 0, 1: 1.7269722312200337, 2: 0}\n",
            "{0: 0, 1: 1.7269722312200337, 2: 0.8219697963558241}\n",
            "{0: 0, 1: 2.539224627576269, 2: 0.8219697963558241}\n",
            "{0: 0, 1: 3.3423918140047966, 2: 0.8219697963558241}\n",
            "{0: 0, 1: 4.121256640423541, 2: 0.8219697963558241}\n",
            "{0: 0, 1: 4.900121466842285, 2: 0.8219697963558241}\n",
            "{0: 0.7578582832551991, 1: 4.900121466842285, 2: 0.8219697963558241}\n",
            "{0: 1.515716566510398, 1: 4.900121466842285, 2: 0.8219697963558241}\n",
            "{0: 2.26093534371094, 1: 4.900121466842285, 2: 0.8219697963558241}\n",
            "{0: 0, 1: 0, 2: 1.0}\n",
            "{0: 0, 1: 0, 2: 1.9330329915368076}\n",
            "{0: 0, 1: 0.9330329915368074, 2: 1.9330329915368076}\n",
            "{0: 0, 1: 1.8660659830736148, 2: 1.9330329915368076}\n",
            "{0: 0, 1: 1.8660659830736148, 2: 2.8660659830736153}\n",
            "{0: 0, 1: 2.7726914825803424, 2: 2.8660659830736153}\n",
            "{0: 0, 1: 2.7726914825803424, 2: 3.7366165463697394}\n",
            "{0: 0, 1: 2.7726914825803424, 2: 4.6071671096658635}\n",
            "{0: 0, 1: 2.7726914825803424, 2: 5.477717672961988}\n",
            "{0: 0, 1: 3.629113150504251, 2: 5.477717672961988}\n",
            "{0: 1.0, 1: 0, 2: 0}\n",
            "{0: 1.9330329915368076, 1: 0, 2: 0}\n",
            "{0: 2.8660659830736153, 1: 0, 2: 0}\n",
            "{0: 3.7990989746104225, 1: 0, 2: 0}\n",
            "{0: 4.73213196614723, 1: 0, 2: 0}\n",
            "{0: 5.665164957684037, 1: 0, 2: 0}\n",
            "{0: 6.571790457190765, 1: 0, 2: 0}\n",
            "{0: 7.478415956697494, 1: 0, 2: 0}\n",
            "{0: 8.348966519993617, 1: 0, 2: 0}\n",
            "{0: 9.219517083289741, 1: 0, 2: 0}\n",
            "{0: 0, 1: 0.870550563296124, 2: 0}\n",
            "{0: 0, 1: 0.870550563296124, 2: 0.870550563296124}\n",
            "{0: 0, 1: 1.6737177497246516, 2: 0.870550563296124}\n",
            "{0: 0, 1: 1.6737177497246516, 2: 1.6737177497246516}\n",
            "{0: 0, 1: 1.6737177497246516, 2: 2.476884936153179}\n",
            "{0: 0, 1: 1.6737177497246516, 2: 3.234743219408378}\n",
            "{0: 0, 1: 1.6737177497246516, 2: 3.992601502663577}\n",
            "{0: 0, 1: 1.6737177497246516, 2: 4.726059575953147}\n",
            "{0: 0, 1: 1.6737177497246516, 2: 5.459517649242716}\n",
            "{0: 0, 1: 1.6737177497246516, 2: 6.192975722532286}\n",
            "{0: 0, 1: 1.0, 2: 0}\n",
            "{0: 0, 1: 1.0, 2: 0.9330329915368076}\n",
            "{0: 0, 1: 1.9330329915368074, 2: 0.9330329915368076}\n",
            "{0: 0, 1: 1.9330329915368074, 2: 1.8660659830736148}\n",
            "{0: 0, 1: 2.8396584910435356, 2: 1.8660659830736148}\n",
            "{0: 0, 1: 3.746283990550264, 2: 1.8660659830736148}\n",
            "{0: 0, 1: 3.746283990550264, 2: 2.772691482580343}\n",
            "{0: 0, 1: 3.746283990550264, 2: 3.6793169820870713}\n",
            "{0: 0, 1: 4.652909490056992, 2: 3.6793169820870713}\n",
            "{0: 0, 1: 5.523460053353116, 2: 3.6793169820870713}\n",
            "{0: 0.8219697963558238, 1: 0, 2: 0}\n",
            "{0: 1.6251369827843514, 1: 0, 2: 0}\n",
            "{0: 2.358595056073921, 1: 0, 2: 0}\n",
            "{0: 3.06086522010353, 1: 0, 2: 0}\n",
            "{0: 3.749343725828335, 1: 0, 2: 0}\n",
            "{0: 4.424978071949569, 1: 0, 2: 0}\n",
            "{0: 5.066552069220666, 1: 0, 2: 0}\n",
            "{0: 5.682124275893124, 1: 0, 2: 0}\n",
            "{0: 6.27197536480613, 1: 0, 2: 0}\n",
            "{0: 6.8539285605128795, 1: 0, 2: 0}\n",
            "{0: 1.0, 1: 0, 2: 0}\n",
            "{0: 1.9330329915368076, 1: 0, 2: 0}\n",
            "{0: 2.7894546594607164, 1: 0, 2: 0}\n",
            "{0: 3.645876327384625, 1: 0, 2: 0}\n",
            "{0: 4.46784612374045, 1: 0, 2: 0}\n",
            "{0: 5.2800985200966855, 1: 0, 2: 0}\n",
            "{0: 6.092350916452921, 1: 0, 2: 0}\n",
            "{0: 6.895518102881449, 1: 0, 2: 0}\n",
            "{0: 7.698685289309977, 1: 0, 2: 0}\n",
            "{0: 8.501852475738504, 1: 0, 2: 0}\n",
            "{0: 0, 1: 1.0, 2: 0}\n",
            "{0: 0, 1: 1.9330329915368074, 2: 0}\n",
            "{0: 0, 1: 1.9330329915368074, 2: 0.9330329915368071}\n",
            "{0: 0, 1: 2.8396584910435356, 2: 0.9330329915368071}\n",
            "{0: 0, 1: 3.746283990550263, 2: 0.9330329915368071}\n",
            "{0: 0, 1: 3.746283990550263, 2: 1.8035835548329313}\n",
            "{0: 0, 1: 4.616834553846387, 2: 1.8035835548329313}\n",
            "{0: 0, 1: 4.616834553846387, 2: 2.6741341181290554}\n",
            "{0: 0, 1: 4.616834553846387, 2: 3.5446846814251796}\n",
            "{0: 0, 1: 4.616834553846387, 2: 4.401106349349089}\n",
            "{0: 0, 1: 1.0, 2: 0}\n",
            "{0: 0, 1: 1.8705505632961241, 2: 0}\n",
            "{0: 0, 1: 1.8705505632961241, 2: 0.870550563296124}\n",
            "{0: 0, 1: 1.8705505632961241, 2: 1.7269722312200326}\n",
            "{0: 0, 1: 1.8705505632961241, 2: 2.583393899143941}\n",
            "{0: 0, 1: 1.8705505632961241, 2: 3.3956462955001765}\n",
            "{0: 0, 1: 2.673717749724652, 2: 3.3956462955001765}\n",
            "{0: 0, 1: 2.673717749724652, 2: 4.198813481928704}\n",
            "{0: 0, 1: 2.673717749724652, 2: 5.001980668357232}\n",
            "{0: 0, 1: 2.673717749724652, 2: 5.80514785478576}\n",
            "Точность алгоритма c весами при k = 10: 0.867\n"
          ]
        }
      ]
    },
    {
      "cell_type": "markdown",
      "source": [
        "Задание 2"
      ],
      "metadata": {
        "id": "KaztPMIW68K_"
      }
    },
    {
      "cell_type": "code",
      "source": [
        "from sklearn.datasets import make_blobs\n",
        "import random\n",
        "\n",
        "X, y = make_blobs(n_samples=100, random_state=1)"
      ],
      "metadata": {
        "id": "2OFQX-uJ6vB2"
      },
      "execution_count": 22,
      "outputs": []
    },
    {
      "cell_type": "code",
      "source": [
        "def kmeans(data, k, max_iterations, min_distance):\n",
        "    # Создадим словарь для классификации\n",
        "    classes = {i: [] for i in range(k)}\n",
        "    \n",
        "    # инициализируем центроиды как первые k элементов датасета\n",
        "    centroids = [data[i] for i in range(k)]\n",
        "    \n",
        "    for _ in range(max_iterations):\n",
        "        # классифицируем объекты по центроидам\n",
        "        for x in data:\n",
        "            # определим расстояния от объекта до каждого центроида\n",
        "            distances = [e_metrics(x, centroid) for centroid in centroids]\n",
        "            # отнесем объект к кластеру, до центроида которого наименьшее расстояние\n",
        "            classification = distances.index(min(distances))\n",
        "            classes[classification].append(x)\n",
        "        \n",
        "        # сохраним предыдущие центроиды в отдельный список для последующего сравнения сновыми\n",
        "        old_centroids = centroids.copy()\n",
        "        \n",
        "        # пересчитаем центроиды как среднее по кластерам\n",
        "        for classification in classes:\n",
        "            centroids[classification] = np.average(classes[classification], axis=0)\n",
        "            \n",
        "        # сравним величину смещения центроидов с минимальной\n",
        "        optimal = True\n",
        "        for centroid in range(len(centroids)):\n",
        "            if np.sum(abs((centroids[centroid] - old_centroids[centroid]) / old_centroids * 100)) > min_distance:\n",
        "                optimal = False\n",
        "                \n",
        "        # если все смещения меньше минимального, останавливаем алгоритм  \n",
        "        if optimal:\n",
        "            break\n",
        "    \n",
        "    return old_centroids, classes"
      ],
      "metadata": {
        "id": "NU4dCJNt6_Ch"
      },
      "execution_count": 23,
      "outputs": []
    },
    {
      "cell_type": "code",
      "source": [
        "def quality (data, max_iter, min_dist, start=1, stop=10):\n",
        "    all_dist = {}\n",
        "    while start <= stop:\n",
        "      centroids, clusters = kmeans(data, start, max_iter, min_dist)\n",
        "      index = 0\n",
        "      mean_dist = []\n",
        "      while index < len(clusters):\n",
        "          distance = []\n",
        "          for el in clusters[index]:\n",
        "                distance.append((e_metrics(centroids[index], el))**2)\n",
        "          mean_dist.append((np.mean(distance)))\n",
        "          index += 1\n",
        "      all_dist[start] = np.mean(mean_dist)\n",
        "      start += 1\n",
        "    return all_dist"
      ],
      "metadata": {
        "id": "lAOTch798IG4"
      },
      "execution_count": 24,
      "outputs": []
    },
    {
      "cell_type": "code",
      "source": [
        "all_dist = quality(X, 3, 1e-4, stop=30)\n",
        "print(all_dist)"
      ],
      "metadata": {
        "colab": {
          "base_uri": "https://localhost:8080/"
        },
        "id": "ZPBoJz_MAWZT",
        "outputId": "5e10a638-c753-401f-da1b-205eff996aa5"
      },
      "execution_count": 33,
      "outputs": [
        {
          "output_type": "stream",
          "name": "stdout",
          "text": [
            "{1: 41.1815377770447, 2: 5.440924547301352, 3: 2.7599491382926176, 4: 1.6189885252431702, 5: 1.178021369490979, 6: 0.9992347139716831, 7: 0.8579009947951831, 8: 0.7814991256298226, 9: 0.7324928138125151, 10: 0.6807853679158123, 11: 0.6088059966418863, 12: 0.5873833805347827, 13: 0.5722929473364515, 14: 0.5517430117559485, 15: 0.4713957767728782, 16: 0.42706128612066707, 17: 0.4018217182621674, 18: 0.36415338915571627, 19: 0.3378795770595793, 20: 0.3039047817709687, 21: 0.2934216688634687, 22: 0.28425431780163496, 23: 0.267683826605371, 24: 0.2484836237044512, 25: 0.22665811446647866, 26: 0.2259309478821566, 27: 0.21728495397461722, 28: 0.21126625484441958, 29: 0.19096000907378774, 30: 0.16994576199093236}\n"
          ]
        }
      ]
    },
    {
      "cell_type": "code",
      "source": [
        "k = []\n",
        "for k_ in all_dist.keys():\n",
        "    k.append(k_)\n",
        "error = []\n",
        "for er in all_dist.values():\n",
        "    error.append(er)"
      ],
      "metadata": {
        "id": "Mx4psVzijGV1"
      },
      "execution_count": 34,
      "outputs": []
    },
    {
      "cell_type": "code",
      "source": [
        "print(k)"
      ],
      "metadata": {
        "colab": {
          "base_uri": "https://localhost:8080/"
        },
        "id": "UVRmDU7IjOXq",
        "outputId": "bec1170f-dc5d-4e7b-b494-8b99bd37e73b"
      },
      "execution_count": 31,
      "outputs": [
        {
          "output_type": "stream",
          "name": "stdout",
          "text": [
            "[1, 2, 3, 4, 5, 6, 7, 8, 9, 10]\n"
          ]
        }
      ]
    },
    {
      "cell_type": "code",
      "source": [
        "%matplotlib inline\n",
        "plt.style.use('seaborn-ticks')\n",
        "plt.rcParams.update({'font.size': 14})\n",
        "\n",
        "plt.plot(k, error)\n",
        "plt.xlabel('k')\n",
        "plt.ylabel('error')\n",
        "plt.grid()\n"
      ],
      "metadata": {
        "colab": {
          "base_uri": "https://localhost:8080/",
          "height": 290
        },
        "id": "O5R8brh-gtyW",
        "outputId": "6fb1e543-764d-440b-e7ef-19b532df2eaf"
      },
      "execution_count": 35,
      "outputs": [
        {
          "output_type": "display_data",
          "data": {
            "image/png": "[encoded data removed]",
            "text/plain": [
              "<Figure size 432x288 with 1 Axes>"
            ]
          },
          "metadata": {}
        }
      ]
    },
    {
      "cell_type": "code",
      "source": [
        "def visualize(centroids, classes):\n",
        "    colors = ['r', 'g', 'b']\n",
        "    \n",
        "    plt.figure(figsize=(7,7))\n",
        "    \n",
        "    # нанесем на график центроиды\n",
        "    for centroid in centroids:\n",
        "        plt.scatter(centroid[0], centroid[1], marker='x', s=130, c='black')\n",
        "        \n",
        "    # нанесем объекты раскрашенные по классам\n",
        "    for class_item in classes:\n",
        "        for x in classes[class_item]:\n",
        "            plt.scatter(x[0], x[1], color=colors[class_item])\n",
        "            \n",
        "    plt.show()"
      ],
      "metadata": {
        "id": "9yCPphFH7SrP"
      },
      "execution_count": 65,
      "outputs": []
    },
    {
      "cell_type": "code",
      "source": [
        "max_iterations = 1\n",
        "\n",
        "# и минимальное расстояние между центроидами до пересчета и после него, при котором нужно остановить алгоритм\n",
        "min_distance = 1e-4\n",
        "\n",
        "# сразу определим известное нам количество кластеров\n",
        "k = 3\n",
        "\n",
        "centroids, clusters = kmeans(X, k, max_iterations, min_distance)\n",
        "print(centroids)\n",
        "\n",
        "visualize(centroids, clusters)"
      ],
      "metadata": {
        "colab": {
          "base_uri": "https://localhost:8080/",
          "height": 445
        },
        "id": "Uxco2iLv8Ue1",
        "outputId": "42639513-1832-42c6-cb3d-db45c656d2ba"
      },
      "execution_count": 96,
      "outputs": [
        {
          "output_type": "stream",
          "name": "stdout",
          "text": [
            "[array([-0.79415228,  2.10495117]), array([-9.15155186, -4.81286449]), array([-11.44182631,  -4.45781441])]\n"
          ]
        },
        {
          "output_type": "display_data",
          "data": {
            "image/png": "[encoded data removed]",
            "text/plain": [
              "<Figure size 504x504 with 1 Axes>"
            ]
          },
          "metadata": {
            "needs_background": "light"
          }
        }
      ]
    }
  ]
}