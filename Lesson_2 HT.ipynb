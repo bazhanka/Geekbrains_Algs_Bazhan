{
  "cells": [
    {
      "cell_type": "markdown",
      "metadata": {
        "id": "B0w13gRXJJYr"
      },
      "source": [
        "# Урок 2. Масштабирование признаков. Регуляризация. Стохастический градиентный спуск."
      ]
    },
    {
      "cell_type": "markdown",
      "metadata": {
        "toc": true,
        "id": "CcoO6j5vJJYu"
      },
      "source": [
        "<h1>План урока<span class=\"tocSkip\"></span></h1>\n",
        "<div class=\"toc\"><ul class=\"toc-item\"><li><span><a href=\"#mini-batch-сильно-занижает-ошибку.-проверить-код!\" data-toc-modified-id=\"mini-batch-сильно-занижает-ошибку.-проверить-код!-1\">mini-batch сильно занижает ошибку. проверить код!</a></span></li><li><span><a href=\"#Масштабирование-признаков\" data-toc-modified-id=\"Масштабирование-признаков-2\">Масштабирование признаков</a></span><ul class=\"toc-item\"><li><span><a href=\"#Нормализация-[0,-1]\" data-toc-modified-id=\"Нормализация-[0,-1]-2.1\">Нормализация [0, 1]</a></span></li><li><span><a href=\"#Стандартизация\" data-toc-modified-id=\"Стандартизация-2.2\">Стандартизация</a></span></li></ul></li><li><span><a href=\"#Стохастический-градиентный-спуск-и-mini-batch-градиентный-спуск\" data-toc-modified-id=\"Стохастический-градиентный-спуск-и-mini-batch-градиентный-спуск-3\">Стохастический градиентный спуск и mini-batch градиентный спуск</a></span></li><li><span><a href=\"#Регуляризация\" data-toc-modified-id=\"Регуляризация-4\">Регуляризация</a></span><ul class=\"toc-item\"><li><span><a href=\"#L1-регуляризация---Lasso\" data-toc-modified-id=\"L1-регуляризация---Lasso-4.1\">L1 регуляризация - Lasso</a></span></li><li><span><a href=\"#L2-регуляризация---Ridge\" data-toc-modified-id=\"L2-регуляризация---Ridge-4.2\">L2 регуляризация - Ridge</a></span></li></ul></li><li><span><a href=\"#Домашние-задания\" data-toc-modified-id=\"Домашние-задания-5\">Домашние задания</a></span></li></ul></div>"
      ]
    },
    {
      "cell_type": "markdown",
      "metadata": {
        "id": "PxnYE1k7JJYv"
      },
      "source": [
        "## mini-batch сильно занижает ошибку. проверить код!"
      ]
    },
    {
      "cell_type": "code",
      "execution_count": 134,
      "metadata": {
        "id": "_u5bV-OlT34p"
      },
      "outputs": [],
      "source": [
        "import numpy as np\n",
        "import matplotlib.pyplot as plt\n",
        "plt.rcParams.update({'font.size': 14,\n",
        "                     'xtick.labelsize': 14})"
      ]
    },
    {
      "cell_type": "markdown",
      "metadata": {
        "id": "1GMFLCVrJJYw"
      },
      "source": [
        "## Масштабирование признаков"
      ]
    },
    {
      "cell_type": "code",
      "execution_count": 135,
      "metadata": {
        "id": "_n6il-AZaLuA"
      },
      "outputs": [],
      "source": [
        "# К признаку стажа добавим новые признаки\n",
        "X = np.array([[1, 1, 1, 1, 1, 1, 1, 1, 1, 1],\n",
        "              [1, 1, 2, 1, 3, 0, 5, 10, 1, 2],  # стаж репетитора\n",
        "              [500, 700, 750, 600, 1450,        # средняя стоимость занятия\n",
        "               800, 1500, 2000, 450, 1000],\n",
        "              [1, 1, 2, 1, 2, 1, 3, 3, 1, 2]]).T  # квалификация репетитора\n",
        "               \n",
        "y = [45, 55, 50, 59, 65, 35, 75, 80, 50, 60]    # средний балл ЕГЭ (целевая переменная)"
      ]
    },
    {
      "cell_type": "code",
      "execution_count": 136,
      "metadata": {
        "colab": {
          "base_uri": "https://localhost:8080/"
        },
        "id": "I0rA4sXkJJYw",
        "outputId": "b6aac914-015a-4848-ff55-3c39a0cc86b7"
      },
      "outputs": [
        {
          "output_type": "execute_result",
          "data": {
            "text/plain": [
              "array([3.98828270e+01, 2.18657683e+00, 2.94591674e-03, 5.27047320e+00])"
            ]
          },
          "metadata": {},
          "execution_count": 136
        }
      ],
      "source": [
        "# веса по МНК\n",
        "w = np.linalg.inv(X.T @ X) @ X.T @ y\n",
        "w"
      ]
    },
    {
      "cell_type": "code",
      "execution_count": 137,
      "metadata": {
        "colab": {
          "base_uri": "https://localhost:8080/"
        },
        "id": "XFWUyZduJJYx",
        "outputId": "eac9ce4e-c1e9-4920-c74e-13fc30eee8c0"
      },
      "outputs": [
        {
          "output_type": "execute_result",
          "data": {
            "text/plain": [
              "(50.28579374158604, 55.55626694644765)"
            ]
          },
          "metadata": {},
          "execution_count": 137
        }
      ],
      "source": [
        "X_1 = [1, 1, 1000, 1]\n",
        "X_2 = [1, 1, 1000, 2]\n",
        "X_1 @ w, X_2 @ w"
      ]
    },
    {
      "cell_type": "markdown",
      "metadata": {
        "id": "4wV6qmsOJJYy"
      },
      "source": [
        "### Нормализация [0, 1]"
      ]
    },
    {
      "cell_type": "code",
      "execution_count": 138,
      "metadata": {
        "colab": {
          "base_uri": "https://localhost:8080/"
        },
        "id": "Ei5qeZO_aT6m",
        "outputId": "765f111a-a354-4581-e078-420f6a3515d7"
      },
      "outputs": [
        {
          "output_type": "execute_result",
          "data": {
            "text/plain": [
              "(0, 10)"
            ]
          },
          "metadata": {},
          "execution_count": 138
        }
      ],
      "source": [
        "X[:, 1].min(), X[:, 1].max()"
      ]
    },
    {
      "cell_type": "code",
      "execution_count": 139,
      "metadata": {
        "colab": {
          "base_uri": "https://localhost:8080/"
        },
        "id": "L7wsW1Q7b4Ts",
        "outputId": "dfd3eb9f-cab6-457e-87c1-ec897943074b"
      },
      "outputs": [
        {
          "output_type": "execute_result",
          "data": {
            "text/plain": [
              "(450, 2000)"
            ]
          },
          "metadata": {},
          "execution_count": 139
        }
      ],
      "source": [
        "X[:, 2].min(), X[:, 2].max()"
      ]
    },
    {
      "cell_type": "code",
      "execution_count": 140,
      "metadata": {
        "colab": {
          "base_uri": "https://localhost:8080/"
        },
        "id": "E55S9Bzob9Xa",
        "outputId": "cdf06d03-e9d4-44f8-e347-8e71ec11c2e7"
      },
      "outputs": [
        {
          "output_type": "execute_result",
          "data": {
            "text/plain": [
              "array([[1.00e+00, 1.00e+00, 5.00e+02, 1.00e+00],\n",
              "       [1.00e+00, 1.00e+00, 7.00e+02, 1.00e+00],\n",
              "       [1.00e+00, 2.00e+00, 7.50e+02, 2.00e+00],\n",
              "       [1.00e+00, 1.00e+00, 6.00e+02, 1.00e+00],\n",
              "       [1.00e+00, 3.00e+00, 1.45e+03, 2.00e+00],\n",
              "       [1.00e+00, 0.00e+00, 8.00e+02, 1.00e+00],\n",
              "       [1.00e+00, 5.00e+00, 1.50e+03, 3.00e+00],\n",
              "       [1.00e+00, 1.00e+01, 2.00e+03, 3.00e+00],\n",
              "       [1.00e+00, 1.00e+00, 4.50e+02, 1.00e+00],\n",
              "       [1.00e+00, 2.00e+00, 1.00e+03, 2.00e+00]])"
            ]
          },
          "metadata": {},
          "execution_count": 140
        }
      ],
      "source": [
        "X_norm = X.copy()\n",
        "X_norm = X_norm.astype(np.float64)\n",
        "X_norm"
      ]
    },
    {
      "cell_type": "markdown",
      "metadata": {
        "id": "TwV_ZKlGJJYz"
      },
      "source": [
        "$$x_{ij} = \\frac{x_{ij} - min_{j} (x_{ij})}{max_{j} (x_{ij})-min_{j} (x_{ij})}$$"
      ]
    },
    {
      "cell_type": "code",
      "execution_count": 141,
      "metadata": {
        "colab": {
          "base_uri": "https://localhost:8080/"
        },
        "id": "7x-6IuPOcIo0",
        "outputId": "b9198102-8273-4628-b71f-5e6986fbc4f9"
      },
      "outputs": [
        {
          "output_type": "execute_result",
          "data": {
            "text/plain": [
              "array([0.1, 0.1, 0.2, 0.1, 0.3, 0. , 0.5, 1. , 0.1, 0.2])"
            ]
          },
          "metadata": {},
          "execution_count": 141
        }
      ],
      "source": [
        "X_norm[:, 1] = (X[:, 1] - X[:, 1].min()) / (X[:, 1].max() - X[:, 1].min())\n",
        "X_norm[:, 1]"
      ]
    },
    {
      "cell_type": "code",
      "execution_count": 142,
      "metadata": {
        "colab": {
          "base_uri": "https://localhost:8080/"
        },
        "id": "izkMRdXFcjyK",
        "outputId": "01254ed4-ce77-42dd-8c47-992fbd2e5056"
      },
      "outputs": [
        {
          "output_type": "execute_result",
          "data": {
            "text/plain": [
              "array([0.03225806, 0.16129032, 0.19354839, 0.09677419, 0.64516129,\n",
              "       0.22580645, 0.67741935, 1.        , 0.        , 0.35483871])"
            ]
          },
          "metadata": {},
          "execution_count": 142
        }
      ],
      "source": [
        "X_norm[:, 2] = (X[:, 2] - X[:, 2].min()) / (X[:, 2].max() - X[:, 2].min())\n",
        "X_norm[:, 2]"
      ]
    },
    {
      "cell_type": "code",
      "metadata": {
        "id": "Zy63bpFfeqzu"
      },
      "source": [
        "### Стандартизация"
      ],
      "execution_count": 143,
      "outputs": []
    },
    {
      "cell_type": "code",
      "execution_count": 144,
      "metadata": {
        "colab": {
          "base_uri": "https://localhost:8080/",
          "height": 269
        },
        "id": "8i9pB-3-fMD4",
        "outputId": "e173d186-d819-4e4b-8d52-9885a526e969"
      },
      "outputs": [
        {
          "output_type": "display_data",
          "data": {
            "image/png": "[encoded data removed]",
            "text/plain": [
              "<Figure size 432x288 with 1 Axes>"
            ]
          },
          "metadata": {
            "needs_background": "light"
          }
        }
      ],
      "source": [
        "plt.hist(X[:, 1]);"
      ]
    },
    {
      "cell_type": "code",
      "execution_count": 145,
      "metadata": {
        "colab": {
          "base_uri": "https://localhost:8080/",
          "height": 269
        },
        "id": "-bnAYQqVfRX-",
        "outputId": "8df3cdc5-7995-46d2-a00c-91146ddfca2d"
      },
      "outputs": [
        {
          "output_type": "display_data",
          "data": {
            "image/png": "[encoded data removed]",
            "text/plain": [
              "<Figure size 432x288 with 1 Axes>"
            ]
          },
          "metadata": {
            "needs_background": "light"
          }
        }
      ],
      "source": [
        "plt.hist(X[:, 2]);"
      ]
    },
    {
      "cell_type": "markdown",
      "metadata": {
        "id": "4owLpv_tJJY0"
      },
      "source": [
        "$$s_{ij}=\\frac{x_{ij} - \\mu_{j}}{\\sigma_{j}}$$"
      ]
    },
    {
      "cell_type": "code",
      "execution_count": 146,
      "metadata": {
        "colab": {
          "base_uri": "https://localhost:8080/"
        },
        "id": "M57-Pzl_f_rF",
        "outputId": "6ff0ebd8-39d9-4a5d-936e-a0d026ceb5e2"
      },
      "outputs": [
        {
          "output_type": "execute_result",
          "data": {
            "text/plain": [
              "array([-0.57142857, -0.57142857, -0.21428571, -0.57142857,  0.14285714,\n",
              "       -0.92857143,  0.85714286,  2.64285714, -0.57142857, -0.21428571])"
            ]
          },
          "metadata": {},
          "execution_count": 146
        }
      ],
      "source": [
        "X_st = X.copy().astype(np.float64)\n",
        "\n",
        "X_st[:, 1] = (X[:, 1] - X[:, 1].mean()) / X[:, 1].std()\n",
        "X_st[:, 1]"
      ]
    },
    {
      "cell_type": "code",
      "execution_count": 147,
      "metadata": {
        "colab": {
          "base_uri": "https://localhost:8080/"
        },
        "id": "6qASCE3zJJY1",
        "outputId": "0a3ee1be-359f-438d-8fa9-7c31d06d5715"
      },
      "outputs": [
        {
          "output_type": "execute_result",
          "data": {
            "text/plain": [
              "(3.3306690738754695e-17, 1.0)"
            ]
          },
          "metadata": {},
          "execution_count": 147
        }
      ],
      "source": [
        "X_st[:, 1].mean(), X_st[:, 1].std()"
      ]
    },
    {
      "cell_type": "code",
      "execution_count": 148,
      "metadata": {
        "colab": {
          "base_uri": "https://localhost:8080/",
          "height": 269
        },
        "id": "-Y1tzWGCgYjA",
        "outputId": "bc157621-7e10-434c-e2e8-7ee3344ef890"
      },
      "outputs": [
        {
          "output_type": "display_data",
          "data": {
            "image/png": "[encoded data removed]",
            "text/plain": [
              "<Figure size 432x288 with 1 Axes>"
            ]
          },
          "metadata": {
            "needs_background": "light"
          }
        }
      ],
      "source": [
        "plt.hist(X_st[:, 1]);"
      ]
    },
    {
      "cell_type": "code",
      "execution_count": 149,
      "metadata": {
        "id": "ZlJUBOyzgkJV"
      },
      "outputs": [],
      "source": [
        "def calc_std_feat(x):\n",
        "    s = (x - x.mean()) / x.std()\n",
        "    return s"
      ]
    },
    {
      "cell_type": "code",
      "execution_count": 150,
      "metadata": {
        "colab": {
          "base_uri": "https://localhost:8080/"
        },
        "id": "6PlDlFY0hGZA",
        "outputId": "75cafc75-8f4b-4380-d700-1926d042750f"
      },
      "outputs": [
        {
          "output_type": "stream",
          "name": "stdout",
          "text": [
            "[-0.97958969 -0.56713087 -0.46401617 -0.77336028  0.97958969 -0.36090146\n",
            "  1.08270439  2.11385144 -1.08270439  0.05155735]\n",
            "[-0.89625816 -0.89625816  0.38411064 -0.89625816  0.38411064 -0.89625816\n",
            "  1.66447944  1.66447944 -0.89625816  0.38411064]\n"
          ]
        }
      ],
      "source": [
        "X_st[:, 2] = calc_std_feat(X[:, 2])\n",
        "X_st[:, 3] = calc_std_feat(X[:, 3])\n",
        "print(X_st[:, 2])\n",
        "print(X_st[:, 3])"
      ]
    },
    {
      "cell_type": "code",
      "execution_count": 151,
      "metadata": {
        "colab": {
          "base_uri": "https://localhost:8080/",
          "height": 269
        },
        "id": "xowlyecHJJY1",
        "outputId": "63e045f9-27f8-4518-f4cd-9ecc51e7e709"
      },
      "outputs": [
        {
          "output_type": "display_data",
          "data": {
            "image/png": "[encoded data removed]",
            "text/plain": [
              "<Figure size 432x288 with 1 Axes>"
            ]
          },
          "metadata": {
            "needs_background": "light"
          }
        }
      ],
      "source": [
        "plt.hist(X_st[:, 2]);"
      ]
    },
    {
      "cell_type": "code",
      "execution_count": 152,
      "metadata": {
        "id": "VDpN7UxYnrcS"
      },
      "outputs": [],
      "source": [
        "def calc_mse(y, y_pred):\n",
        "    err = np.mean((y - y_pred)**2)\n",
        "    return err\n",
        "\n",
        "# Метод градиентного спуска\n",
        "def eval_GD(X, y, iterations, alpha=1e-4):\n",
        "    np.random.seed(42)\n",
        "    w = np.random.randn(X.shape[1])\n",
        "    n = X.shape[0]\n",
        "    for i in range(1, iterations + 1):\n",
        "        y_pred = np.dot(X, w)\n",
        "        err = calc_mse(y, y_pred)\n",
        "        w -= alpha * (1/n * 2 * np.dot((y_pred - y), X))\n",
        "        if i % (iterations / 10) == 0:\n",
        "            print(i, w, err)\n",
        "    return w"
      ]
    },
    {
      "cell_type": "code",
      "execution_count": 153,
      "metadata": {
        "colab": {
          "base_uri": "https://localhost:8080/"
        },
        "id": "Ezi1IGVBJJY2",
        "outputId": "f052c7cb-bd5c-4657-9cfc-916976227b1c"
      },
      "outputs": [
        {
          "output_type": "execute_result",
          "data": {
            "text/plain": [
              "array([57.4       ,  6.12241513,  1.42846588,  4.11637116])"
            ]
          },
          "metadata": {},
          "execution_count": 153
        }
      ],
      "source": [
        "np.linalg.inv(X_st.T @ X_st) @ X_st.T @ y"
      ]
    },
    {
      "cell_type": "code",
      "execution_count": 154,
      "metadata": {
        "colab": {
          "base_uri": "https://localhost:8080/"
        },
        "id": "4nsYMAGjmFlB",
        "outputId": "cb5bbfe2-0da9-465c-8993-80f893d0269c"
      },
      "outputs": [
        {
          "output_type": "stream",
          "name": "stdout",
          "text": [
            "MSE для МНК для данных после стандартизации \t- 39.77774603555831\n",
            "\n",
            "MSE для МНК для данных БЕЗ стандартизации \t- 39.77774603555828\n",
            "\n",
            "150 [54.6517977   3.93619295  3.32277184  4.38532407] 48.50975036735786\n",
            "300 [57.26727276  4.55529967  2.89027948  4.20488959] 40.2568881963691\n",
            "450 [57.3935898   4.99245761  2.55431791  4.1072208 ] 40.02700920102978\n",
            "600 [57.39969041  5.30327372  2.29437853  4.05919065] 39.91468961744933\n",
            "750 [57.39998505  5.52555085  2.09368278  4.03988293] 39.85398827258408\n",
            "900 [57.39999928  5.6854157   1.93900185  4.03650044] 39.820644308603235\n",
            "1050 [57.39999997  5.80102512  1.81996261  4.04134839] 39.80208512858156\n",
            "1200 [57.4         5.8850695   1.72846716  4.0499101 ] 39.79164482320059\n",
            "1350 [57.4         5.94647036  1.65821673  4.05962582] 39.78572228821726\n",
            "1500 [57.4         5.99153676  1.60432664  4.06912267] 39.78234065772863\n",
            "MSE для метода градиентного спуска для данных после стандартизации - 39.78232384079615\n",
            "\n",
            "150 [nan nan nan nan] nan\n",
            "300 [nan nan nan nan] nan\n",
            "450 [nan nan nan nan] nan\n",
            "600 [nan nan nan nan] nan\n",
            "750 [nan nan nan nan] nan\n",
            "900 [nan nan nan nan] nan\n",
            "1050 [nan nan nan nan] nan\n",
            "1200 [nan nan nan nan] nan\n",
            "1350 [nan nan nan nan] nan\n",
            "1500 [nan nan nan nan] nan\n",
            "MSE для метода градиентного спуска для данных БЕЗ стандартизации - nan\n",
            "\n"
          ]
        },
        {
          "output_type": "stream",
          "name": "stderr",
          "text": [
            "/usr/local/lib/python3.7/dist-packages/ipykernel_launcher.py:2: RuntimeWarning: overflow encountered in square\n",
            "  \n",
            "/usr/local/lib/python3.7/dist-packages/ipykernel_launcher.py:13: RuntimeWarning: invalid value encountered in subtract\n",
            "  del sys.path[0]\n"
          ]
        }
      ],
      "source": [
        "w_sq_st = np.linalg.inv(X_st.T @ X_st) @ X_st.T @ y\n",
        "y_pred = np.dot(X_st, w_sq_st)\n",
        "err_sq = calc_mse(y, y_pred)\n",
        "print(f'MSE для МНК для данных после стандартизации \\t- {err_sq}\\n')\n",
        "\n",
        "w_sq = np.linalg.inv(X.T @ X) @ X.T @ y\n",
        "y_pred = np.dot(X, w_sq)\n",
        "err = calc_mse(y, y_pred)\n",
        "print(f'MSE для МНК для данных БЕЗ стандартизации \\t- {err}\\n')\n",
        "\n",
        "w_gd_st = eval_GD(X_st, y, iterations=1500, alpha=1e-2)\n",
        "y_pred = np.dot(X_st, w_gd_st)\n",
        "err_st = calc_mse(y, y_pred)\n",
        "print(f'MSE для метода градиентного спуска для данных после стандартизации - {err_st}\\n')\n",
        "\n",
        "# Градиентный спуск на данных без стандартизации не сходится! \n",
        "w_gd = eval_GD(X, y, iterations=1500, alpha=1e-2)\n",
        "y_pred = np.dot(X, w_gd)\n",
        "err_gd = calc_mse(y, y_pred)\n",
        "print(f'MSE для метода градиентного спуска для данных БЕЗ стандартизации - {err_gd}\\n')"
      ]
    },
    {
      "cell_type": "markdown",
      "metadata": {
        "id": "G_F6u9ljJJY2"
      },
      "source": [
        "## Стохастический градиентный спуск и mini-batch градиентный спуск\n",
        "\n",
        "На каждом шаге итерации градиентный спуск вычисляет градиенты для всего обучающего набора, стохастический градиентный спуск вычисляет градиент для одного объекта, а mini-batch градиентный спуск будет случайно отбирать небольшой набор данных (batch) и по ним вычислять градиент."
      ]
    },
    {
      "cell_type": "code",
      "execution_count": 155,
      "metadata": {
        "id": "yUfFFyxgJJY2"
      },
      "outputs": [],
      "source": [
        "# SGD - стохастический градиентный спуск\n",
        "def eval_SGD(X, y, iterations, alpha=1e-4):\n",
        "    np.random.seed(42)\n",
        "    w = np.random.randn(X.shape[1]) # начальное приближение весов\n",
        "    n = X.shape[0] # число наблюдений\n",
        "    for i in range(1, iterations + 1):\n",
        "        err = calc_mse(y, np.dot(X, w))\n",
        "        # генерируем случайный индекс объекта выборки\n",
        "        ind = np.random.randint(n)\n",
        "        y_pred = np.dot(X[ind], w)\n",
        "        w -= alpha * (2 * np.dot((y_pred - y[ind]), X[ind]))\n",
        "        if i % (iterations / 10) == 0:\n",
        "            print(i, w, err)\n",
        "    return w, err"
      ]
    },
    {
      "cell_type": "code",
      "execution_count": 156,
      "metadata": {
        "id": "nCcMmNdQmxDp"
      },
      "outputs": [],
      "source": [
        "# mini-batch градиентный спуск\n",
        "def eval_mbGD(X, y, iterations, batch=1, alpha=1e-4):\n",
        "    np.random.seed(42)\n",
        "    w = np.random.randn(X.shape[1]) # начальное приближение весов\n",
        "    n = X.shape[0] # число наблюдений\n",
        "    n_batch = n // batch\n",
        "    print('Количество батчей - ', n_batch)\n",
        "    if n % batch != 0:\n",
        "        n_batch += 1\n",
        "    for i in range(1, iterations + 1):\n",
        "        err = calc_mse(y, np.dot(X, w))\n",
        "        for b in range(n_batch):\n",
        "            start_ = batch * b\n",
        "            end_ = batch * (b + 1)\n",
        "            X_b = X[start_ : end_, :]\n",
        "            y_b = y[start_ : end_]\n",
        "            y_pred = np.dot(X_b, w)\n",
        "            w -= alpha * (2/len(y_b) * np.dot((y_pred - y_b), X_b))\n",
        "        if i % (iterations / 10) == 0:\n",
        "            print(i, w, err)\n",
        "    return w, err"
      ]
    },
    {
      "cell_type": "code",
      "execution_count": 157,
      "metadata": {
        "colab": {
          "base_uri": "https://localhost:8080/"
        },
        "id": "pGbE_MapJJY2",
        "outputId": "d441bb86-3abf-4669-aa15-6146149abf0a"
      },
      "outputs": [
        {
          "output_type": "stream",
          "name": "stdout",
          "text": [
            "100 [10.82085913  1.29195795  1.98348488  2.85162983] 2248.0687649833903\n",
            "200 [19.27186149  2.14047528  2.7330693   3.60356199] 1510.2342373891095\n",
            "300 [26.18957149  2.65450377  3.14650922  4.02491826] 1022.3117228222378\n",
            "400 [31.85217926  2.97593535  3.36731266  4.25691776] 697.4953996732185\n",
            "500 [36.48740201  3.18621662  3.47783381  4.380594  ] 480.53723685247013\n",
            "600 [40.28164149  3.33210452  3.52533114  4.4424407 ] 335.3786903208636\n",
            "700 [43.38747997  3.44044741  3.53692186  4.46912965] 238.17499151935831\n",
            "800 [45.92981625  3.52666784  3.52816434  4.4759573 ] 173.05307208407038\n",
            "900 [48.01088834  3.59963079  3.50798339  4.47169216] 129.4114395039912\n",
            "1000 [49.71438487  3.66443755  3.48149699  4.4613567 ] 100.15781666892352\n",
            "CPU times: user 60.2 ms, sys: 8.19 ms, total: 68.4 ms\n",
            "Wall time: 64.5 ms\n"
          ]
        },
        {
          "output_type": "execute_result",
          "data": {
            "text/plain": [
              "array([49.71438487,  3.66443755,  3.48149699,  4.4613567 ])"
            ]
          },
          "metadata": {},
          "execution_count": 157
        }
      ],
      "source": [
        "%%time\n",
        "\n",
        "eval_GD(X_st, y, iterations=1000, alpha=1e-3)"
      ]
    },
    {
      "cell_type": "code",
      "execution_count": 158,
      "metadata": {
        "colab": {
          "base_uri": "https://localhost:8080/"
        },
        "id": "4WI3RZ5zJJY2",
        "outputId": "14d43f2e-c6b3-4eec-86c9-a26ba5890a0e"
      },
      "outputs": [
        {
          "output_type": "stream",
          "name": "stdout",
          "text": [
            "100 [11.09673045  2.76640986  3.09785138  4.05453675] 2198.8260418322543\n",
            "200 [19.40970234  2.86400447  3.09542826  4.41261566] 1489.2685911460044\n",
            "300 [26.17509739  3.11438104  2.58040039  4.09774734] 1023.6032132506491\n",
            "400 [31.81702081  3.52542922  3.12340955  4.91301949] 698.280881085139\n",
            "500 [36.60993144  3.44836722  3.08448844  5.056057  ] 475.87491472215333\n",
            "600 [40.30217517  3.07591389  2.79879237  4.97630842] 334.73121001431434\n",
            "700 [43.25459714  3.16236038  3.0582185   5.02397079] 241.4393006420597\n",
            "800 [45.76168692  3.39544823  3.18838517  5.19073598] 177.1779186488138\n",
            "900 [47.76897074  3.42737814  3.03692328  4.92938277] 134.3585635124187\n",
            "1000 [49.48646635  3.6879653   3.15768445  4.99102713] 104.1539682471064\n",
            "CPU times: user 73.9 ms, sys: 6.49 ms, total: 80.4 ms\n",
            "Wall time: 72.3 ms\n"
          ]
        },
        {
          "output_type": "execute_result",
          "data": {
            "text/plain": [
              "(array([49.48646635,  3.6879653 ,  3.15768445,  4.99102713]),\n",
              " 104.1539682471064)"
            ]
          },
          "metadata": {},
          "execution_count": 158
        }
      ],
      "source": [
        "%%time\n",
        "\n",
        "eval_SGD(X_st, y, iterations=1000, alpha=1e-3) "
      ]
    },
    {
      "cell_type": "code",
      "execution_count": 159,
      "metadata": {
        "colab": {
          "base_uri": "https://localhost:8080/"
        },
        "id": "2aXap4Vsm3GV",
        "outputId": "1e4db7dd-a0f6-4d1c-bc63-ae33b9f9a997"
      },
      "outputs": [
        {
          "output_type": "stream",
          "name": "stdout",
          "text": [
            "Количество батчей -  1\n",
            "100 [10.82085913  1.29195795  1.98348488  2.85162983] 2248.0687649833903\n",
            "200 [19.27186149  2.14047528  2.7330693   3.60356199] 1510.2342373891095\n",
            "300 [26.18957149  2.65450377  3.14650922  4.02491826] 1022.3117228222378\n",
            "400 [31.85217926  2.97593535  3.36731266  4.25691776] 697.4953996732185\n",
            "500 [36.48740201  3.18621662  3.47783381  4.380594  ] 480.53723685247013\n",
            "600 [40.28164149  3.33210452  3.52533114  4.4424407 ] 335.3786903208636\n",
            "700 [43.38747997  3.44044741  3.53692186  4.46912965] 238.17499151935831\n",
            "800 [45.92981625  3.52666784  3.52816434  4.4759573 ] 173.05307208407038\n",
            "900 [48.01088834  3.59963079  3.50798339  4.47169216] 129.4114395039912\n",
            "1000 [49.71438487  3.66443755  3.48149699  4.4613567 ] 100.15781666892352\n",
            "CPU times: user 88.2 ms, sys: 11.3 ms, total: 99.4 ms\n",
            "Wall time: 105 ms\n"
          ]
        },
        {
          "output_type": "execute_result",
          "data": {
            "text/plain": [
              "(array([49.71438487,  3.66443755,  3.48149699,  4.4613567 ]),\n",
              " 100.15781666892352)"
            ]
          },
          "metadata": {},
          "execution_count": 159
        }
      ],
      "source": [
        "%%time\n",
        "\n",
        "eval_mbGD(X_st, y, iterations=1000, batch=10, alpha=1e-3) "
      ]
    },
    {
      "cell_type": "markdown",
      "metadata": {
        "id": "fETPqCf2JJY3"
      },
      "source": [
        "## Регуляризация"
      ]
    },
    {
      "cell_type": "code",
      "metadata": {
        "id": "DYTxT_6OrZpe"
      },
      "source": [
        "### L1 регуляризация - Lasso"
      ],
      "execution_count": 160,
      "outputs": []
    },
    {
      "cell_type": "markdown",
      "metadata": {
        "id": "hg_iB-RmJJY3"
      },
      "source": [
        "$$\\sum^{n}_{i=1}L_i(\\vec{x}_i,{y_i},\\vec{w}) + \\lambda \\sum^{m}_{j=1}|w_{j}| \\rightarrow \\underset{w}{\\text{min}}$$"
      ]
    },
    {
      "cell_type": "code",
      "metadata": {
        "id": "j38vId7Hvtg0"
      },
      "source": [
        "### L2 регуляризация - Ridge"
      ],
      "execution_count": 161,
      "outputs": []
    },
    {
      "cell_type": "markdown",
      "metadata": {
        "id": "IgR_CLUsJJY3"
      },
      "source": [
        "$$\\sum^{n}_{i=1}L_i(\\vec{x}_i,y_i,\\vec{w}) + \\lambda \\sum^{m}_{j=1}w_{j}^{2} \\rightarrow \\underset{w}{\\text{min}}$$"
      ]
    },
    {
      "cell_type": "code",
      "execution_count": 162,
      "metadata": {
        "id": "7AVoe1Mswjni"
      },
      "outputs": [],
      "source": [
        "def eval_model_reg2(X, y, iterations, alpha=1e-4, lambda_=1e-8, verbose=False):\n",
        "    np.random.seed(42)\n",
        "    w = np.random.randn(X.shape[1])\n",
        "    n = X.shape[0]\n",
        "    for i in range(1, iterations + 1):\n",
        "        y_pred = np.dot(X, w)\n",
        "        err = calc_mse(y, y_pred)\n",
        "        w -= alpha * (1/n * 2 * np.dot((y_pred - y), X) + 2 * lambda_ * w)\n",
        "        if verbose and i % (iterations / 10) == 0:\n",
        "            print(i, w, err)\n",
        "    return w"
      ]
    },
    {
      "cell_type": "code",
      "execution_count": 163,
      "metadata": {
        "colab": {
          "base_uri": "https://localhost:8080/"
        },
        "id": "vLJL6j8Lw6OA",
        "outputId": "b93e7f94-0cda-4be6-a66d-d1b65c87f263"
      },
      "outputs": [
        {
          "output_type": "stream",
          "name": "stdout",
          "text": [
            "100 [10.82085913  1.29195795  1.98348488  2.85162983] 2248.0687649833903\n",
            "200 [19.27186149  2.14047528  2.7330693   3.60356199] 1510.2342373891095\n",
            "300 [26.18957149  2.65450377  3.14650922  4.02491826] 1022.3117228222378\n",
            "400 [31.85217926  2.97593535  3.36731266  4.25691776] 697.4953996732185\n",
            "500 [36.48740201  3.18621662  3.47783381  4.380594  ] 480.53723685247013\n",
            "600 [40.28164149  3.33210452  3.52533114  4.4424407 ] 335.3786903208636\n",
            "700 [43.38747997  3.44044741  3.53692186  4.46912965] 238.17499151935831\n",
            "800 [45.92981625  3.52666784  3.52816434  4.4759573 ] 173.05307208407038\n",
            "900 [48.01088834  3.59963079  3.50798339  4.47169216] 129.4114395039912\n",
            "1000 [49.71438487  3.66443755  3.48149699  4.4613567 ] 100.15781666892352\n"
          ]
        },
        {
          "output_type": "execute_result",
          "data": {
            "text/plain": [
              "array([49.71438487,  3.66443755,  3.48149699,  4.4613567 ])"
            ]
          },
          "metadata": {},
          "execution_count": 163
        }
      ],
      "source": [
        "eval_model_reg2(X_st, y, iterations=1000, alpha=1e-3, lambda_=0, verbose=True)"
      ]
    },
    {
      "cell_type": "markdown",
      "metadata": {
        "id": "WTK5_MqzJJY3"
      },
      "source": [
        "Веса без регуляризации: [49.71438487,  3.66443755,  3.48149699,  4.4613567 ]"
      ]
    },
    {
      "cell_type": "markdown",
      "metadata": {
        "id": "e707jMumJJY3"
      },
      "source": [
        "Визуализируем изменение весов при изменении коэффициента регуляризации."
      ]
    },
    {
      "cell_type": "code",
      "execution_count": 164,
      "metadata": {
        "id": "maNCDFH1JJY3"
      },
      "outputs": [],
      "source": [
        "w_list = []\n",
        "l_list = []\n",
        "error_list = []\n",
        "\n",
        "for l in np.logspace(start=-4, stop=1, num=20):\n",
        "    l_list.append(l)\n",
        "    w_new = eval_model_reg2(X_st, y, iterations=1000, alpha=1e-2, lambda_=l)\n",
        "    w_list.append(w_new)\n",
        "    error_list.append(calc_mse(y, np.dot(X_st, w_new)))\n",
        "weights = np.array(w_list)\n",
        "errors = np.array(error_list)"
      ]
    },
    {
      "cell_type": "code",
      "execution_count": 165,
      "metadata": {
        "colab": {
          "base_uri": "https://localhost:8080/",
          "height": 351
        },
        "id": "Cb7xFGMqJJY4",
        "outputId": "431520a3-7ffa-420f-e487-2cc1341c7ea3"
      },
      "outputs": [
        {
          "output_type": "display_data",
          "data": {
            "image/png": "[encoded data removed]",
            "text/plain": [
              "<Figure size 720x360 with 1 Axes>"
            ]
          },
          "metadata": {
            "needs_background": "light"
          }
        }
      ],
      "source": [
        "plt.figure(figsize=(10, 5))\n",
        "plt.xscale('log')\n",
        "#plt.plot(l_list, weights[:, 0], 'mo-', label=r'$w_0$')\n",
        "plt.plot(l_list, weights[:, 1], 'go-', label=r'$w_1$')\n",
        "plt.plot(l_list, weights[:, 2], 'ro-', label=r'$w_2$')\n",
        "plt.plot(l_list, weights[:, 3], 'bo-', label=r'$w_3$')\n",
        "plt.xlabel('Коэффициент регуляризации (для L2)')\n",
        "plt.ylabel('Веса')\n",
        "plt.grid()\n",
        "plt.legend();"
      ]
    },
    {
      "cell_type": "code",
      "execution_count": 166,
      "metadata": {
        "colab": {
          "base_uri": "https://localhost:8080/",
          "height": 346
        },
        "id": "Ev7e0xT7JJY4",
        "outputId": "d2c07c48-e917-4b10-bd33-a7690532185e"
      },
      "outputs": [
        {
          "output_type": "display_data",
          "data": {
            "image/png": "[encoded data removed]",
            "text/plain": [
              "<Figure size 720x360 with 1 Axes>"
            ]
          },
          "metadata": {
            "needs_background": "light"
          }
        }
      ],
      "source": [
        "plt.figure(figsize=(10, 5))\n",
        "plt.xscale('log')\n",
        "plt.plot(l_list, errors, 'o-')\n",
        "plt.xlabel('Коэффициент регуляризации (для L2)')\n",
        "plt.ylabel('MSE')\n",
        "plt.grid();"
      ]
    },
    {
      "cell_type": "markdown",
      "metadata": {
        "id": "cjIdqFh-JJY4"
      },
      "source": [
        "## Домашние задания"
      ]
    },
    {
      "cell_type": "markdown",
      "metadata": {
        "id": "8BLVpQ2qJJY4"
      },
      "source": [
        "1. Сгенерировать датасет при помощи `sklearn.datasets.make_regression` и обучить линейную модель при помощи градиентного спуска и  стохастического градиентного спуска. Построить графики среднеквадратичной ошибки от числа итераций для обоих методов на одном рисунке, сделать выводы о разнице скорости сходимости каждого из методов.\n",
        "2. [\\*] Добавить в алгоритм градиентного спуска L1 регуляризацию. Сравнить влияние коэффициентов регуляризации L1 и L2 на величину весов (лучше графически).  \n"
      ]
    },
    {
      "cell_type": "code",
      "execution_count": 167,
      "metadata": {
        "colab": {
          "base_uri": "https://localhost:8080/"
        },
        "id": "mH6mfKHVJJY4",
        "outputId": "988a4fb3-4d09-4956-afeb-baae5ce3235f"
      },
      "outputs": [
        {
          "output_type": "stream",
          "name": "stdout",
          "text": [
            "100 [13.41171949 28.64535912 27.50610523 78.25626562 18.89255517 -0.32900751] 234.6104641617519\n",
            "200 [ 1.68733096e+01  3.29478204e+01  3.08512288e+01  8.85752190e+01\n",
            "  2.09413887e+01 -6.98480183e-02] 30.314392060882813\n",
            "300 [1.75400781e+01 3.35925690e+01 3.12658286e+01 9.00108469e+01\n",
            " 2.11489843e+01 7.36951675e-04] 26.13417272240316\n",
            "400 [1.76544993e+01 3.36891595e+01 3.13165981e+01 9.02160766e+01\n",
            " 2.11677329e+01 1.47247448e-02] 26.044500241974394\n",
            "500 [1.76730956e+01 3.37035980e+01 3.13226790e+01 9.02460348e+01\n",
            " 2.11689684e+01 1.71441831e-02] 26.042522448291898\n",
            "600 [1.76760325e+01 3.37057487e+01 3.13233801e+01 9.02504774e+01\n",
            " 2.11689478e+01 1.75297002e-02] 26.042478066197106\n",
            "700 [1.76764892e+01 3.37060676e+01 3.13234556e+01 9.02511441e+01\n",
            " 2.11689171e+01 1.75874926e-02] 26.04247705829992\n",
            "800 [1.76765595e+01 3.37061146e+01 3.13234626e+01 9.02512450e+01\n",
            " 2.11689087e+01 1.75956995e-02] 26.042477035197336\n",
            "900 [1.76765703e+01 3.37061215e+01 3.13234631e+01 9.02512604e+01\n",
            " 2.11689069e+01 1.75968001e-02] 26.0424770346635\n",
            "1000 [1.76765720e+01 3.37061225e+01 3.13234631e+01 9.02512628e+01\n",
            " 2.11689066e+01 1.75969374e-02] 26.04247703465107\n",
            "100 [14.70288072 28.17285964 27.90730856 81.6957019  22.07714367 -2.69820727] 153.45795364628074\n",
            "200 [17.11540269 31.3173259  30.60357645 88.2513623  20.8333942   0.40758037] 38.67021242025771\n",
            "300 [18.69316305 33.07646385 32.21030075 90.90603117 20.14123505 -0.31395372] 28.98313336747828\n",
            "400 [17.57326838 33.51876285 31.56618677 91.31874504 20.90554572  0.72765824] 27.89836026250108\n",
            "500 [17.51216082 34.1648469  30.96715856 89.4674521  20.92785778 -0.53331155] 27.093851250384855\n",
            "600 [18.18376265 33.39485023 31.33326208 90.00133853 21.18318969  0.28181131] 26.53616249419153\n",
            "700 [17.61277117 33.59789789 30.8954195  90.25847428 20.76000545 -0.24799292] 26.509260528907877\n",
            "800 [17.33678189 32.80068252 31.0185742  89.6589201  22.04712164  0.09326426] 27.697132132901356\n",
            "900 [18.23235586 32.47638988 30.70500315 90.31292509 21.80411846  0.4926986 ] 28.648728334873432\n",
            "1000 [1.73609090e+01 3.29744866e+01 3.13863039e+01 8.98182987e+01\n",
            " 2.13158120e+01 2.08123634e-02] 26.858608079246373\n",
            "Количество батчей -  50\n",
            "100 [1.76856830e+01 3.36972516e+01 3.13073426e+01 9.02899257e+01\n",
            " 2.11922489e+01 8.42332400e-02] 26.04907471762098\n",
            "200 [1.76856830e+01 3.36972516e+01 3.13073426e+01 9.02899257e+01\n",
            " 2.11922489e+01 8.42332400e-02] 26.04907471762098\n",
            "300 [1.76856830e+01 3.36972516e+01 3.13073426e+01 9.02899257e+01\n",
            " 2.11922489e+01 8.42332400e-02] 26.04907471762098\n",
            "400 [1.76856830e+01 3.36972516e+01 3.13073426e+01 9.02899257e+01\n",
            " 2.11922489e+01 8.42332400e-02] 26.04907471762098\n",
            "500 [1.76856830e+01 3.36972516e+01 3.13073426e+01 9.02899257e+01\n",
            " 2.11922489e+01 8.42332400e-02] 26.04907471762098\n",
            "600 [1.76856830e+01 3.36972516e+01 3.13073426e+01 9.02899257e+01\n",
            " 2.11922489e+01 8.42332400e-02] 26.04907471762098\n",
            "700 [1.76856830e+01 3.36972516e+01 3.13073426e+01 9.02899257e+01\n",
            " 2.11922489e+01 8.42332400e-02] 26.04907471762098\n",
            "800 [1.76856830e+01 3.36972516e+01 3.13073426e+01 9.02899257e+01\n",
            " 2.11922489e+01 8.42332400e-02] 26.04907471762098\n",
            "900 [1.76856830e+01 3.36972516e+01 3.13073426e+01 9.02899257e+01\n",
            " 2.11922489e+01 8.42332400e-02] 26.04907471762098\n",
            "1000 [1.76856830e+01 3.36972516e+01 3.13073426e+01 9.02899257e+01\n",
            " 2.11922489e+01 8.42332400e-02] 26.04907471762098\n"
          ]
        },
        {
          "output_type": "execute_result",
          "data": {
            "text/plain": [
              "(array([1.76856830e+01, 3.36972516e+01, 3.13073426e+01, 9.02899257e+01,\n",
              "        2.11922489e+01, 8.42332400e-02]), 26.04907471762098)"
            ]
          },
          "metadata": {},
          "execution_count": 167
        }
      ],
      "source": [
        "from sklearn import datasets\n",
        "\n",
        "X_, y_, coef = datasets.make_regression(n_samples=1000, \n",
        "                                      n_features=6, \n",
        "                                      n_informative=5, \n",
        "                                      n_targets=1,\n",
        "                                      noise=5, \n",
        "                                      coef=True, \n",
        "                                      random_state=42)\n",
        "\n",
        "eval_GD(X_, y_, 1000, alpha=1e-2)\n",
        "eval_SGD(X_, y_, 1000, alpha=1e-2)\n",
        "eval_mbGD(X_, y_, 1000, batch=20, alpha=1e-2)"
      ]
    },
    {
      "cell_type": "code",
      "source": [
        "eval_model_reg2(X_, y_, 1000, alpha=1e-2, verbose=True)"
      ],
      "metadata": {
        "colab": {
          "base_uri": "https://localhost:8080/"
        },
        "id": "BWhJ8CoeoPrr",
        "outputId": "84eaca24-0b6b-40e6-939a-04b325084f73"
      },
      "execution_count": 168,
      "outputs": [
        {
          "output_type": "stream",
          "name": "stdout",
          "text": [
            "100 [13.41171938 28.64535892 27.50610504 78.25626508 18.89255505 -0.32900751] 234.61048188019467\n",
            "200 [ 1.68733094e+01  3.29478201e+01  3.08512285e+01  8.85752182e+01\n",
            "  2.09413885e+01 -6.98480253e-02] 30.31439591890374\n",
            "300 [1.75400779e+01 3.35925686e+01 3.12658283e+01 9.00108460e+01\n",
            " 2.11489841e+01 7.36941339e-04] 26.134173324360024\n",
            "400 [1.76544990e+01 3.36891591e+01 3.13165978e+01 9.02160757e+01\n",
            " 2.11677327e+01 1.47247335e-02] 26.044500330854206\n",
            "500 [1.76730953e+01 3.37035977e+01 3.13226787e+01 9.02460339e+01\n",
            " 2.11689682e+01 1.71441716e-02] 26.042522461364623\n",
            "600 [1.76760323e+01 3.37057484e+01 3.13233798e+01 9.02504765e+01\n",
            " 2.11689476e+01 1.75296886e-02] 26.042478068130272\n",
            "700 [1.76764889e+01 3.37060673e+01 3.13234553e+01 9.02511431e+01\n",
            " 2.11689169e+01 1.75874811e-02] 26.04247705858818\n",
            "800 [1.76765593e+01 3.37061143e+01 3.13234623e+01 9.02512441e+01\n",
            " 2.11689085e+01 1.75956880e-02] 26.04247703524133\n",
            "900 [1.76765701e+01 3.37061212e+01 3.13234628e+01 9.02512595e+01\n",
            " 2.11689067e+01 1.75967886e-02] 26.04247703467105\n",
            "1000 [1.76765717e+01 3.37061222e+01 3.13234628e+01 9.02512618e+01\n",
            " 2.11689064e+01 1.75969259e-02] 26.042477034653167\n"
          ]
        },
        {
          "output_type": "execute_result",
          "data": {
            "text/plain": [
              "array([1.76765717e+01, 3.37061222e+01, 3.13234628e+01, 9.02512618e+01,\n",
              "       2.11689064e+01, 1.75969259e-02])"
            ]
          },
          "metadata": {},
          "execution_count": 168
        }
      ]
    },
    {
      "cell_type": "code",
      "source": [
        ""
      ],
      "metadata": {
        "id": "hnyNZ7pUryPp"
      },
      "execution_count": null,
      "outputs": []
    },
    {
      "cell_type": "code",
      "source": [
        "def my_eval_SGD(X, y, iterations, alpha=1e-4):\n",
        "    errors_SDG = []\n",
        "    np.random.seed(42)\n",
        "    w = np.random.randn(X.shape[1]) # начальное приближение весов\n",
        "    n = X.shape[0] # число наблюдений\n",
        "    for i in range(1, iterations + 1):\n",
        "        err = calc_mse(y, np.dot(X, w))\n",
        "        errors_SDG.append(err)\n",
        "        # генерируем случайный индекс объекта выборки\n",
        "        ind = np.random.randint(n)\n",
        "        y_pred = np.dot(X[ind], w)\n",
        "        w -= alpha * (2 * np.dot((y_pred - y[ind]), X[ind]))\n",
        "    return errors_SDG"
      ],
      "metadata": {
        "id": "PJR2o4STg_aS"
      },
      "execution_count": 169,
      "outputs": []
    },
    {
      "cell_type": "code",
      "source": [
        "def my_eval_mbGD(X, y, iterations, batch=1, alpha=1e-4):\n",
        "    errors_mbGD = []\n",
        "    np.random.seed(42)\n",
        "    w = np.random.randn(X.shape[1]) # начальное приближение весов\n",
        "    n = X.shape[0] # число наблюдений\n",
        "    n_batch = n // batch\n",
        "    print('Количество батчей - ', n_batch)\n",
        "    if n % batch != 0:\n",
        "        n_batch += 1\n",
        "    for i in range(1, iterations + 1):\n",
        "        err = calc_mse(y, np.dot(X, w))\n",
        "        errors_mbGD.append(err)\n",
        "        for b in range(n_batch):\n",
        "            start_ = batch * b\n",
        "            end_ = batch * (b + 1)\n",
        "            X_b = X[start_ : end_, :]\n",
        "            y_b = y[start_ : end_]\n",
        "            y_pred = np.dot(X_b, w)\n",
        "            w -= alpha * (2/len(y_b) * np.dot((y_pred - y_b), X_b))\n",
        "    return errors_mbGD"
      ],
      "metadata": {
        "id": "lR_U-JZZiAzv"
      },
      "execution_count": 170,
      "outputs": []
    },
    {
      "cell_type": "code",
      "source": [
        "def my_eval_GD(X, y, iterations, alpha=1e-4):\n",
        "    np.random.seed(42)\n",
        "    errors_GD = []\n",
        "    w = np.random.randn(X.shape[1])\n",
        "    n = X.shape[0]\n",
        "    for i in range(1, iterations + 1):\n",
        "        y_pred = np.dot(X, w)\n",
        "        err = calc_mse(y, y_pred)\n",
        "        errors_GD.append(err)\n",
        "        w -= alpha * (1/n * 2 * np.dot((y_pred - y), X))\n",
        "    return errors_GD"
      ],
      "metadata": {
        "id": "qMww5XGXin_-"
      },
      "execution_count": 171,
      "outputs": []
    },
    {
      "cell_type": "code",
      "source": [
        "plt.figure(figsize=(10, 5))\n",
        "plt.xscale('log')\n",
        "iterations = [i for i in range (1,201)]\n",
        "plt.plot(iterations, my_eval_GD(X_, y_, 200, alpha=1e-2), 'go-', label=r'$GD$')\n",
        "plt.plot(iterations, my_eval_SGD(X_, y_, 200, alpha=1e-2), 'ro-', label=r'$SGD$')\n",
        "plt.plot(iterations, my_eval_mbGD(X_, y_, 200, batch=100, alpha=1e-2), 'bo-', label=r'$mbGD$')\n",
        "plt.xlabel('Итерация')\n",
        "plt.ylabel('Ошибка')\n",
        "plt.grid()\n",
        "plt.legend();"
      ],
      "metadata": {
        "colab": {
          "base_uri": "https://localhost:8080/",
          "height": 363
        },
        "id": "mpGzW2mviznT",
        "outputId": "b793fa70-3802-438c-9697-288ea5d39b9a"
      },
      "execution_count": 172,
      "outputs": [
        {
          "output_type": "stream",
          "name": "stdout",
          "text": [
            "Количество батчей -  10\n"
          ]
        },
        {
          "output_type": "display_data",
          "data": {
            "image/png": "[encoded data removed]",
            "text/plain": [
              "<Figure size 720x360 with 1 Axes>"
            ]
          },
          "metadata": {
            "needs_background": "light"
          }
        }
      ]
    },
    {
      "cell_type": "code",
      "source": [
        "w_list = []\n",
        "l_list = []\n",
        "error_list = []\n",
        "\n",
        "for l in np.logspace(start=-4, stop=1, num=20):\n",
        "    l_list.append(l)\n",
        "    w_new = eval_model_reg2(X_, y_, iterations=1000, alpha=1e-2, lambda_=l)\n",
        "    w_list.append(w_new)\n",
        "    error_list.append(calc_mse(y_, np.dot(X_, w_new)))\n",
        "weights = np.array(w_list)\n",
        "errors = np.array(error_list)"
      ],
      "metadata": {
        "id": "fU1riMtqrXvf"
      },
      "execution_count": 191,
      "outputs": []
    },
    {
      "cell_type": "code",
      "source": [
        "plt.figure(figsize=(10, 5))\n",
        "plt.xscale('log')\n",
        "plt.plot(l_list, weights[:, 0], 'co-', label=r'$w_1$')\n",
        "plt.plot(l_list, weights[:, 1], 'go-', label=r'$w_1$')\n",
        "plt.plot(l_list, weights[:, 2], 'ro-', label=r'$w_2$')\n",
        "plt.plot(l_list, weights[:, 3], 'bo-', label=r'$w_3$')\n",
        "plt.plot(l_list, weights[:, 4], 'yo-', label=r'$w_4$')\n",
        "plt.plot(l_list, weights[:, 5], 'mo-', label=r'$w_5$')\n",
        "plt.xlabel('Коэффициент регуляризации (для L2)')\n",
        "plt.ylabel('Веса')\n",
        "plt.grid()\n",
        "plt.legend();"
      ],
      "metadata": {
        "colab": {
          "base_uri": "https://localhost:8080/",
          "height": 346
        },
        "id": "PF45WRBfrlSZ",
        "outputId": "acf3df84-3e6b-420f-9529-284c05868890"
      },
      "execution_count": 194,
      "outputs": [
        {
          "output_type": "display_data",
          "data": {
            "image/png": "[encoded data removed]",
            "text/plain": [
              "<Figure size 720x360 with 1 Axes>"
            ]
          },
          "metadata": {
            "needs_background": "light"
          }
        }
      ]
    },
    {
      "cell_type": "code",
      "source": [
        "def eval_model_reg1(X, y, iterations, alpha=1e-4, lambda_=1e-8, verbose=False):\n",
        "    np.random.seed(42)\n",
        "    w = np.random.randn(X.shape[1])\n",
        "    n = X.shape[0]\n",
        "    for i in range(1, iterations + 1):\n",
        "        y_pred = np.dot(X, w)\n",
        "        err = calc_mse(y, y_pred)\n",
        "        w -= alpha * (1/n * 2 * np.dot((y_pred - y), X) + lambda_ * (w/abs(w)))\n",
        "        if verbose and i % (iterations / 10) == 0:\n",
        "            print(i, w, err)\n",
        "    return w"
      ],
      "metadata": {
        "id": "7lZOWM8Cs1nI"
      },
      "execution_count": 195,
      "outputs": []
    },
    {
      "cell_type": "code",
      "source": [
        "eval_model_reg1(X_,y_, 1000, alpha=1e-2, verbose=True)"
      ],
      "metadata": {
        "colab": {
          "base_uri": "https://localhost:8080/"
        },
        "id": "HZ6QDNddvM22",
        "outputId": "a9cbf81e-a43b-4e78-8e39-9030dd3eb105"
      },
      "execution_count": 196,
      "outputs": [
        {
          "output_type": "stream",
          "name": "stdout",
          "text": [
            "100 [13.41171949 28.64535911 27.50610523 78.25626562 18.89255517 -0.3290075 ] 234.61046439732618\n",
            "200 [ 1.68733096e+01  3.29478204e+01  3.08512288e+01  8.85752190e+01\n",
            "  2.09413887e+01 -6.98480137e-02] 30.314392099306083\n",
            "300 [1.75400781e+01 3.35925690e+01 3.12658286e+01 9.00108469e+01\n",
            " 2.11489843e+01 7.36955983e-04] 26.134172728011087\n",
            "400 [1.76544993e+01 3.36891595e+01 3.13165981e+01 9.02160766e+01\n",
            " 2.11677329e+01 1.47247407e-02] 26.044500242832854\n",
            "500 [1.76730955e+01 3.37035980e+01 3.13226790e+01 9.02460348e+01\n",
            " 2.11689684e+01 1.71441778e-02] 26.04252244841817\n",
            "600 [1.76760325e+01 3.37057487e+01 3.13233801e+01 9.02504774e+01\n",
            " 2.11689478e+01 1.75296947e-02] 26.042478066215548\n",
            "700 [1.76764891e+01 3.37060676e+01 3.13234556e+01 9.02511441e+01\n",
            " 2.11689171e+01 1.75874872e-02] 26.042477058302605\n",
            "800 [1.76765595e+01 3.37061146e+01 3.13234626e+01 9.02512450e+01\n",
            " 2.11689087e+01 1.75956940e-02] 26.042477035197727\n",
            "900 [1.76765703e+01 3.37061215e+01 3.13234631e+01 9.02512604e+01\n",
            " 2.11689069e+01 1.75967947e-02] 26.042477034663555\n",
            "1000 [1.76765720e+01 3.37061225e+01 3.13234631e+01 9.02512627e+01\n",
            " 2.11689066e+01 1.75969320e-02] 26.04247703465108\n"
          ]
        },
        {
          "output_type": "execute_result",
          "data": {
            "text/plain": [
              "array([1.76765720e+01, 3.37061225e+01, 3.13234631e+01, 9.02512627e+01,\n",
              "       2.11689066e+01, 1.75969320e-02])"
            ]
          },
          "metadata": {},
          "execution_count": 196
        }
      ]
    },
    {
      "cell_type": "code",
      "source": [
        "w_list1 = []\n",
        "l_list1 = []\n",
        "error_list1 = []\n",
        "\n",
        "for l in np.logspace(start=-4, stop=1, num=20):\n",
        "    l_list1.append(l)\n",
        "    w_new1 = eval_model_reg1(X_, y_, iterations=1000, alpha=1e-2, lambda_=l)\n",
        "    w_list1.append(w_new1)\n",
        "    error_list1.append(calc_mse(y_, np.dot(X_, w_new1)))\n",
        "weights1 = np.array(w_list)\n",
        "errors1 = np.array(error_list)"
      ],
      "metadata": {
        "id": "FPVTcm0Mvmn6"
      },
      "execution_count": 204,
      "outputs": []
    },
    {
      "cell_type": "code",
      "source": [
        "plt.figure(figsize=(10, 5))\n",
        "plt.xscale('log')\n",
        "plt.plot(l_list1, weights1[:, 0], 'co-', label=r'$w_1$')\n",
        "plt.plot(l_list1, weights1[:, 1], 'go-', label=r'$w_1$')\n",
        "plt.plot(l_list1, weights1[:, 2], 'ro-', label=r'$w_2$')\n",
        "plt.plot(l_list1, weights1[:, 3], 'bo-', label=r'$w_3$')\n",
        "plt.plot(l_list1, weights1[:, 4], 'yo-', label=r'$w_4$')\n",
        "plt.plot(l_list1, weights1[:, 5], 'mo-', label=r'$w_5$')\n",
        "plt.xlabel('Коэффициент регуляризации (для L1)')\n",
        "plt.ylabel('Веса')\n",
        "plt.grid()\n",
        "plt.legend();"
      ],
      "metadata": {
        "colab": {
          "base_uri": "https://localhost:8080/",
          "height": 346
        },
        "id": "jzLzhft_wGIF",
        "outputId": "e8d9efe9-72f0-4735-8746-79aa21c3faf4"
      },
      "execution_count": 205,
      "outputs": [
        {
          "output_type": "display_data",
          "data": {
            "image/png": "[encoded data removed]",
            "text/plain": [
              "<Figure size 720x360 with 1 Axes>"
            ]
          },
          "metadata": {
            "needs_background": "light"
          }
        }
      ]
    },
    {
      "cell_type": "code",
      "source": [
        "X_st_new = X_.copy().astype(np.float64)\n",
        "index = 1\n",
        "while index < 6:\n",
        "  X_st_new[:, index] = calc_std_feat(X_[:, index])\n",
        "  index+=1\n",
        "\n",
        "eval_GD(X_st_new, y_, 1000, alpha=1e-2)\n",
        "eval_SGD(X_st_new, y_, 1000, alpha=1e-2)\n",
        "eval_mbGD(X_st_new, y_, 1000, batch=50, alpha=1e-2)"
      ],
      "metadata": {
        "colab": {
          "base_uri": "https://localhost:8080/"
        },
        "id": "4CcxGqI3gJFX",
        "outputId": "208b698c-18f1-485f-db4e-83b0a66d2b2f"
      },
      "execution_count": 173,
      "outputs": [
        {
          "output_type": "stream",
          "name": "stdout",
          "text": [
            "100 [13.49401104 28.30365055 27.47578259 78.08347274 18.88994654 -0.25875013] 240.27766578274688\n",
            "200 [ 1.69820338e+01  3.19488534e+01  3.06973722e+01  8.83073456e+01\n",
            "  2.09789902e+01 -3.86623352e-02] 45.22307100471537\n",
            "300 [1.76516769e+01 3.24137524e+01 3.10745886e+01 8.97252180e+01\n",
            " 2.11972947e+01 1.89645153e-02] 41.39006971223308\n",
            "400 [1.77662062e+01 3.24723888e+01 3.11167628e+01 8.99279932e+01\n",
            " 2.12181299e+01 2.99674680e-02] 41.310316322052095\n",
            "500 [1.77847745e+01 3.24796453e+01 3.11210834e+01 8.99576984e+01\n",
            " 2.12197166e+01 3.17844403e-02] 41.30858964726562\n",
            "600 [1.77877038e+01 3.24805165e+01 3.11214467e+01 8.99621307e+01\n",
            " 2.12197494e+01 3.20564201e-02] 41.308551124372244\n",
            "700 [1.77881595e+01 3.24806160e+01 3.11214601e+01 8.99628013e+01\n",
            " 2.12197260e+01 3.20936953e-02] 41.308550243424406\n",
            "800 [1.77882298e+01 3.24806264e+01 3.11214561e+01 8.99629038e+01\n",
            " 2.12197185e+01 3.20982972e-02] 41.308550222843714\n",
            "900 [1.77882407e+01 3.24806273e+01 3.11214546e+01 8.99629196e+01\n",
            " 2.12197168e+01 3.20987768e-02] 41.30855022235378\n",
            "1000 [1.77882424e+01 3.24806274e+01 3.11214542e+01 8.99629221e+01\n",
            " 2.12197164e+01 3.20988087e-02] 41.30855022234191\n",
            "100 [15.06757961 28.69193241 27.734694   81.32976314 21.66290231 -2.11588699] 152.14722453103414\n",
            "200 [16.55135508 30.70740161 30.23099099 88.16508046 20.91887353  0.39242319] 51.470740109778255\n",
            "300 [18.01326477 31.79784894 32.19387025 91.15979433 20.47653339 -0.75565537] 45.287461420527876\n",
            "400 [16.97479986 32.92184889 31.38630687 90.85089573 20.64505316  0.63470215] 43.79035560114503\n",
            "500 [17.12946077 33.12001043 30.81684671 88.65319737 21.18610657 -0.6599053 ] 43.796256186380454\n",
            "600 [18.10956404 32.45361118 30.99443689 89.37989694 21.44426014  0.25771634] 42.15386616251632\n",
            "700 [17.57823999 32.18915548 30.54514426 90.20474058 21.37868772 -0.6325863 ] 41.939685790672755\n",
            "800 [16.84824683 31.4067638  30.38043293 89.65397454 21.97035116 -0.17270194] 44.46864125816605\n",
            "900 [ 1.82550767e+01  3.14696031e+01  3.05568690e+01  9.05345637e+01\n",
            "  2.13782205e+01 -2.13149676e-02] 42.64691453638781\n",
            "1000 [17.96966091 31.73188556 31.09361274 89.54938255 20.87594909  0.87139087] 42.803376927724265\n",
            "Количество батчей -  20\n",
            "100 [1.77908323e+01 3.24690933e+01 3.11148759e+01 8.99652086e+01\n",
            " 2.12338190e+01 6.09168157e-02] 41.3097157089773\n",
            "200 [1.77908323e+01 3.24690933e+01 3.11148759e+01 8.99652086e+01\n",
            " 2.12338190e+01 6.09168157e-02] 41.30971570897729\n",
            "300 [1.77908323e+01 3.24690933e+01 3.11148759e+01 8.99652086e+01\n",
            " 2.12338190e+01 6.09168157e-02] 41.30971570897729\n",
            "400 [1.77908323e+01 3.24690933e+01 3.11148759e+01 8.99652086e+01\n",
            " 2.12338190e+01 6.09168157e-02] 41.30971570897729\n",
            "500 [1.77908323e+01 3.24690933e+01 3.11148759e+01 8.99652086e+01\n",
            " 2.12338190e+01 6.09168157e-02] 41.30971570897729\n",
            "600 [1.77908323e+01 3.24690933e+01 3.11148759e+01 8.99652086e+01\n",
            " 2.12338190e+01 6.09168157e-02] 41.30971570897729\n",
            "700 [1.77908323e+01 3.24690933e+01 3.11148759e+01 8.99652086e+01\n",
            " 2.12338190e+01 6.09168157e-02] 41.30971570897729\n",
            "800 [1.77908323e+01 3.24690933e+01 3.11148759e+01 8.99652086e+01\n",
            " 2.12338190e+01 6.09168157e-02] 41.30971570897729\n",
            "900 [1.77908323e+01 3.24690933e+01 3.11148759e+01 8.99652086e+01\n",
            " 2.12338190e+01 6.09168157e-02] 41.30971570897729\n",
            "1000 [1.77908323e+01 3.24690933e+01 3.11148759e+01 8.99652086e+01\n",
            " 2.12338190e+01 6.09168157e-02] 41.30971570897729\n"
          ]
        },
        {
          "output_type": "execute_result",
          "data": {
            "text/plain": [
              "(array([1.77908323e+01, 3.24690933e+01, 3.11148759e+01, 8.99652086e+01,\n",
              "        2.12338190e+01, 6.09168157e-02]), 41.30971570897729)"
            ]
          },
          "metadata": {},
          "execution_count": 173
        }
      ]
    },
    {
      "cell_type": "code",
      "source": [
        "plt.figure(figsize=(10, 5))\n",
        "plt.xscale('log')\n",
        "iterations = [i for i in range (1,1001)]\n",
        "plt.plot(iterations, my_eval_GD(X_st_new, y_,  1000, alpha=1e-2), 'go-', label=r'$GD$')\n",
        "plt.plot(iterations, my_eval_SGD(X_st_new, y_, 1000, alpha=1e-2), 'ro-', label=r'$SGD$')\n",
        "plt.plot(iterations, my_eval_mbGD(X_st_new, y_, 1000, batch=100, alpha=1e-2), 'bo-', label=r'$mbGD$')\n",
        "plt.xlabel('Итерация')\n",
        "plt.ylabel('Ошибка')\n",
        "plt.grid()\n",
        "plt.legend();"
      ],
      "metadata": {
        "colab": {
          "base_uri": "https://localhost:8080/",
          "height": 363
        },
        "id": "pcEhkhmznUAE",
        "outputId": "f390ddbe-dfdf-4593-e317-ae3105332a50"
      },
      "execution_count": 175,
      "outputs": [
        {
          "output_type": "stream",
          "name": "stdout",
          "text": [
            "Количество батчей -  10\n"
          ]
        },
        {
          "output_type": "display_data",
          "data": {
            "image/png": "[encoded data removed]",
            "text/plain": [
              "<Figure size 720x360 with 1 Axes>"
            ]
          },
          "metadata": {
            "needs_background": "light"
          }
        }
      ]
    },
    {
      "cell_type": "code",
      "source": [
        "X_norm_new = X_.copy()\n",
        "X_norm_new = X_norm_new.astype(np.float64)\n",
        "index = 1\n",
        "while index < 6:\n",
        "  X_norm_new[:, index] = (X_[:, index] - X_[:, index].min()) / (X_[:, index].max() - X_[:, index].min())\n",
        "  index+=1\n",
        "eval_GD(X_norm_new, y_, 1000, alpha=1e-2)\n",
        "eval_SGD(X_norm_new, y_, 1000, alpha=1e-2)\n",
        "eval_mbGD(X_norm_new, y_, 1000, batch=50, alpha=1e-2)"
      ],
      "metadata": {
        "colab": {
          "base_uri": "https://localhost:8080/"
        },
        "id": "kBDNT7_7W6ZN",
        "outputId": "c4a4251a-0286-47b9-bb26-2fdd110fd2ab"
      },
      "execution_count": 176,
      "outputs": [
        {
          "output_type": "stream",
          "name": "stdout",
          "text": [
            "100 [ 8.38972347  2.17213677  1.75910305 19.88952327 -1.78346309 -8.45448982] 10359.407416888607\n",
            "200 [  9.52069279   2.09557887   0.41474975  35.05246705  -5.65214415\n",
            " -18.44710255] 10010.75327464183\n",
            "300 [  9.82576554   1.77833484  -1.13955125  49.27365359  -9.61132072\n",
            " -28.24610725] 9693.929827700442\n",
            "400 [ 10.02386415   1.45792114  -2.65618107  62.83049846 -13.42022435\n",
            " -37.64932508] 9404.525824583638\n",
            "500 [ 10.20190623   1.15945233  -4.10991038  75.77906699 -17.05910822\n",
            " -46.65012091] 9140.146195230876\n",
            "600 [ 10.37064162   0.88427953  -5.50038928  88.14951558 -20.53272329\n",
            " -55.26312836] 8898.625791176311\n",
            "700 [ 10.53166539   0.63115557  -6.82998158  99.96800869 -23.84827473\n",
            " -63.5047285 ] 8677.987183092964\n",
            "800 [ 10.68546364   0.39862428  -8.10126048 111.25923969 -27.01294217\n",
            " -71.3908701 ] 8476.42409345864\n",
            "900 [ 10.83237689   0.18528759  -9.31672716 122.04676308 -30.03361108\n",
            " -78.93684836] 8292.286570062006\n",
            "1000 [ 1.09727156e+01 -1.01687272e-02 -1.04787824e+01  1.32353076e+02\n",
            " -3.29168554e+01 -8.61573053e+01] 8124.067448643586\n",
            "100 [ 18.22813462  -0.49010192  -0.72612414  19.98972442  -0.76498539\n",
            " -13.2514708 ] 10406.88085355619\n",
            "200 [ 19.04446272  -4.58858897  -1.04218955  33.669051     1.19428419\n",
            " -15.77371503] 10125.694284842011\n",
            "300 [ 16.26192981  -7.882244   -12.22133917  48.73632748 -15.73204846\n",
            " -37.83065503] 9948.239923879219\n",
            "400 [  9.01081968  -1.21078919  -9.99131438  66.8753465  -13.9715644\n",
            " -38.14954084] 9349.726900821832\n",
            "500 [ -1.72280162  -0.90802105  -7.46579421  89.20381757 -10.12035898\n",
            " -41.71309079] 9292.557848665188\n",
            "600 [ 20.38036045  -3.87263886 -10.03201377  99.50064801 -11.43677869\n",
            " -57.34319318] 8889.838816943819\n",
            "700 [  6.77556729 -13.61009781 -14.35961755 102.08381487 -15.92044187\n",
            " -72.3701114 ] 8670.389457369454\n",
            "800 [ 19.20456525  -8.12271015  -7.47785107 122.63323519 -14.7067445\n",
            " -72.73679595] 8540.918233740264\n",
            "900 [  9.71280497 -14.85880116 -13.25317981 123.88739444 -26.5517564\n",
            " -89.30625021] 8465.490865968639\n",
            "1000 [ 22.95678195  -6.09185678 -15.27260681 144.98401109 -28.57679996\n",
            " -93.44066116] 8087.804943219593\n",
            "Количество батчей -  20\n",
            "100 [  12.60522164   -1.17594009  -19.48482177  213.29436657  -55.32516628\n",
            " -143.29339872] 7078.6052808092645\n",
            "200 [  13.71508074   -1.59724541  -28.96870737  297.01053688  -78.34761987\n",
            " -203.67332724] 6466.1693468735075\n",
            "300 [  14.15924445   -1.32743875  -32.75396471  330.65523068  -87.45063304\n",
            " -228.60897477] 6365.60201521169\n",
            "400 [  14.33714357   -1.06541507  -34.24802795  344.18736817  -91.05962646\n",
            " -238.89400628] 6349.064282599256\n",
            "500 [  14.40845009   -0.90583051  -34.83221716  349.63391963  -92.49397467\n",
            " -243.1316014 ] 6346.340151282647\n",
            "600 [  14.43705122   -0.82230541  -35.05876605  351.8274867   -93.0653148\n",
            " -244.87590427] 6345.890293922302\n",
            "700 [  14.44853045   -0.78173542  -35.14597022  352.7114372   -93.29335713\n",
            " -245.59330672] 6345.815667067964\n",
            "800 [  14.45314044   -0.76287464  -35.17930453  353.06783119  -93.38454384\n",
            " -245.88814531] 6345.803174744229\n",
            "900 [  14.45499281   -0.7543517   -35.19196145  353.21159158  -93.42106662\n",
            " -246.00923908] 6345.801044542033\n",
            "1000 [  14.4557375    -0.75057505  -35.19673514  353.26960632  -93.43571668\n",
            " -246.0589447 ] 6345.80066767685\n"
          ]
        },
        {
          "output_type": "execute_result",
          "data": {
            "text/plain": [
              "(array([  14.4557375 ,   -0.75057505,  -35.19673514,  353.26960632,\n",
              "         -93.43571668, -246.0589447 ]), 6345.80066767685)"
            ]
          },
          "metadata": {},
          "execution_count": 176
        }
      ]
    },
    {
      "cell_type": "code",
      "source": [
        "plt.figure(figsize=(10, 5))\n",
        "plt.xscale('log')\n",
        "iterations = [i for i in range (1,1001)]\n",
        "plt.plot(iterations, my_eval_GD(X_norm_new, y_, 1000, alpha=1e-2), 'go-', label=r'$GD$')\n",
        "plt.plot(iterations, my_eval_SGD(X_norm_new, y_, 1000, alpha=1e-2), 'ro-', label=r'$SGD$')\n",
        "plt.plot(iterations, my_eval_mbGD(X_norm_new, y_, 1000, batch=20, alpha=1e-2), 'bo-', label=r'$mbGD$')\n",
        "plt.xlabel('Итерация')\n",
        "plt.ylabel('Ошибка')\n",
        "plt.grid()\n",
        "plt.legend();"
      ],
      "metadata": {
        "colab": {
          "base_uri": "https://localhost:8080/",
          "height": 363
        },
        "id": "oxhat1gqne1N",
        "outputId": "44ce00af-221a-4c3c-d705-4d6837f9dbe6"
      },
      "execution_count": 178,
      "outputs": [
        {
          "output_type": "stream",
          "name": "stdout",
          "text": [
            "Количество батчей -  50\n"
          ]
        },
        {
          "output_type": "display_data",
          "data": {
            "image/png": "[encoded data removed]",
            "text/plain": [
              "<Figure size 720x360 with 1 Axes>"
            ]
          },
          "metadata": {
            "needs_background": "light"
          }
        }
      ]
    },
    {
      "cell_type": "code",
      "source": [
        "w_ = np.linalg.inv(X_.T @ X_) @ X_.T @ y_\n",
        "y_pred_ = np.dot(X_, w_)\n",
        "err_ = calc_mse(y_, y_pred_)\n",
        "print(err_)"
      ],
      "metadata": {
        "colab": {
          "base_uri": "https://localhost:8080/"
        },
        "id": "Al3mLb1GZ5x-",
        "outputId": "1b012259-bfbf-416d-c3cb-8546313af0ee"
      },
      "execution_count": 179,
      "outputs": [
        {
          "output_type": "stream",
          "name": "stdout",
          "text": [
            "26.04247703465077\n"
          ]
        }
      ]
    },
    {
      "cell_type": "code",
      "source": [
        "w_st_new = np.linalg.inv(X_st_new.T @ X_st_new) @ X_st_new.T @ y_\n",
        "y_pred_new = np.dot(X_st_new, w_st_new)\n",
        "err_st_new = calc_mse(y_, y_pred_new)\n",
        "print(err_st_new)"
      ],
      "metadata": {
        "colab": {
          "base_uri": "https://localhost:8080/"
        },
        "id": "t4QZxeRqcG5d",
        "outputId": "80c51267-c2c9-4cc5-fd52-40af3969cde0"
      },
      "execution_count": 180,
      "outputs": [
        {
          "output_type": "stream",
          "name": "stdout",
          "text": [
            "41.308550222341616\n"
          ]
        }
      ]
    },
    {
      "cell_type": "code",
      "source": [
        "w_norm_new = np.linalg.inv(X_norm_new.T @ X_norm_new) @ X_norm_new.T @ y_\n",
        "y_pred_newnorm = np.dot(X_norm_new, w_norm_new)\n",
        "err_st_newnorm = calc_mse(y_, y_pred_newnorm)\n",
        "print(err_st_newnorm)"
      ],
      "metadata": {
        "colab": {
          "base_uri": "https://localhost:8080/"
        },
        "id": "dxYk7Aowgmgu",
        "outputId": "fb31f405-2899-4464-d0de-4ec6246097ad"
      },
      "execution_count": 181,
      "outputs": [
        {
          "output_type": "stream",
          "name": "stdout",
          "text": [
            "6345.53887637608\n"
          ]
        }
      ]
    },
    {
      "cell_type": "markdown",
      "metadata": {
        "id": "QTuHcmyuJJY4"
      },
      "source": [
        "Методичка https://colab.research.google.com/drive/1nEC_D2y-maMuvbN-5iYFAjzLUw0eGOir"
      ]
    },
    {
      "cell_type": "code",
      "execution_count": 181,
      "metadata": {
        "id": "Y2KCQUXqJJY4"
      },
      "outputs": [],
      "source": [
        ""
      ]
    }
  ],
  "metadata": {
    "colab": {
      "collapsed_sections": [
        "PxnYE1k7JJYv"
      ],
      "name": "Lesson_2.ipynb",
      "provenance": []
    },
    "kernelspec": {
      "display_name": "Python 3",
      "language": "python",
      "name": "python3"
    },
    "language_info": {
      "codemirror_mode": {
        "name": "ipython",
        "version": 3
      },
      "file_extension": ".py",
      "mimetype": "text/x-python",
      "name": "python",
      "nbconvert_exporter": "python",
      "pygments_lexer": "ipython3",
      "version": "3.7.3"
    },
    "toc": {
      "base_numbering": 1,
      "nav_menu": {},
      "number_sections": false,
      "sideBar": true,
      "skip_h1_title": true,
      "title_cell": "План урока",
      "title_sidebar": "План",
      "toc_cell": true,
      "toc_position": {
        "height": "calc(100% - 180px)",
        "left": "10px",
        "top": "150px",
        "width": "165px"
      },
      "toc_section_display": true,
      "toc_window_display": false
    }
  },
  "nbformat": 4,
  "nbformat_minor": 0
}