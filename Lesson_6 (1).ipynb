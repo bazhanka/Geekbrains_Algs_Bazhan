{
  "cells": [
    {
      "cell_type": "markdown",
      "metadata": {
        "id": "41AitfhKbsha"
      },
      "source": [
        "# Урок 6. Градиентный бустинг"
      ]
    },
    {
      "cell_type": "markdown",
      "metadata": {
        "id": "Rg5ilDbTbshs"
      },
      "source": [
        "### Стохастический градиентный бустинг"
      ]
    },
    {
      "cell_type": "markdown",
      "metadata": {
        "id": "eJrobWhDbsht"
      },
      "source": [
        "Как и в случае с градиентым спуском, есть так называемый стохастический градиентный бустинг, являющийся упрощенной (в плане потребления ресурсов) версией алгоритма. Его суть заключается в обучении каждого нового базового алгоритма на новой итерации не на всей обучающей выборке, а на некоторой ее случайной подвыборке. Практика показывает, что такой алгоритм позволяет получить такую же ошибку или даже уменьшить ее при том же числе итераций, что и в случае использования обычного бустинга."
      ]
    },
    {
      "cell_type": "code",
      "execution_count": 2,
      "metadata": {
        "id": "Qk-74OFhbshx"
      },
      "outputs": [],
      "source": [
        "from sklearn.tree import DecisionTreeRegressor\n",
        "\n",
        "from sklearn import model_selection\n",
        "import numpy as np"
      ]
    },
    {
      "cell_type": "code",
      "execution_count": 3,
      "metadata": {
        "id": "eDZbSvqMbsh1"
      },
      "outputs": [],
      "source": [
        "from sklearn.datasets import load_diabetes"
      ]
    },
    {
      "cell_type": "code",
      "execution_count": 4,
      "metadata": {
        "colab": {
          "base_uri": "https://localhost:8080/"
        },
        "id": "leu8bBI7bsh6",
        "outputId": "fbac3723-2a0d-4101-837c-0f39140ceb80"
      },
      "outputs": [
        {
          "output_type": "execute_result",
          "data": {
            "text/plain": [
              "((442, 10), (442,))"
            ]
          },
          "metadata": {},
          "execution_count": 4
        }
      ],
      "source": [
        "X, y = load_diabetes(return_X_y=True)\n",
        "X.shape, y.shape"
      ]
    },
    {
      "cell_type": "markdown",
      "metadata": {
        "id": "cz_JhiIpbsh8"
      },
      "source": [
        "Разделим выборку на обучающую и тестовую в соотношении 75/25."
      ]
    },
    {
      "cell_type": "code",
      "execution_count": 5,
      "metadata": {
        "id": "ExZPR9FLbsh9"
      },
      "outputs": [],
      "source": [
        "X_train, X_test, y_train, y_test = model_selection.train_test_split(X, y, test_size=0.25, random_state=42)"
      ]
    },
    {
      "cell_type": "code",
      "execution_count": 6,
      "metadata": {
        "id": "wU_Rkc63bsiA"
      },
      "outputs": [],
      "source": [
        "def gb_predict(X, trees_list, coef_list, eta):\n",
        "    # Реализуемый алгоритм градиентного бустинга будет инициализироваться нулевыми значениями,\n",
        "    # поэтому все деревья из списка trees_list уже являются дополнительными и при предсказании \n",
        "    # прибавляются с шагом eta\n",
        "    return np.array([sum([\n",
        "        eta * coef * alg.predict([x])[0] for alg, coef in zip(trees_list, coef_list)]) \n",
        "                     for x in X])"
      ]
    },
    {
      "cell_type": "markdown",
      "metadata": {
        "id": "6gZvsyfSbsiD"
      },
      "source": [
        "В качестве функционала ошибки будем использовать среднеквадратичную ошибку. Реализуем соответствующую функцию."
      ]
    },
    {
      "cell_type": "code",
      "execution_count": 7,
      "metadata": {
        "id": "0xbjFIEKbsiE"
      },
      "outputs": [],
      "source": [
        "def mean_squared_error(y_real, prediction):\n",
        "    return (sum((y_real - prediction) ** 2)) / len(y_real)"
      ]
    },
    {
      "cell_type": "markdown",
      "metadata": {
        "id": "Qlr3KD6zbsiH"
      },
      "source": [
        "Используем $L_{2}$ loss $L(y, z) = (y-z)^{2},$ ее производная по $z$ примет вид $L'(y, z) = 2(z-y)$. Тогда сдвиг будет равен $s =- L'(y, z)$. "
      ]
    },
    {
      "cell_type": "code",
      "execution_count": 8,
      "metadata": {
        "id": "WRaZEd3ebsiI"
      },
      "outputs": [],
      "source": [
        "def bias(y, z):\n",
        "    return - 2 * (z - y)"
      ]
    },
    {
      "cell_type": "markdown",
      "metadata": {
        "id": "ut-7dBgVbsiK"
      },
      "source": [
        "Реализуем функцию обучения градиентного бустинга."
      ]
    },
    {
      "cell_type": "code",
      "execution_count": 9,
      "metadata": {
        "id": "HoIdAoPYbsiL"
      },
      "outputs": [],
      "source": [
        "def gb_fit(n_trees, max_depth, X_train, X_test, y_train, y_test, coefs, eta):\n",
        "    \n",
        "    # eta - скорость обучения\n",
        "    # Деревья будем записывать в список\n",
        "    trees = []\n",
        "    \n",
        "    # Будем записывать ошибки на обучающей и тестовой выборке на каждой итерации в список\n",
        "    train_errors = []\n",
        "    test_errors = []\n",
        "    \n",
        "    for i in range(n_trees):\n",
        "        tree = DecisionTreeRegressor(max_depth=max_depth, random_state=42)\n",
        "\n",
        "        # инициализируем бустинг начальным алгоритмом, возвращающим ноль, \n",
        "        # поэтому первый алгоритм просто обучаем на выборке и добавляем в список\n",
        "        if len(trees) == 0:\n",
        "            # обучаем первое дерево на обучающей выборке\n",
        "            tree.fit(X_train, y_train)\n",
        "            \n",
        "            train_errors.append(mean_squared_error(y_train, gb_predict(X_train, trees, coefs, eta)))\n",
        "            test_errors.append(mean_squared_error(y_test, gb_predict(X_test, trees, coefs, eta)))\n",
        "        else:\n",
        "            # Получим ответы на текущей композиции\n",
        "            z_train = gb_predict(X_train, trees, coefs, eta)\n",
        "            \n",
        "            # алгоритмы, начиная со второго, обучаем на сдвиг\n",
        "            tree.fit(X_train, bias(y_train, z_train))\n",
        "            \n",
        "            train_errors.append(mean_squared_error(y_train, gb_predict(X_train, trees, coefs, eta)))\n",
        "            test_errors.append(mean_squared_error(y_test, gb_predict(X_test, trees, coefs, eta)))\n",
        "\n",
        "        trees.append(tree)\n",
        "        \n",
        "    return trees, train_errors, test_errors"
      ]
    },
    {
      "cell_type": "markdown",
      "metadata": {
        "id": "0vkHFhhzbsiN"
      },
      "source": [
        "Теперь обучим несколько моделей с разными параметрами и исследуем их поведение."
      ]
    },
    {
      "cell_type": "code",
      "execution_count": 10,
      "metadata": {
        "id": "GDMFn3R-bsiR"
      },
      "outputs": [],
      "source": [
        "def evaluate_alg(X_train, X_test, y_train, y_test, trees, coefs, eta):\n",
        "    \n",
        "    train_prediction = gb_predict(X_train, trees, coefs, eta)\n",
        "\n",
        "    mse_train = mean_squared_error(y_train, train_prediction)\n",
        "\n",
        "    test_prediction = gb_predict(X_test, trees, coefs, eta)\n",
        "\n",
        "    mse_test = mean_squared_error(y_test, test_prediction)\n",
        "\n",
        "    return mse_train, mse_test"
      ]
    },
    {
      "cell_type": "code",
      "source": [
        "# Число деревьев в ансамбле\n",
        "n_trees = 25\n",
        "\n",
        "# для простоты примем коэффициенты равными 1\n",
        "coefs = [1] * n_trees\n",
        "\n",
        "# Максимальная глубина деревьев\n",
        "max_depth = 3\n",
        "\n",
        "# Шаг\n",
        "eta = 0.05\n",
        "\n",
        "all_eta = []\n",
        "all_mse_train = []\n",
        "all_mse_test = []\n",
        "\n",
        "while eta <= 0.5:\n",
        "    all_eta.append(eta)\n",
        "    trees, train_errors, test_errors = gb_fit(n_trees, max_depth, X_train, X_test, y_train, y_test, coefs, eta)\n",
        "    mse_train, mse_test = evaluate_alg(X_train, X_test, y_train, y_test, trees, coefs, eta)\n",
        "    all_mse_train.append(mse_train)\n",
        "    all_mse_test.append(mse_test)\n",
        "    eta += 0.05\n",
        "\n",
        "print(all_mse_train, all_mse_test)"
      ],
      "metadata": {
        "colab": {
          "base_uri": "https://localhost:8080/"
        },
        "id": "TzFFNY-0yGu5",
        "outputId": "3124dcc2-68fd-48bd-a9b8-3ac96375422d"
      },
      "execution_count": 11,
      "outputs": [
        {
          "output_type": "stream",
          "name": "stdout",
          "text": [
            "[2103.825428374197, 1356.3728316052907, 1160.3183304666686, 822.9548349927874, 724.6999711112796, 620.069530264813, 480.54637719869476, 478.69361633675504, 398.65020637573787, 412.71574181107525] [2993.4572220304362, 3210.037824305435, 3293.2184446790975, 3453.413378143705, 3796.3893338873004, 3478.3872645200763, 4202.457944591111, 4032.445709300567, 5577.896684393286, 5302.251461590757]\n"
          ]
        }
      ]
    },
    {
      "cell_type": "markdown",
      "metadata": {
        "id": "TluGn7Iubsib"
      },
      "source": [
        "Построим графики зависимости ошибки на обучающей и тестовой выборках от числа итераций."
      ]
    },
    {
      "cell_type": "code",
      "execution_count": 12,
      "metadata": {
        "id": "QXrSdSgjbsic"
      },
      "outputs": [],
      "source": [
        "import matplotlib.pyplot as plt"
      ]
    },
    {
      "cell_type": "code",
      "execution_count": 13,
      "metadata": {
        "id": "gjDdKkgObsif"
      },
      "outputs": [],
      "source": [
        "def get_error_plot(all_eta, all_mse_train, all_mse_test):\n",
        "    plt.xlabel('Step')\n",
        "    plt.ylabel('MSE')\n",
        "    plt.xlim(0.1, 0.5)\n",
        "    plt.plot(all_eta, all_mse_train, label='train error')\n",
        "    plt.plot(all_eta, all_mse_test, label='test error')\n",
        "    plt.legend(loc='upper right')\n",
        "    plt.show()"
      ]
    },
    {
      "cell_type": "code",
      "execution_count": 14,
      "metadata": {
        "colab": {
          "base_uri": "https://localhost:8080/",
          "height": 279
        },
        "id": "Was5hOJPbsih",
        "outputId": "187c7409-7005-4247-fb0b-02ccdf5314d0"
      },
      "outputs": [
        {
          "output_type": "display_data",
          "data": {
            "image/png": "[encoded data removed]",
            "text/plain": [
              "<Figure size 432x288 with 1 Axes>"
            ]
          },
          "metadata": {
            "needs_background": "light"
          }
        }
      ],
      "source": [
        "get_error_plot(all_eta, all_mse_train, all_mse_test)"
      ]
    },
    {
      "cell_type": "code",
      "source": [
        "# Число деревьев в ансамбле\n",
        "n_trees = 25\n",
        "\n",
        "# для простоты примем коэффициенты равными 1\n",
        "coefs = [1] * n_trees\n",
        "\n",
        "# Максимальная глубина деревьев\n",
        "max_depth = 1\n",
        "\n",
        "# Шаг\n",
        "eta = 0.5\n",
        "\n",
        "all_depth = []\n",
        "all_mse_train = []\n",
        "all_mse_test = []\n",
        "\n",
        "while max_depth <= 20:\n",
        "    all_depth.append(max_depth)\n",
        "    trees, train_errors, test_errors = gb_fit(n_trees, max_depth, X_train, X_test, y_train, y_test, coefs, eta)\n",
        "    mse_train, mse_test = evaluate_alg(X_train, X_test, y_train, y_test, trees, coefs, eta)\n",
        "    all_mse_train.append(mse_train)\n",
        "    all_mse_test.append(mse_test)\n",
        "    max_depth += 1\n",
        "\n",
        "print(all_mse_train, all_mse_test)"
      ],
      "metadata": {
        "id": "DNECS63H0qNR"
      },
      "execution_count": null,
      "outputs": []
    },
    {
      "cell_type": "code",
      "source": [
        "plt.xlabel('Max depth')\n",
        "plt.ylabel('MSE')\n",
        "plt.xlim(1, 20)\n",
        "plt.plot(all_depth, all_mse_train, label='train error')\n",
        "plt.plot(all_depth, all_mse_test, label='test error')\n",
        "plt.legend(loc='upper right')\n",
        "plt.show()"
      ],
      "metadata": {
        "id": "KN1iTErl1M8k"
      },
      "execution_count": null,
      "outputs": []
    },
    {
      "cell_type": "markdown",
      "metadata": {
        "id": "ABXyo_mVrdku"
      },
      "source": [
        "## Домашние задания"
      ]
    },
    {
      "cell_type": "markdown",
      "metadata": {
        "id": "Zb641sUQrdku"
      },
      "source": [
        "1. Задание.\n",
        "    - Для реализованной в методичке модели градиентного бустинга построить графики зависимости ошибки от количества деревьев при разных значениях шага градиента и для разной глубины деревьев. \n",
        "    - Сделать выводы о зависимости ошибки от этих гиперпараметров (шаг градиента, максимальная глубина деревьев, количество деревьев). \n",
        "    - Подобрать оптимальные значения этих гиперпараметров (минимум ошибки на тесте при отсутствии переобучения).\n",
        "\n",
        "2. (\\*) Модифицировать реализованный алгоритм, чтобы получился стохастический градиентный бустинг. Размер подвыборки принять равным 0.5.    Сравнить на одном графике кривые  изменения ошибки на тестовой выборке в зависимости от  числа итераций.\n",
        "\n",
        "3. (\\*) Модифицировать алгоритм градиентного бустинга, взяв за основу реализацию решающего дерева из ДЗ_4 (для задачи регрессии). Сделать выводы о качестве алгоритма по сравнению с реализацией из п.1."
      ]
    },
    {
      "cell_type": "code",
      "source": [
        "class Node:\n",
        "    \n",
        "    def __init__(self, index, t, true_branch, false_branch):\n",
        "        self.index = index  # индекс признака, по которому ведется сравнение с порогом в этом узле\n",
        "        self.t = t  # значение порога\n",
        "        self.true_branch = true_branch  # поддерево, удовлетворяющее условию в узле\n",
        "        self.false_branch = false_branch  # поддерево, не удовлетворяющее условию в узле"
      ],
      "metadata": {
        "id": "_w1DBwxp8lXH"
      },
      "execution_count": null,
      "outputs": []
    },
    {
      "cell_type": "code",
      "source": [
        "def gb_predict(X, trees_list, coef_list, eta):\n",
        "    # Реализуемый алгоритм градиентного бустинга будет инициализироваться нулевыми значениями,\n",
        "    # поэтому все деревья из списка trees_list уже являются дополнительными и при предсказании \n",
        "    # прибавляются с шагом eta\n",
        "    return np.array([sum([\n",
        "        eta * coef * predict(X, alg)[0] for alg, coef in zip(trees_list, coef_list)]) \n",
        "                     for x in X])"
      ],
      "metadata": {
        "id": "KOGQxKa7ACOQ"
      },
      "execution_count": null,
      "outputs": []
    },
    {
      "cell_type": "code",
      "execution_count": null,
      "metadata": {
        "id": "HKscbwFtrdkv"
      },
      "outputs": [],
      "source": [
        "class Reg_Leaf:\n",
        "    \n",
        "    def __init__(self, data, labels):\n",
        "        self.data = data\n",
        "        self.labels = labels\n",
        "        self.prediction = self.predict()\n",
        "        \n",
        "    def predict(self):\n",
        "        prediction = np.mean(self.labels)\n",
        "        return prediction"
      ]
    },
    {
      "cell_type": "code",
      "source": [
        "# Разбиение датасета в узле\n",
        "\n",
        "def split(data, labels, index, t):\n",
        "    \n",
        "    left = np.where(data[:, index] <= t)\n",
        "    right = np.where(data[:, index] > t)\n",
        "        \n",
        "    true_data = data[left]\n",
        "    false_data = data[right]\n",
        "    true_labels = labels[left]\n",
        "    false_labels = labels[right]\n",
        "        \n",
        "    return true_data, false_data, true_labels, false_labels"
      ],
      "metadata": {
        "id": "0aFXOzsp8qsQ"
      },
      "execution_count": null,
      "outputs": []
    },
    {
      "cell_type": "code",
      "source": [
        "def reg_quality(left_labels, right_labels, current_criterion):\n",
        "\n",
        "    # доля выбоки, ушедшая в левое поддерево\n",
        "    p = float(left_labels.shape[0]) / (left_labels.shape[0] + right_labels.shape[0])\n",
        "\n",
        "    return current_criterion - p * np.var(left_labels) - (1 - p) * np.var(right_labels)"
      ],
      "metadata": {
        "id": "ZX6PHc_C81Fa"
      },
      "execution_count": null,
      "outputs": []
    },
    {
      "cell_type": "code",
      "source": [
        "def reg_find_best_split(data, labels, min_leaf):\n",
        "\n",
        "    current_criterion = np.var(data)\n",
        "      \n",
        "    best_quality = 0\n",
        "    best_t = None\n",
        "    best_index = None\n",
        "    \n",
        "    n_features = data.shape[1]\n",
        "    \n",
        "    for index in range(n_features):\n",
        "        # будем проверять только уникальные значения признака, исключая повторения\n",
        "        t_values = np.unique([row[index] for row in data])\n",
        "        \n",
        "        for t in t_values:\n",
        "            true_data, false_data, true_labels, false_labels = split(data, labels, index, t)\n",
        "            #  пропускаем разбиения, в которых в узле остается менее 5 объектов\n",
        "            if len(true_data) < min_leaf or len(false_data) < min_leaf:\n",
        "                continue\n",
        "        \n",
        "            current_quality = reg_quality(true_data, false_data, current_criterion)\n",
        "            \n",
        "            #  выбираем порог, на котором получается максимальный прирост качества\n",
        "            if current_quality > best_quality:\n",
        "                best_quality, best_t, best_index = current_quality, t, index\n",
        "\n",
        "    return best_quality, best_t, best_index"
      ],
      "metadata": {
        "id": "teKxot7s86im"
      },
      "execution_count": null,
      "outputs": []
    },
    {
      "cell_type": "code",
      "source": [
        "def reg_build_tree(data, labels, min_leaf=5, max_depth=None, depth=0, max_leaves=1000):\n",
        "    \n",
        "    quality, t, index = reg_find_best_split(data, labels, min_leaf)\n",
        "\n",
        "    global counter_node\n",
        "    global counter_leaf\n",
        "\n",
        "    #  Базовый случай - прекращаем рекурсию, когда нет прироста в качества\n",
        "    if quality == 0:\n",
        "        counter_leaf += 1\n",
        "        return Reg_Leaf(data, labels)\n",
        "\n",
        "    if (max_depth is not None) and (depth >= max_depth):\n",
        "        counter_leaf += 1\n",
        "        return Reg_Leaf(data, labels)\n",
        "\n",
        "    if max_leaves is not None:\n",
        "        if counter_leaf <= max_leaves or counter_node <= (max_leaves/2):\n",
        "              true_data, false_data, true_labels, false_labels = split(data, labels, index, t)\n",
        "              counter_node += 1\n",
        "              depth += 1\n",
        "\n",
        "    # Рекурсивно строим два поддерева\n",
        "              true_branch = reg_build_tree(true_data, true_labels, \n",
        "                                     min_leaf, max_depth, depth, (max_leaves-counter_leaf))\n",
        "              false_branch = reg_build_tree(false_data, false_labels, \n",
        "                                      min_leaf, max_depth, depth, (max_leaves-counter_leaf))\n",
        "        elif (counter_leaf > max_leaves) or ((counter_node + 1) > (max_leaves / 2)):\n",
        "              counter_leaf += 1\n",
        "              return Reg_Leaf(data, labels)\n",
        "        \n",
        "    else:\n",
        "        true_data, false_data, true_labels, false_labels = split(data, labels, index, t)\n",
        "        counter_node += 1\n",
        "        depth += 1 \n",
        "\n",
        "        # Рекурсивно строим два поддерева\n",
        "        true_branch = reg_build_tree(true_data, true_labels, \n",
        "                                 min_leaf, max_depth, depth, max_leaves)\n",
        "        false_branch = reg_build_tree(false_data, false_labels, \n",
        "                                  min_leaf, max_depth, depth, max_leaves)\n",
        "    \n",
        "    # Возвращаем класс узла со всеми поддеревьями, то есть целого дерева\n",
        "    return Node(index, t, true_branch, false_branch)"
      ],
      "metadata": {
        "id": "JMmB_wBb8-q_"
      },
      "execution_count": null,
      "outputs": []
    },
    {
      "cell_type": "code",
      "source": [
        "def mse (y, y_pred):\n",
        "  return np.mean ((y - y_pred)**2)"
      ],
      "metadata": {
        "id": "9TA6UY_j9C9c"
      },
      "execution_count": null,
      "outputs": []
    },
    {
      "cell_type": "code",
      "source": [
        "def classify_object(obj, node):\n",
        "\n",
        "    #  Останавливаем рекурсию, если достигли листа\n",
        "    if isinstance(node, Reg_Leaf):\n",
        "        answer = node.prediction\n",
        "        return answer\n",
        "\n",
        "    if obj[node.index] <= node.t:\n",
        "        return classify_object(obj, node.true_branch)\n",
        "    else:\n",
        "        return classify_object(obj, node.false_branch)"
      ],
      "metadata": {
        "id": "9pyBp5IgBgyv"
      },
      "execution_count": null,
      "outputs": []
    },
    {
      "cell_type": "code",
      "source": [
        "def predict(data, tree):\n",
        "    \n",
        "    classes = []\n",
        "    for obj in data:\n",
        "        prediction = classify_object(obj, tree)\n",
        "        classes.append(prediction)\n",
        "    return classes"
      ],
      "metadata": {
        "id": "m3rJm9tVBhXT"
      },
      "execution_count": null,
      "outputs": []
    },
    {
      "cell_type": "code",
      "source": [
        "def reg_gb_fit(n_trees, max_depth, X_train, X_test, y_train, y_test, coefs, eta):\n",
        "    \n",
        "    # eta - скорость обучения\n",
        "    # Деревья будем записывать в список\n",
        "    trees = []\n",
        "    \n",
        "    # Будем записывать ошибки на обучающей и тестовой выборке на каждой итерации в список\n",
        "    train_errors = []\n",
        "    test_errors = []\n",
        "    \n",
        "\n",
        "    for i in range(n_trees):\n",
        "        if len(trees) == 0:\n",
        "\n",
        "            tree = reg_build_tree(X_train, y_train, min_leaf=5, max_depth=5, depth=0, max_leaves=1000)\n",
        "\n",
        "        # инициализируем бустинг начальным алгоритмом, возвращающим ноль, \n",
        "        # поэтому первый алгоритм просто обучаем на выборке и добавляем в список\n",
        "            train_errors.append(mean_squared_error(y_train, gb_predict(X_train, trees, coefs, eta)))\n",
        "            test_errors.append(mean_squared_error(y_test, gb_predict(X_test, trees, coefs, eta)))\n",
        "        else:\n",
        "            # Получим ответы на текущей композиции\n",
        "            z_train = gb_predict(X_train, trees, coefs, eta)\n",
        "            \n",
        "            # алгоритмы, начиная со второго, обучаем на сдвиг\n",
        "            tree = reg_build_tree(X_train, bias(y_train, z_train), min_leaf=5, max_depth=5, depth=0, max_leaves=1000)\n",
        "            \n",
        "            train_errors.append(mean_squared_error(y_train, gb_predict(X_train, trees, coefs, eta)))\n",
        "            test_errors.append(mean_squared_error(y_test, gb_predict(X_test, trees, coefs, eta)))\n",
        "\n",
        "        trees.append(tree)\n",
        "        \n",
        "    return trees, train_errors, test_errors"
      ],
      "metadata": {
        "id": "4KlqpzsN9EwD"
      },
      "execution_count": null,
      "outputs": []
    },
    {
      "cell_type": "code",
      "source": [
        "tree = reg_build_tree(X_train, y_train, min_leaf=5, max_depth=5, depth=0, max_leaves=1000)"
      ],
      "metadata": {
        "id": "gO3W8h7qSNFW"
      },
      "execution_count": null,
      "outputs": []
    },
    {
      "cell_type": "code",
      "source": [
        "n_trees = 25\n",
        "max_depth = 5\n",
        "coefs = [1] * n_trees\n",
        "eta = 0.5\n",
        "counter_leaf = 0\n",
        "counter_node = 0\n",
        "trees, train_errors, test_errors = reg_gb_fit(n_trees, max_depth, X_train, X_test, y_train, y_test, coefs, eta)"
      ],
      "metadata": {
        "id": "w5WJoqyH92YE"
      },
      "execution_count": null,
      "outputs": []
    },
    {
      "cell_type": "code",
      "source": [
        "mse_train, mse_test = evaluate_alg(X_train, X_test, y_train, y_test, trees, coefs, eta)"
      ],
      "metadata": {
        "id": "GAUUKgYA-IP6"
      },
      "execution_count": null,
      "outputs": []
    },
    {
      "cell_type": "code",
      "source": [
        "mse_train"
      ],
      "metadata": {
        "id": "z4FkUdnZ-RAQ"
      },
      "execution_count": null,
      "outputs": []
    },
    {
      "cell_type": "code",
      "source": [
        "mse_test"
      ],
      "metadata": {
        "id": "SMg6B0ur-TEe"
      },
      "execution_count": null,
      "outputs": []
    },
    {
      "cell_type": "code",
      "source": [
        "def grad_boost (X_train, y_train):\n",
        "  count = 0 \n",
        "  X_train_boost = []\n",
        "  y_train_boost = []\n",
        "  while count < (X_train.shape[0]//2):\n",
        "      train_ind = np.random.randint(X_train.shape[0])\n",
        "      X_train_boost.append(X_train[train_ind])\n",
        "      y_train_boost.append(y_train[train_ind])\n",
        "  return X_train_boost, y_train_boost"
      ],
      "metadata": {
        "id": "rzB5KtUsFzmK"
      },
      "execution_count": null,
      "outputs": []
    },
    {
      "cell_type": "code",
      "source": [
        "def grad_boost_gb_fit(n_trees, max_depth, X_train, X_test, y_train, y_test, coefs, eta):\n",
        "    \n",
        "    # eta - скорость обучения\n",
        "    # Деревья будем записывать в список\n",
        "    trees = []\n",
        "    \n",
        "    # Будем записывать ошибки на обучающей и тестовой выборке на каждой итерации в список\n",
        "    train_errors = []\n",
        "    test_errors = []\n",
        "    \n",
        "    for i in range(n_trees):\n",
        "        tree = DecisionTreeRegressor(max_depth=max_depth, random_state=42)\n",
        "\n",
        "        # инициализируем бустинг начальным алгоритмом, возвращающим ноль, \n",
        "        # поэтому первый алгоритм просто обучаем на выборке и добавляем в список\n",
        "        if len(trees) == 0:\n",
        "            # обучаем первое дерево на обучающей выборке\n",
        "            \n",
        "            X_train_boost, y_train_boost = grad_boost (X_train, y_train)\n",
        "            \n",
        "            tree.fit(X_train_boost, y_train_boost)\n",
        "            \n",
        "            train_errors.append(mean_squared_error(y_train, gb_predict(X_train, trees, coefs, eta)))\n",
        "            test_errors.append(mean_squared_error(y_test, gb_predict(X_test, trees, coefs, eta)))\n",
        "        else:\n",
        "            # Получим ответы на текущей композиции\n",
        "            X_train_boost, y_train_boost = grad_boost (X_train, y_train)\n",
        "            z_train = gb_predict(X_train_boost, trees, coefs, eta)\n",
        "            \n",
        "            # алгоритмы, начиная со второго, обучаем на сдвиг\n",
        "            X_train_boost, y_train_boost = grad_boost (X_train, y_train)\n",
        "            tree.fit(X_train_boost, bias(y_train_boost, z_train))\n",
        "            \n",
        "            train_errors.append(mean_squared_error(y_train, gb_predict(X_train, trees, coefs, eta)))\n",
        "            test_errors.append(mean_squared_error(y_test, gb_predict(X_test, trees, coefs, eta)))\n",
        "\n",
        "        trees.append(tree)\n",
        "        \n",
        "    return trees, train_errors, test_errors"
      ],
      "metadata": {
        "id": "CGb5U9Z1E9hA"
      },
      "execution_count": null,
      "outputs": []
    },
    {
      "cell_type": "code",
      "source": [
        "# Число деревьев в ансамбле\n",
        "n_trees = 10\n",
        "\n",
        "# для простоты примем коэффициенты равными 1\n",
        "coefs = [1] * n_trees\n",
        "\n",
        "# Максимальная глубина деревьев\n",
        "max_depth = 3\n",
        "\n",
        "# Шаг\n",
        "eta = 0.05\n",
        "\n",
        "grad_boost_gb_fit(n_trees, max_depth, X_train, X_test, y_train, y_test, coefs, eta)"
      ],
      "metadata": {
        "id": "GZRmqmqfHL69"
      },
      "execution_count": null,
      "outputs": []
    },
    {
      "cell_type": "code",
      "source": [
        "mse_train, mse_test = evaluate_alg(X_train, X_test, y_train, y_test, trees, coefs, eta)"
      ],
      "metadata": {
        "id": "lWvmry2ZJ9JZ"
      },
      "execution_count": null,
      "outputs": []
    },
    {
      "cell_type": "code",
      "source": [
        "mse_train"
      ],
      "metadata": {
        "id": "0tFifQn9KB1C"
      },
      "execution_count": null,
      "outputs": []
    },
    {
      "cell_type": "code",
      "source": [
        "mse_test"
      ],
      "metadata": {
        "id": "VboJR2bUKDGF"
      },
      "execution_count": null,
      "outputs": []
    }
  ],
  "metadata": {
    "colab": {
      "collapsed_sections": [],
      "name": "Lesson_6.ipynb",
      "provenance": []
    },
    "kernelspec": {
      "display_name": "Python 3",
      "language": "python",
      "name": "python3"
    },
    "language_info": {
      "codemirror_mode": {
        "name": "ipython",
        "version": 3
      },
      "file_extension": ".py",
      "mimetype": "text/x-python",
      "name": "python",
      "nbconvert_exporter": "python",
      "pygments_lexer": "ipython3",
      "version": "3.7.3"
    },
    "toc": {
      "base_numbering": 1,
      "nav_menu": {},
      "number_sections": false,
      "sideBar": true,
      "skip_h1_title": true,
      "title_cell": "Содержание",
      "title_sidebar": "Содержание",
      "toc_cell": false,
      "toc_position": {},
      "toc_section_display": true,
      "toc_window_display": false
    }
  },
  "nbformat": 4,
  "nbformat_minor": 0
}