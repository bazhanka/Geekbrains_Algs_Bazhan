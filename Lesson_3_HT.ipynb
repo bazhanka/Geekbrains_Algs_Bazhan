{
  "cells": [
    {
      "cell_type": "markdown",
      "metadata": {
        "id": "n0L6UQeOo2C9"
      },
      "source": [
        "# Урок 3. Логистическая регрессия. Log Loss"
      ]
    },
    {
      "cell_type": "markdown",
      "metadata": {
        "toc": true,
        "id": "TWZXC7Pyo2DC"
      },
      "source": [
        "<h1>План урока<span class=\"tocSkip\"></span></h1>\n",
        "<div class=\"toc\"><ul class=\"toc-item\"><li><span><a href=\"#Логистическая-регрессия\" data-toc-modified-id=\"Логистическая-регрессия-1\">Логистическая регрессия</a></span></li><li><span><a href=\"#Логистическая-функция-потерь\" data-toc-modified-id=\"Логистическая-функция-потерь-2\">Логистическая функция потерь</a></span></li><li><span><a href=\"#Пример\" data-toc-modified-id=\"Пример-3\">Пример</a></span></li><li><span><a href=\"#Домашние-задания\" data-toc-modified-id=\"Домашние-задания-4\">Домашние задания</a></span></li></ul></div>"
      ]
    },
    {
      "cell_type": "code",
      "execution_count": 2,
      "metadata": {
        "id": "zhwkeWtb1O0w"
      },
      "outputs": [],
      "source": [
        "import numpy as np\n",
        "import matplotlib.pyplot as plt"
      ]
    },
    {
      "cell_type": "code",
      "execution_count": 3,
      "metadata": {
        "id": "b3ULEgyFo2DE"
      },
      "outputs": [],
      "source": [
        "%matplotlib inline\n",
        "plt.style.use('seaborn-ticks')\n",
        "plt.rcParams.update({'font.size': 14})"
      ]
    },
    {
      "cell_type": "markdown",
      "metadata": {
        "id": "Z4JEwlZKo2DE"
      },
      "source": [
        "### Логистическая регрессия"
      ]
    },
    {
      "cell_type": "markdown",
      "metadata": {
        "id": "dQjUIYwyo2DF"
      },
      "source": [
        "Обобщение линейной регрессии на задачу классификации."
      ]
    },
    {
      "cell_type": "markdown",
      "metadata": {
        "id": "LO9M00cMo2DF"
      },
      "source": [
        "<img src='img/algorithmes-de-classification-regression-logistique-9.jpg' width=400 align='left'> </img>"
      ]
    },
    {
      "cell_type": "markdown",
      "metadata": {
        "id": "GsRDnb4Ho2DF"
      },
      "source": [
        "$\\vec{y}=X\\vec{w}$"
      ]
    },
    {
      "cell_type": "code",
      "metadata": {
        "colab": {
          "base_uri": "https://localhost:8080/",
          "height": 131
        },
        "id": "fS4ZSyTrPD6V",
        "outputId": "75567134-eb53-4e15-9dbc-42d6f3e605d3"
      },
      "source": [
        "Проблемы:  \n",
        "1) Если предсказывать с помощью линейной регрессии, то могут появляться такие числа:   \n",
        "np.dot(X, w) = [-12, 2, 1.5, 0.0005, 1000 ...]  \n",
        "2) MSE, как функция потерь, не подходит."
      ],
      "execution_count": 4,
      "outputs": [
        {
          "output_type": "error",
          "ename": "SyntaxError",
          "evalue": "ignored",
          "traceback": [
            "\u001b[0;36m  File \u001b[0;32m\"<ipython-input-4-63110870ca6d>\"\u001b[0;36m, line \u001b[0;32m1\u001b[0m\n\u001b[0;31m    Проблемы:\u001b[0m\n\u001b[0m               ^\u001b[0m\n\u001b[0;31mSyntaxError\u001b[0m\u001b[0;31m:\u001b[0m invalid syntax\n"
          ]
        }
      ]
    },
    {
      "cell_type": "code",
      "metadata": {
        "id": "IFlAQmfoQCqc"
      },
      "source": [
        "p = [0, 1] - вероятность"
      ],
      "execution_count": null,
      "outputs": []
    },
    {
      "cell_type": "code",
      "metadata": {
        "id": "7pM_ENmXPxMN"
      },
      "source": [
        "$odds = \\frac{p}{1 - p} = \\frac{p_1}{p_0}$ - шансы"
      ],
      "execution_count": null,
      "outputs": []
    },
    {
      "cell_type": "code",
      "execution_count": null,
      "metadata": {
        "id": "OS_TUIgdPl1M"
      },
      "outputs": [],
      "source": [
        "0.5 / (1 - 0.5)"
      ]
    },
    {
      "cell_type": "code",
      "execution_count": null,
      "metadata": {
        "id": "J3tXMyWOPlh7"
      },
      "outputs": [],
      "source": [
        "0.01 / (1 - 0.01)"
      ]
    },
    {
      "cell_type": "code",
      "execution_count": null,
      "metadata": {
        "id": "q61xUBtbPlJp"
      },
      "outputs": [],
      "source": [
        "0.9 / (1 - 0.9)"
      ]
    },
    {
      "cell_type": "code",
      "execution_count": null,
      "metadata": {
        "id": "ImNIlxczQvf_"
      },
      "outputs": [],
      "source": [
        "p = 1e-2\n",
        "np.log(p / (1 - p))                       "
      ]
    },
    {
      "cell_type": "code",
      "execution_count": null,
      "metadata": {
        "id": "MvFKM0w7Rndj"
      },
      "outputs": [],
      "source": [
        "p = 0.99\n",
        "np.log(p / (1 - p))"
      ]
    },
    {
      "cell_type": "code",
      "metadata": {
        "id": "5GuJhwb6U-r_"
      },
      "source": [
        "$$X\\vec{w} = \\ln\\Big(\\frac{\\vec{p}}{1 - \\vec{p}}\\Big)$$\n",
        "$$\\exp(X\\vec{w}) = \\frac{\\vec{p}}{1 - \\vec{p}}$$\n",
        "$$(1-\\vec{p})\\exp(X\\vec{w}) = \\vec{p}$$\n",
        "$$\\exp(X\\vec{w})-\\vec{p}\\exp(X\\vec{w}) = \\vec{p}$$\n",
        "$$\\exp(X\\vec{w})=\\vec{p}(1+\\exp(X\\vec{w}))$$\n",
        "$$\\vec{p}=\\frac{\\exp{(X\\vec{w})}}{1+\\exp{(X\\vec{w})}}$$\n",
        "$$\\vec{p}=\\frac{1}{1+\\exp{(-X\\vec{w})}}=\\text{sigmoid}(-X\\vec {w})$$"
      ],
      "execution_count": null,
      "outputs": []
    },
    {
      "cell_type": "code",
      "execution_count": 13,
      "metadata": {
        "id": "fsHvq2bzo2DI"
      },
      "outputs": [],
      "source": [
        "def sigmoid(z):\n",
        "    res = 1 / (1 + np.exp(-z))\n",
        "    return res"
      ]
    },
    {
      "cell_type": "code",
      "execution_count": 14,
      "metadata": {
        "colab": {
          "base_uri": "https://localhost:8080/",
          "height": 290
        },
        "id": "SSyN766uo2DJ",
        "outputId": "0621d620-43af-4528-cdb0-004e9bfb1a93"
      },
      "outputs": [
        {
          "output_type": "display_data",
          "data": {
            "image/png": "[encoded data removed]",
            "text/plain": [
              "<Figure size 432x288 with 1 Axes>"
            ]
          },
          "metadata": {}
        }
      ],
      "source": [
        "# сигмоида\n",
        "z = np.linspace(-10, 10, 101)\n",
        "probabilities = sigmoid(z)\n",
        "plt.plot(z, probabilities)\n",
        "plt.xlabel('$z=-Xw$')\n",
        "plt.ylabel('p')\n",
        "plt.grid();"
      ]
    },
    {
      "cell_type": "markdown",
      "metadata": {
        "id": "-fwgmdZdo2DJ"
      },
      "source": [
        "### Логистическая функция потерь "
      ]
    },
    {
      "cell_type": "markdown",
      "metadata": {
        "id": "Qd7J03-po2DJ"
      },
      "source": [
        "для одного объекта: $\\text{logloss}=-{y} \\ln({p}) - (1-{y})\\ln(1-{p})$\n",
        "\n",
        "$y=0/1$ - истинный класс   \n",
        "$p=[0,1]$ - ответ алгоритма\n"
      ]
    },
    {
      "cell_type": "code",
      "execution_count": 5,
      "metadata": {
        "id": "qMR5pOA38dDw"
      },
      "outputs": [],
      "source": [
        "def calc_logloss(y, y_pred):\n",
        "    a = np.clip (y, 0.01, 0.99)\n",
        "    a_pred = np.clip (y_pred, 0.01, 0.99)\n",
        "    err = np.mean(- a * np.log(a_pred) - (1.0 - a) * np.log(1.0 - a_pred))\n",
        "    return err\n",
        "\n"
      ]
    },
    {
      "cell_type": "code",
      "execution_count": 6,
      "metadata": {
        "colab": {
          "base_uri": "https://localhost:8080/"
        },
        "id": "R6zfOHMrBvnX",
        "outputId": "62b568a5-ac58-4bdd-842a-eb009e47bccb"
      },
      "outputs": [
        {
          "output_type": "execute_result",
          "data": {
            "text/plain": [
              "4.559218987486745"
            ]
          },
          "metadata": {},
          "execution_count": 6
        }
      ],
      "source": [
        "# Пример применения\n",
        "y_true = 0\n",
        "y_pred = 1\n",
        "\n",
        "calc_logloss(y_true, y_pred)"
      ]
    },
    {
      "cell_type": "markdown",
      "metadata": {
        "id": "GeKDiO_xo2DJ"
      },
      "source": [
        "$$\\text{logloss}=\\frac{1}{n}\\big(-\\vec{y} \\ln(\\vec{p}) - (1-\\vec{y})\\ln(1-\\vec{p})\\big)$$\n",
        "$$\\vec{p}=\\text{sigmoid}(-X{\\vec{w}})=\\frac{1}{1+\\text{exp}(-X{\\vec{w}})}$$\n",
        "$$\\frac{\\mathrm d}{\\mathrm d\\vec{w}}\\text{logloss}=\\frac{1}{n}(\\vec{p}-\\vec{y})X$$\n",
        "$$\\vec{w}=\\vec{w}-\\alpha \\frac{1}{n}(\\vec{p}-\\vec{y})X$$"
      ]
    },
    {
      "cell_type": "code",
      "metadata": {
        "id": "e6TH-mkPItb6"
      },
      "source": [
        "### Пример"
      ],
      "execution_count": null,
      "outputs": []
    },
    {
      "cell_type": "code",
      "execution_count": 7,
      "metadata": {
        "colab": {
          "base_uri": "https://localhost:8080/"
        },
        "id": "qJT4nGk3o2DK",
        "outputId": "ea0bf21f-57d7-44c0-a1b8-ccd9f7f10504"
      },
      "outputs": [
        {
          "output_type": "execute_result",
          "data": {
            "text/plain": [
              "array([[1.00e+00, 1.00e+00, 5.00e+02, 1.00e+00],\n",
              "       [1.00e+00, 1.00e+00, 7.00e+02, 1.00e+00],\n",
              "       [1.00e+00, 2.00e+00, 7.50e+02, 2.00e+00],\n",
              "       [1.00e+00, 1.00e+00, 6.00e+02, 1.00e+00],\n",
              "       [1.00e+00, 3.00e+00, 1.45e+03, 2.00e+00],\n",
              "       [1.00e+00, 0.00e+00, 8.00e+02, 1.00e+00],\n",
              "       [1.00e+00, 5.00e+00, 1.50e+03, 3.00e+00],\n",
              "       [1.00e+00, 1.00e+01, 2.00e+03, 3.00e+00],\n",
              "       [1.00e+00, 1.00e+00, 4.50e+02, 1.00e+00],\n",
              "       [1.00e+00, 2.00e+00, 1.00e+03, 2.00e+00]])"
            ]
          },
          "metadata": {},
          "execution_count": 7
        }
      ],
      "source": [
        "X = np.array([[1, 1, 1, 1, 1, 1, 1, 1, 1, 1],\n",
        "              [1, 1, 2, 1, 3, 0, 5, 10, 1, 2],  # стаж репетитора\n",
        "              [500, 700, 750, 600, 1450,        # средняя стоимость занятия\n",
        "               800, 1500, 2000, 450, 1000],\n",
        "              [1, 1, 2, 1, 2, 1, 3, 3, 1, 2]],  # квалификация репетитора\n",
        "              dtype = np.float64).T \n",
        "\n",
        "y = np.array([0, 0, 1, 0, 1, 0, 1, 0, 1, 1]) # поступил или нет ученик на специальность Математика\n",
        "X"
      ]
    },
    {
      "cell_type": "code",
      "execution_count": 8,
      "metadata": {
        "colab": {
          "base_uri": "https://localhost:8080/"
        },
        "id": "OTk747cGo2DK",
        "outputId": "475cc8f3-09ac-4b4e-da47-79e0c2673557"
      },
      "outputs": [
        {
          "output_type": "execute_result",
          "data": {
            "text/plain": [
              "array([-0.97958969, -0.56713087, -0.46401617, -0.77336028,  0.97958969,\n",
              "       -0.36090146,  1.08270439,  2.11385144, -1.08270439,  0.05155735])"
            ]
          },
          "metadata": {},
          "execution_count": 8
        }
      ],
      "source": [
        "def standard_scaler(x):\n",
        "    res = (x - x.mean()) / x.std()\n",
        "    return res\n",
        "\n",
        "X_st = X.copy()\n",
        "X_st[:, 2] = standard_scaler(X[:, 2])\n",
        "X_st[:, 2]"
      ]
    },
    {
      "cell_type": "code",
      "execution_count": 9,
      "metadata": {
        "id": "qtgUN3LW-UIq"
      },
      "outputs": [],
      "source": [
        "# логистическая регрессия\n",
        "def eval_LR_model(X, y, iterations, alpha=1e-4):\n",
        "    np.random.seed(42)\n",
        "    w = np.random.randn(X.shape[1])\n",
        "    n = X.shape[0]\n",
        "    for i in range(1, iterations + 1):\n",
        "        z = np.dot(X, w) # log(p/(1-p))\n",
        "        y_pred = sigmoid(z) # p [0, 1]\n",
        "        err = calc_logloss(y, y_pred)\n",
        "        w -= alpha * (1/n * np.dot((y_pred - y), X))\n",
        "        if i % (iterations / 10) == 0:\n",
        "            print(i, w, err)\n",
        "    return w"
      ]
    },
    {
      "cell_type": "code",
      "execution_count": 18,
      "metadata": {
        "colab": {
          "base_uri": "https://localhost:8080/"
        },
        "id": "oqX7loklBmYZ",
        "outputId": "ba87a14b-0bf3-4ae0-cd1a-8e943c400ccc"
      },
      "outputs": [
        {
          "output_type": "stream",
          "name": "stdout",
          "text": [
            "100 [-1.81166057 -0.96465672  0.91089858  2.6474193 ] 0.4513111565314807\n",
            "200 [-3.19827567 -1.00435891  0.4012843   3.53896433] 0.4032505534921082\n",
            "300 [-4.28257014 -1.02721094 -0.02094291  4.23932749] 0.37390397717699797\n",
            "400 [-5.16608083 -1.05575915 -0.35257265  4.8373846 ] 0.35439676167516543\n",
            "500 [-5.91428325 -1.08792409 -0.6228076   5.36456272] 0.3404185489744527\n",
            "600 [-6.5682665  -1.12143798 -0.85195956  5.83948957] 0.32976953767501227\n",
            "700 [-7.15423453 -1.15515809 -1.05254136  6.27479246] 0.32124616420275254\n",
            "800 [-7.68942527 -1.18856924 -1.23241966  6.67931381] 0.3140996954814835\n",
            "900 [-8.18555506 -1.22145187 -1.39674368  7.05936843] 0.30792786817861606\n",
            "1000 [-8.650831   -1.25372329 -1.54901597  7.41955336] 0.30248237275468814\n"
          ]
        }
      ],
      "source": [
        "w = eval_LR_model(X_st, y, 1000, 6e-1)"
      ]
    },
    {
      "cell_type": "markdown",
      "source": [
        "6e-1 (1000) [-8.650831   -1.25372329 -1.54901597  7.41955336] 0.30248237275468814\n"
      ],
      "metadata": {
        "id": "JWJoX4m5u79a"
      }
    },
    {
      "cell_type": "markdown",
      "source": [
        "2e-4 (1000) [ 0.42368488 -0.36360644  0.6425442   1.41506565] 0.8858675816779247\n"
      ],
      "metadata": {
        "id": "1QByzjYnyTCc"
      }
    },
    {
      "cell_type": "code",
      "execution_count": 16,
      "metadata": {
        "id": "axCuxYJfo2DK"
      },
      "outputs": [],
      "source": [
        "def calc_pred_proba(X, w):\n",
        "  y_pred = sigmoid(np.dot(X_st, w))\n",
        "  y_pred_proba = y_pred.round(2)\n",
        "  return y_pred_proba\n",
        "\n",
        "def calc_pred(X, w, div=0.5):\n",
        "  fordiv = calc_pred_proba(X,w)\n",
        "  y_pred = np.where(fordiv > div, 1, 0)\n",
        "  return y_pred"
      ]
    },
    {
      "cell_type": "code",
      "source": [
        "y_pred = calc_pred (X, w, 0.5)\n",
        "print (y_pred, y)"
      ],
      "metadata": {
        "colab": {
          "base_uri": "https://localhost:8080/"
        },
        "id": "JNvaeHGkzQlU",
        "outputId": "f951d61f-8501-4bd7-c4a8-8c426f6f2b4c"
      },
      "execution_count": 23,
      "outputs": [
        {
          "output_type": "stream",
          "name": "stdout",
          "text": [
            "[0 0 1 0 1 0 1 0 0 1] [0 0 1 0 1 0 1 0 1 1]\n"
          ]
        }
      ]
    },
    {
      "cell_type": "code",
      "source": [
        "def err_matrix(y, y_pred):\n",
        "  tp = 0\n",
        "  tn = 0\n",
        "  fp = 0\n",
        "  fn = 0\n",
        "  index = 0\n",
        "  while index < len(y):\n",
        "    if y[index] == 1:\n",
        "      if y_pred[index] == 1:\n",
        "        tp += 1\n",
        "        index+=1\n",
        "      else:\n",
        "        fn += 1\n",
        "        index+=1\n",
        "    else:\n",
        "      if y_pred[index] == 0:\n",
        "        tn += 1\n",
        "        index+=1\n",
        "      else:\n",
        "        fp += 1\n",
        "        index+=1\n",
        "  return tp, tn, fp, fn\n",
        "      \n"
      ],
      "metadata": {
        "id": "CYS64EDfzvD9"
      },
      "execution_count": 26,
      "outputs": []
    },
    {
      "cell_type": "code",
      "source": [
        "err_matrix(y, y_pred)\n",
        "tp = err_matrix(y, y_pred) [0]\n",
        "tn = err_matrix(y, y_pred) [1]\n",
        "fp = err_matrix(y, y_pred) [2]\n",
        "fn = err_matrix(y, y_pred) [3]"
      ],
      "metadata": {
        "id": "ITTpf_dN2Rqf"
      },
      "execution_count": 31,
      "outputs": []
    },
    {
      "cell_type": "code",
      "source": [
        "accuracy = (tp+tn)/(tp+tn+fp+fn)\n",
        "precision = tp/(tp+fp) \n",
        "recall = tp/(tp+fn)\n",
        "f1 = (2*precision*recall)/(precision+recall)\n",
        "print (accuracy, precision, recall, f1)"
      ],
      "metadata": {
        "colab": {
          "base_uri": "https://localhost:8080/"
        },
        "id": "Zfo041oBrohQ",
        "outputId": "ed1ac4ab-73a3-432a-d300-66f4a45effe9"
      },
      "execution_count": 36,
      "outputs": [
        {
          "output_type": "stream",
          "name": "stdout",
          "text": [
            "0.9 1.0 0.8 0.888888888888889\n"
          ]
        }
      ]
    },
    {
      "cell_type": "code",
      "metadata": {
        "id": "Mbwxo9NqbLJy"
      },
      "source": [
        "### Домашние задания"
      ],
      "execution_count": null,
      "outputs": []
    },
    {
      "cell_type": "markdown",
      "metadata": {
        "id": "u6lQCL1Wo2DL"
      },
      "source": [
        "1. Измените функцию `calc_logloss` так, чтобы нули по возможности не попадали в `np.log` (как вариант - использовать `np.clip` или `np.where`).  \n",
        "2. На данных из урока изучите влияние гиперпараметров на ошибку алгоритма. Подберите аргументы функции `eval_LR_model` для логистической регрессии таким образом, чтобы log loss не превышал значение `0.3` `(0.1).` Как изменились веса?\n",
        "3. Создайте функцию `calc_pred_proba`, возвращающую предсказанную вероятность класса 1 (на вход подаются значения признаков Х и веса, которые уже посчитаны функцией `eval_LR_model`, на выходе - массив `y_pred_proba`).\n",
        "4. Создайте функцию `calc_pred`, возвращающую предсказанный класс (на вход подаются значения признаков Х и веса, которые уже посчитаны функцией `eval_LR_model`, а также порог вероятности, на выходе - массив `y_pred`).\n",
        "5. (\\*) Посчитайте accuracy, матрицу ошибок, precision и recall, а также F1-score.\n",
        "6. (\\*) Могла ли модель переобучиться? Почему?"
      ]
    },
    {
      "cell_type": "markdown",
      "metadata": {
        "id": "noYDTRlGo2DL"
      },
      "source": [
        "Методичка (исправленная) https://colab.research.google.com/drive/1DxLcLdf2Lns12qOqGVvapDha5tiltM1f?usp=sharing"
      ]
    },
    {
      "cell_type": "code",
      "execution_count": null,
      "metadata": {
        "id": "WNYBogtTo2DL"
      },
      "outputs": [],
      "source": [
        ""
      ]
    }
  ],
  "metadata": {
    "colab": {
      "collapsed_sections": [],
      "name": "Lesson_3 (1).ipynb",
      "provenance": []
    },
    "kernelspec": {
      "display_name": "Python 3",
      "language": "python",
      "name": "python3"
    },
    "language_info": {
      "codemirror_mode": {
        "name": "ipython",
        "version": 3
      },
      "file_extension": ".py",
      "mimetype": "text/x-python",
      "name": "python",
      "nbconvert_exporter": "python",
      "pygments_lexer": "ipython3",
      "version": "3.7.3"
    },
    "toc": {
      "base_numbering": 1,
      "nav_menu": {},
      "number_sections": false,
      "sideBar": true,
      "skip_h1_title": true,
      "title_cell": "План урока",
      "title_sidebar": "План",
      "toc_cell": true,
      "toc_position": {
        "height": "calc(100% - 180px)",
        "left": "10px",
        "top": "150px",
        "width": "165px"
      },
      "toc_section_display": true,
      "toc_window_display": false
    }
  },
  "nbformat": 4,
  "nbformat_minor": 0
}